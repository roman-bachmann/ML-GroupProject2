{
 "cells": [
  {
   "cell_type": "markdown",
   "metadata": {},
   "source": [
    "# Twitter Sentiment Classification - Version 2"
   ]
  },
  {
   "cell_type": "code",
   "execution_count": 2,
   "metadata": {},
   "outputs": [],
   "source": [
    "import os \n",
    "import pandas as pd\n",
    "import numpy as np\n",
    "\n",
    "from sklearn.model_selection import train_test_split\n",
    "from sklearn.metrics import accuracy_score\n",
    "\n",
    "import gensim\n",
    "import Cython\n",
    "\n",
    "import torch\n",
    "import torch.nn as nn\n",
    "import torch.nn.functional as F\n",
    "from torch.autograd import Variable\n",
    "from torch.utils.data import Dataset, TensorDataset, DataLoader\n",
    "\n",
    "from helpers import *\n",
    "from data import create_csv_submission"
   ]
  },
  {
   "cell_type": "code",
   "execution_count": 3,
   "metadata": {},
   "outputs": [],
   "source": [
    "cuda_available = torch.cuda.is_available()"
   ]
  },
  {
   "cell_type": "markdown",
   "metadata": {},
   "source": [
    "## Step 1: Load tweets"
   ]
  },
  {
   "cell_type": "code",
   "execution_count": 4,
   "metadata": {},
   "outputs": [],
   "source": [
    "DATA_PATH = '../twitter-datasets/'\n",
    "MODEL_PATH = '../models/'\n",
    "\n",
    "#TRAIN_NEG_PATH = os.path.join(DATA_PATH, 'train_neg.txt') # 100'000 negative tweets\n",
    "#TRAIN_POS_PATH = os.path.join(DATA_PATH, 'train_pos.txt') # 100'000 positive tweets\n",
    "TRAIN_NEG_PATH = os.path.join(DATA_PATH, 'train_neg_full.txt') # 2'500'000 negative tweets\n",
    "TRAIN_POS_PATH = os.path.join(DATA_PATH, 'train_pos_full.txt') # 2'500'000 positive tweets\n",
    "TEST_PATH = os.path.join(DATA_PATH, 'test_data.txt')"
   ]
  },
  {
   "cell_type": "code",
   "execution_count": 5,
   "metadata": {},
   "outputs": [],
   "source": [
    "x_text_train, y_train_full = load_data_and_labels(TRAIN_POS_PATH, TRAIN_NEG_PATH)"
   ]
  },
  {
   "cell_type": "code",
   "execution_count": 6,
   "metadata": {},
   "outputs": [],
   "source": [
    "x_text_test = load_test_data(TEST_PATH)"
   ]
  },
  {
   "cell_type": "markdown",
   "metadata": {},
   "source": [
    "## Step 2: Build word2vec vocabulary"
   ]
  },
  {
   "cell_type": "code",
   "execution_count": 7,
   "metadata": {},
   "outputs": [],
   "source": [
    "vector_length = 100"
   ]
  },
  {
   "cell_type": "code",
   "execution_count": 6,
   "metadata": {},
   "outputs": [
    {
     "ename": "KeyboardInterrupt",
     "evalue": "",
     "output_type": "error",
     "traceback": [
      "\u001b[0;31m---------------------------------------------------------------------------\u001b[0m",
      "\u001b[0;31mKeyboardInterrupt\u001b[0m                         Traceback (most recent call last)",
      "\u001b[0;32m<ipython-input-6-03ace8339205>\u001b[0m in \u001b[0;36m<module>\u001b[0;34m()\u001b[0m\n\u001b[0;32m----> 1\u001b[0;31m \u001b[0mw2v_model\u001b[0m \u001b[0;34m=\u001b[0m \u001b[0mgensim\u001b[0m\u001b[0;34m.\u001b[0m\u001b[0mmodels\u001b[0m\u001b[0;34m.\u001b[0m\u001b[0mWord2Vec\u001b[0m\u001b[0;34m(\u001b[0m\u001b[0mx_text_train\u001b[0m \u001b[0;34m+\u001b[0m \u001b[0mx_text_test\u001b[0m\u001b[0;34m,\u001b[0m \u001b[0mmin_count\u001b[0m\u001b[0;34m=\u001b[0m\u001b[0;36m1\u001b[0m\u001b[0;34m,\u001b[0m \u001b[0mworkers\u001b[0m\u001b[0;34m=\u001b[0m\u001b[0;36m4\u001b[0m\u001b[0;34m,\u001b[0m \u001b[0msize\u001b[0m\u001b[0;34m=\u001b[0m\u001b[0mvector_length\u001b[0m\u001b[0;34m)\u001b[0m\u001b[0;34m\u001b[0m\u001b[0m\n\u001b[0m",
      "\u001b[0;32m/usr/local/anaconda3/envs/ml/lib/python3.5/site-packages/gensim/models/word2vec.py\u001b[0m in \u001b[0;36m__init__\u001b[0;34m(self, sentences, size, alpha, window, min_count, max_vocab_size, sample, seed, workers, min_alpha, sg, hs, negative, cbow_mean, hashfxn, iter, null_word, trim_rule, sorted_vocab, batch_words, compute_loss)\u001b[0m\n\u001b[1;32m    541\u001b[0m                 \u001b[0;32mraise\u001b[0m \u001b[0mTypeError\u001b[0m\u001b[0;34m(\u001b[0m\u001b[0;34m\"You can't pass a generator as the sentences argument. Try an iterator.\"\u001b[0m\u001b[0;34m)\u001b[0m\u001b[0;34m\u001b[0m\u001b[0m\n\u001b[1;32m    542\u001b[0m             \u001b[0mself\u001b[0m\u001b[0;34m.\u001b[0m\u001b[0mbuild_vocab\u001b[0m\u001b[0;34m(\u001b[0m\u001b[0msentences\u001b[0m\u001b[0;34m,\u001b[0m \u001b[0mtrim_rule\u001b[0m\u001b[0;34m=\u001b[0m\u001b[0mtrim_rule\u001b[0m\u001b[0;34m)\u001b[0m\u001b[0;34m\u001b[0m\u001b[0m\n\u001b[0;32m--> 543\u001b[0;31m             \u001b[0mself\u001b[0m\u001b[0;34m.\u001b[0m\u001b[0mtrain\u001b[0m\u001b[0;34m(\u001b[0m\u001b[0msentences\u001b[0m\u001b[0;34m,\u001b[0m \u001b[0mtotal_examples\u001b[0m\u001b[0;34m=\u001b[0m\u001b[0mself\u001b[0m\u001b[0;34m.\u001b[0m\u001b[0mcorpus_count\u001b[0m\u001b[0;34m,\u001b[0m \u001b[0mepochs\u001b[0m\u001b[0;34m=\u001b[0m\u001b[0mself\u001b[0m\u001b[0;34m.\u001b[0m\u001b[0miter\u001b[0m\u001b[0;34m,\u001b[0m \u001b[0mstart_alpha\u001b[0m\u001b[0;34m=\u001b[0m\u001b[0mself\u001b[0m\u001b[0;34m.\u001b[0m\u001b[0malpha\u001b[0m\u001b[0;34m,\u001b[0m \u001b[0mend_alpha\u001b[0m\u001b[0;34m=\u001b[0m\u001b[0mself\u001b[0m\u001b[0;34m.\u001b[0m\u001b[0mmin_alpha\u001b[0m\u001b[0;34m)\u001b[0m\u001b[0;34m\u001b[0m\u001b[0m\n\u001b[0m\u001b[1;32m    544\u001b[0m         \u001b[0;32melse\u001b[0m\u001b[0;34m:\u001b[0m\u001b[0;34m\u001b[0m\u001b[0m\n\u001b[1;32m    545\u001b[0m             \u001b[0;32mif\u001b[0m \u001b[0mtrim_rule\u001b[0m \u001b[0;32mis\u001b[0m \u001b[0;32mnot\u001b[0m \u001b[0;32mNone\u001b[0m\u001b[0;34m:\u001b[0m\u001b[0;34m\u001b[0m\u001b[0m\n",
      "\u001b[0;32m/usr/local/anaconda3/envs/ml/lib/python3.5/site-packages/gensim/models/word2vec.py\u001b[0m in \u001b[0;36mtrain\u001b[0;34m(self, sentences, total_examples, total_words, epochs, start_alpha, end_alpha, word_count, queue_factor, report_delay, compute_loss)\u001b[0m\n\u001b[1;32m   1048\u001b[0m \u001b[0;34m\u001b[0m\u001b[0m\n\u001b[1;32m   1049\u001b[0m         \u001b[0;32mwhile\u001b[0m \u001b[0munfinished_worker_count\u001b[0m \u001b[0;34m>\u001b[0m \u001b[0;36m0\u001b[0m\u001b[0;34m:\u001b[0m\u001b[0;34m\u001b[0m\u001b[0m\n\u001b[0;32m-> 1050\u001b[0;31m             \u001b[0mreport\u001b[0m \u001b[0;34m=\u001b[0m \u001b[0mprogress_queue\u001b[0m\u001b[0;34m.\u001b[0m\u001b[0mget\u001b[0m\u001b[0;34m(\u001b[0m\u001b[0;34m)\u001b[0m  \u001b[0;31m# blocks if workers too slow\u001b[0m\u001b[0;34m\u001b[0m\u001b[0m\n\u001b[0m\u001b[1;32m   1051\u001b[0m             \u001b[0;32mif\u001b[0m \u001b[0mreport\u001b[0m \u001b[0;32mis\u001b[0m \u001b[0;32mNone\u001b[0m\u001b[0;34m:\u001b[0m  \u001b[0;31m# a thread reporting that it finished\u001b[0m\u001b[0;34m\u001b[0m\u001b[0m\n\u001b[1;32m   1052\u001b[0m                 \u001b[0munfinished_worker_count\u001b[0m \u001b[0;34m-=\u001b[0m \u001b[0;36m1\u001b[0m\u001b[0;34m\u001b[0m\u001b[0m\n",
      "\u001b[0;32m/usr/local/anaconda3/envs/ml/lib/python3.5/queue.py\u001b[0m in \u001b[0;36mget\u001b[0;34m(self, block, timeout)\u001b[0m\n\u001b[1;32m    162\u001b[0m             \u001b[0;32melif\u001b[0m \u001b[0mtimeout\u001b[0m \u001b[0;32mis\u001b[0m \u001b[0;32mNone\u001b[0m\u001b[0;34m:\u001b[0m\u001b[0;34m\u001b[0m\u001b[0m\n\u001b[1;32m    163\u001b[0m                 \u001b[0;32mwhile\u001b[0m \u001b[0;32mnot\u001b[0m \u001b[0mself\u001b[0m\u001b[0;34m.\u001b[0m\u001b[0m_qsize\u001b[0m\u001b[0;34m(\u001b[0m\u001b[0;34m)\u001b[0m\u001b[0;34m:\u001b[0m\u001b[0;34m\u001b[0m\u001b[0m\n\u001b[0;32m--> 164\u001b[0;31m                     \u001b[0mself\u001b[0m\u001b[0;34m.\u001b[0m\u001b[0mnot_empty\u001b[0m\u001b[0;34m.\u001b[0m\u001b[0mwait\u001b[0m\u001b[0;34m(\u001b[0m\u001b[0;34m)\u001b[0m\u001b[0;34m\u001b[0m\u001b[0m\n\u001b[0m\u001b[1;32m    165\u001b[0m             \u001b[0;32melif\u001b[0m \u001b[0mtimeout\u001b[0m \u001b[0;34m<\u001b[0m \u001b[0;36m0\u001b[0m\u001b[0;34m:\u001b[0m\u001b[0;34m\u001b[0m\u001b[0m\n\u001b[1;32m    166\u001b[0m                 \u001b[0;32mraise\u001b[0m \u001b[0mValueError\u001b[0m\u001b[0;34m(\u001b[0m\u001b[0;34m\"'timeout' must be a non-negative number\"\u001b[0m\u001b[0;34m)\u001b[0m\u001b[0;34m\u001b[0m\u001b[0m\n",
      "\u001b[0;32m/usr/local/anaconda3/envs/ml/lib/python3.5/threading.py\u001b[0m in \u001b[0;36mwait\u001b[0;34m(self, timeout)\u001b[0m\n\u001b[1;32m    291\u001b[0m         \u001b[0;32mtry\u001b[0m\u001b[0;34m:\u001b[0m    \u001b[0;31m# restore state no matter what (e.g., KeyboardInterrupt)\u001b[0m\u001b[0;34m\u001b[0m\u001b[0m\n\u001b[1;32m    292\u001b[0m             \u001b[0;32mif\u001b[0m \u001b[0mtimeout\u001b[0m \u001b[0;32mis\u001b[0m \u001b[0;32mNone\u001b[0m\u001b[0;34m:\u001b[0m\u001b[0;34m\u001b[0m\u001b[0m\n\u001b[0;32m--> 293\u001b[0;31m                 \u001b[0mwaiter\u001b[0m\u001b[0;34m.\u001b[0m\u001b[0macquire\u001b[0m\u001b[0;34m(\u001b[0m\u001b[0;34m)\u001b[0m\u001b[0;34m\u001b[0m\u001b[0m\n\u001b[0m\u001b[1;32m    294\u001b[0m                 \u001b[0mgotit\u001b[0m \u001b[0;34m=\u001b[0m \u001b[0;32mTrue\u001b[0m\u001b[0;34m\u001b[0m\u001b[0m\n\u001b[1;32m    295\u001b[0m             \u001b[0;32melse\u001b[0m\u001b[0;34m:\u001b[0m\u001b[0;34m\u001b[0m\u001b[0m\n",
      "\u001b[0;31mKeyboardInterrupt\u001b[0m: "
     ]
    }
   ],
   "source": [
    "w2v_model = gensim.models.Word2Vec(x_text_train + x_text_test, min_count=1, workers=4, size=vector_length)"
   ]
  },
  {
   "cell_type": "code",
   "execution_count": null,
   "metadata": {
    "collapsed": true
   },
   "outputs": [],
   "source": [
    "print(w2v_model)"
   ]
  },
  {
   "cell_type": "code",
   "execution_count": null,
   "metadata": {
    "collapsed": true
   },
   "outputs": [],
   "source": [
    "w2v_model.save(MODEL_PATH + 'twitter_w2v_50.bin')"
   ]
  },
  {
   "cell_type": "code",
   "execution_count": 8,
   "metadata": {},
   "outputs": [],
   "source": [
    "w2v_model = gensim.models.Word2Vec.load(MODEL_PATH + 'twitter_w2v.bin')"
   ]
  },
  {
   "cell_type": "code",
   "execution_count": 9,
   "metadata": {},
   "outputs": [],
   "source": [
    "# When training finished delete the training model but retain the word vectors:\n",
    "word_vectors = w2v_model.wv\n",
    "del w2v_model"
   ]
  },
  {
   "cell_type": "code",
   "execution_count": 10,
   "metadata": {},
   "outputs": [
    {
     "data": {
      "text/plain": [
       "(100,)"
      ]
     },
     "execution_count": 10,
     "metadata": {},
     "output_type": "execute_result"
    }
   ],
   "source": [
    "word_vectors.wv['computer'].shape"
   ]
  },
  {
   "cell_type": "code",
   "execution_count": 11,
   "metadata": {},
   "outputs": [
    {
     "data": {
      "text/plain": [
       "[('internet', 0.708969235420227),\n",
       " ('desktop', 0.6651554107666016),\n",
       " ('calculator', 0.6596795320510864),\n",
       " ('settings', 0.6567735075950623),\n",
       " ('laptop', 0.6565126180648804),\n",
       " ('phone', 0.6472017765045166),\n",
       " ('browser', 0.635584831237793),\n",
       " ('portfolio', 0.6346469521522522),\n",
       " ('wifi', 0.6323057413101196),\n",
       " ('desk', 0.6210508346557617)]"
      ]
     },
     "execution_count": 11,
     "metadata": {},
     "output_type": "execute_result"
    }
   ],
   "source": [
    "word_vectors.most_similar('computer')"
   ]
  },
  {
   "cell_type": "markdown",
   "metadata": {},
   "source": [
    "## Step 3: Convert tweets into sentences of vectors"
   ]
  },
  {
   "cell_type": "code",
   "execution_count": 12,
   "metadata": {
    "scrolled": true
   },
   "outputs": [
    {
     "name": "stdout",
     "output_type": "stream",
     "text": [
      "Maximum sequence length of train and test data: 74\n"
     ]
    }
   ],
   "source": [
    "# Compute the number of words of the longest tweet to get the maximal sentence length\n",
    "sequence_length_train = max(len(x) for x in x_text_train)\n",
    "sequence_length_test = max(len(x) for x in x_text_test)\n",
    "sequence_length = max(sequence_length_train, sequence_length_test)\n",
    "print('Maximum sequence length of train and test data:', sequence_length)\n",
    "\n",
    "x_text_train_pad = pad_sentences(x_text_train, padding_word=\"<PAD/>\", sequence_length=sequence_length)\n",
    "x_text_test_pad = pad_sentences(x_text_test, padding_word=\"<PAD/>\", sequence_length=sequence_length)\n",
    "\n",
    "del x_text_train\n",
    "del x_text_test"
   ]
  },
  {
   "cell_type": "code",
   "execution_count": 13,
   "metadata": {},
   "outputs": [],
   "source": [
    "# Split into training and validation data\n",
    "x_train, x_val, y_train, y_val = train_test_split(x_text_train_pad, y_train_full, test_size=0.01, random_state=42)"
   ]
  },
  {
   "cell_type": "code",
   "execution_count": 14,
   "metadata": {},
   "outputs": [
    {
     "data": {
      "text/plain": [
       "(2475000, 74)"
      ]
     },
     "execution_count": 14,
     "metadata": {},
     "output_type": "execute_result"
    }
   ],
   "source": [
    "len(x_train), len(x_train[0])"
   ]
  },
  {
   "cell_type": "code",
   "execution_count": 15,
   "metadata": {},
   "outputs": [
    {
     "data": {
      "text/plain": [
       "(25000, 74)"
      ]
     },
     "execution_count": 15,
     "metadata": {},
     "output_type": "execute_result"
    }
   ],
   "source": [
    "len(x_val), len(x_val[0])"
   ]
  },
  {
   "cell_type": "code",
   "execution_count": 16,
   "metadata": {},
   "outputs": [],
   "source": [
    "# TODO: SLOW!\n",
    "\n",
    "def get_tweets_tensor(tweets, indices=[], verbose=False):\n",
    "    '''Mapping every word to a vector from word2vec\n",
    "    Padding words are mapped to zero\n",
    "    Leave indices empty to map every tweet in tweets\n",
    "    '''\n",
    "\n",
    "    nb_tweets = len(tweets) if len(indices)==0 else len(indices)\n",
    "    tweets_vec = np.zeros((nb_tweets, len(tweets[0]), vector_length), dtype=np.float32)\n",
    "    \n",
    "    if indices == []:\n",
    "        for idx_t, tweet in enumerate(tweets):\n",
    "            for idx_w, word in enumerate(tweet):\n",
    "                if word != '<PAD/>':\n",
    "                    tweets_vec[idx_t, idx_w] = word_vectors.wv[word]  \n",
    "            if verbose and idx_t % 100000 == 0:\n",
    "                print('Transformed {}/{} tweets'.format(idx_t+1, (len(x_text_train_pad))))\n",
    "    else:\n",
    "        for idx_t, orig_idx in enumerate(indices):\n",
    "            for idx_w, word in enumerate(tweets[orig_idx]):\n",
    "                if word != '<PAD/>':\n",
    "                    tweets_vec[idx_t, idx_w] = word_vectors.wv[word]  \n",
    "            if verbose and idx_t % 100000 == 0:\n",
    "                print('Transformed {}/{} tweets'.format(idx_t+1, (len(x_text_train_pad))))\n",
    "    \n",
    "    return torch.from_numpy(tweets_vec)"
   ]
  },
  {
   "cell_type": "markdown",
   "metadata": {},
   "source": [
    "## Step 4: Classification"
   ]
  },
  {
   "cell_type": "code",
   "execution_count": 68,
   "metadata": {},
   "outputs": [],
   "source": [
    "# Hyper Parameters\n",
    "num_epochs = 10\n",
    "batch_size = 100\n",
    "learning_rate = 0.001"
   ]
  },
  {
   "cell_type": "code",
   "execution_count": 18,
   "metadata": {},
   "outputs": [],
   "source": [
    "class ListDataset(Dataset):\n",
    "    \"\"\"Dataset wrapping data and target lists.\n",
    "\n",
    "    Each sample will be retrieved by indexing both lists along the first\n",
    "    dimension.\n",
    "\n",
    "    Arguments:\n",
    "        data_list (python list): contains sample data.\n",
    "        target_list (python list): contains sample targets (labels).\n",
    "    \"\"\"\n",
    "\n",
    "    def __init__(self, data_list, target_list):\n",
    "        assert len(data_list) == len(target_list)\n",
    "        self.data_list = data_list\n",
    "        self.target_list = target_list\n",
    "\n",
    "    def __getitem__(self, index):\n",
    "        return self.data_list[index], self.target_list[index]\n",
    "\n",
    "    def __len__(self):\n",
    "        return len(self.data_list)"
   ]
  },
  {
   "cell_type": "code",
   "execution_count": 19,
   "metadata": {},
   "outputs": [],
   "source": [
    "train_dataset = ListDataset(x_train, y_train)\n",
    "train_loader = torch.utils.data.DataLoader(dataset=train_dataset,\n",
    "                                           batch_size=batch_size, \n",
    "                                           shuffle=True)"
   ]
  },
  {
   "cell_type": "code",
   "execution_count": 28,
   "metadata": {},
   "outputs": [],
   "source": [
    "# Network hyperparameters\n",
    "N = len(train_loader.dataset.data_list)      # Number of tweets (eg 200000)\n",
    "S = len(train_loader.dataset.data_list[0])   # Number of words in one sentence (eg 50)\n",
    "V = vector_length                            # Length of word vectors (eg 100)\n",
    "K = 5                                        # Kernel width (K*V)\n",
    "C = 256                                      # Number of convolutional filters\n",
    "F = 2                                        # Number of output neurons in fully connected layer\n",
    "\n",
    "class CNN(nn.Module):\n",
    "    def __init__(self):\n",
    "        super(CNN, self).__init__()\n",
    "        self.conv1 = nn.Conv2d(             # input shape (1, S, V)\n",
    "                in_channels=1,              # input channels\n",
    "                out_channels=C,             # number of filters\n",
    "                kernel_size=(K,V),          # filter size\n",
    "                padding=(K//2,0)               # to keep size S\n",
    "        )                                   # output shape (C, S, 1)\n",
    "        self.relu = nn.ReLU()               # ReLU activation\n",
    "        self.bn1 = nn.BatchNorm1d(C)\n",
    "        self.max_pool1 = nn.MaxPool1d(2)    # max-pool each filter into S/2 output   \n",
    "        self.conv2 = nn.Conv1d(             # input shape (C, S/2)\n",
    "                in_channels=C,              # input channels\n",
    "                out_channels=C,             # number of filters (one for each input channel)\n",
    "                kernel_size=K,              # filter size\n",
    "                padding=K//2                   # to keep size S/2\n",
    "        )                                   # output shape (C, S/2)\n",
    "        self.bn2 = nn.BatchNorm1d(C)\n",
    "        self.max_pool2 = nn.MaxPool1d(int(S/2)) # max pool each filter into 1 output\n",
    "        self.dropout= nn.Dropout(p=0.2)\n",
    "        self.out = nn.Linear(C, F)          # fully connected layer, output F classes\n",
    "        self.softmax = nn.Softmax(dim=1)\n",
    "\n",
    "    def forward(self, x):\n",
    "        #print(x.data.shape) #torch.Size([100, 74, 100])\n",
    "        \n",
    "        out = x.unsqueeze(1)\n",
    "        #print(out.data.shape) #torch.Size([100, 1, 74, 100])\n",
    "        \n",
    "        out = self.conv1(out)\n",
    "        #print(out.data.shape) #torch.Size([100, 128, 74, 1])\n",
    "        \n",
    "        out = self.bn1(out)\n",
    "        \n",
    "        out = self.relu(out).squeeze(3)\n",
    "        #print(out.data.shape) #torch.Size([100, 128, 74])\n",
    "        \n",
    "        out = self.dropout(out)\n",
    "        \n",
    "        out = self.max_pool1(out)\n",
    "        #print(out.data.shape) #torch.Size([100, 128, 37])\n",
    "        \n",
    "        out = self.conv2(out)\n",
    "        #print(out.data.shape) #torch.Size([100, 128, 37])\n",
    "        \n",
    "        out = self.bn2(out)\n",
    "        \n",
    "        out = self.relu(out)\n",
    "        #print(out.data.shape) #torch.Size([100, 128, 37])\n",
    "        \n",
    "        out = self.dropout(out)\n",
    "        \n",
    "        out = self.max_pool2(out).squeeze(2)\n",
    "        #print(out.data.shape) #torch.Size([100, 128])\n",
    "        \n",
    "        out = self.out(out)\n",
    "        #print(out.data.shape) #torch.Size([100, 2])\n",
    "        \n",
    "        out = self.softmax(out)\n",
    "        \n",
    "        return out"
   ]
  },
  {
   "cell_type": "code",
   "execution_count": 29,
   "metadata": {},
   "outputs": [
    {
     "name": "stdout",
     "output_type": "stream",
     "text": [
      "CNN(\n",
      "  (conv1): Conv2d (1, 256, kernel_size=(5, 100), stride=(1, 1), padding=(2, 0))\n",
      "  (relu): ReLU()\n",
      "  (bn1): BatchNorm1d(256, eps=1e-05, momentum=0.1, affine=True)\n",
      "  (max_pool1): MaxPool1d(kernel_size=2, stride=2, padding=0, dilation=1, ceil_mode=False)\n",
      "  (conv2): Conv1d (256, 256, kernel_size=(5,), stride=(1,), padding=(2,))\n",
      "  (bn2): BatchNorm1d(256, eps=1e-05, momentum=0.1, affine=True)\n",
      "  (max_pool2): MaxPool1d(kernel_size=37, stride=37, padding=0, dilation=1, ceil_mode=False)\n",
      "  (dropout): Dropout(p=0.2)\n",
      "  (out): Linear(in_features=256, out_features=2)\n",
      "  (softmax): Softmax()\n",
      ")\n"
     ]
    }
   ],
   "source": [
    "cnn = CNN()\n",
    "if torch.cuda.is_available():\n",
    "    cnn.cuda()\n",
    "print(cnn)  # net architecture"
   ]
  },
  {
   "cell_type": "code",
   "execution_count": 30,
   "metadata": {},
   "outputs": [],
   "source": [
    "optimizer = torch.optim.Adam(cnn.parameters(), lr=learning_rate)   # optimize all cnn parameters\n",
    "if torch.cuda.is_available():\n",
    "    loss_func = nn.CrossEntropyLoss().cuda()                                  # the target label is not one-hotted\n",
    "else:\n",
    "    loss_func = nn.CrossEntropyLoss()"
   ]
  },
  {
   "cell_type": "code",
   "execution_count": 69,
   "metadata": {
    "scrolled": false
   },
   "outputs": [
    {
     "name": "stdout",
     "output_type": "stream",
     "text": [
      "Epoch [1/10], Iter [1000/24750] Loss: 0.4479\n",
      "Epoch [1/10], Iter [2000/24750] Loss: 0.4182\n",
      "Epoch [1/10], Iter [3000/24750] Loss: 0.4362\n",
      "Epoch [1/10], Iter [4000/24750] Loss: 0.4362\n",
      "Epoch [1/10], Iter [5000/24750] Loss: 0.4532\n",
      "Epoch [1/10], Iter [6000/24750] Loss: 0.4488\n",
      "Epoch [1/10], Iter [7000/24750] Loss: 0.4127\n",
      "Epoch [1/10], Iter [8000/24750] Loss: 0.4706\n",
      "Epoch [1/10], Iter [9000/24750] Loss: 0.4426\n",
      "Epoch [1/10], Iter [10000/24750] Loss: 0.4270\n",
      "Epoch [1/10], Iter [11000/24750] Loss: 0.4062\n",
      "Epoch [1/10], Iter [12000/24750] Loss: 0.4312\n",
      "Epoch [1/10], Iter [13000/24750] Loss: 0.4174\n",
      "Epoch [1/10], Iter [14000/24750] Loss: 0.4418\n",
      "Epoch [1/10], Iter [15000/24750] Loss: 0.4334\n",
      "Epoch [1/10], Iter [16000/24750] Loss: 0.4213\n",
      "Epoch [1/10], Iter [17000/24750] Loss: 0.4487\n",
      "Epoch [1/10], Iter [18000/24750] Loss: 0.4117\n",
      "Epoch [1/10], Iter [19000/24750] Loss: 0.3924\n",
      "Epoch [1/10], Iter [20000/24750] Loss: 0.4015\n",
      "Epoch [1/10], Iter [21000/24750] Loss: 0.4415\n",
      "Epoch [1/10], Iter [22000/24750] Loss: 0.4468\n",
      "Epoch [1/10], Iter [23000/24750] Loss: 0.4301\n",
      "Epoch [1/10], Iter [24000/24750] Loss: 0.4027\n",
      "Epoch [2/10], Iter [1000/24750] Loss: 0.3995\n",
      "Epoch [2/10], Iter [2000/24750] Loss: 0.4556\n",
      "Epoch [2/10], Iter [3000/24750] Loss: 0.4476\n",
      "Epoch [2/10], Iter [4000/24750] Loss: 0.4039\n",
      "Epoch [2/10], Iter [5000/24750] Loss: 0.3790\n",
      "Epoch [2/10], Iter [6000/24750] Loss: 0.4690\n",
      "Epoch [2/10], Iter [7000/24750] Loss: 0.4883\n",
      "Epoch [2/10], Iter [8000/24750] Loss: 0.4400\n",
      "Epoch [2/10], Iter [9000/24750] Loss: 0.4271\n",
      "Epoch [2/10], Iter [10000/24750] Loss: 0.4169\n",
      "Epoch [2/10], Iter [11000/24750] Loss: 0.3935\n",
      "Epoch [2/10], Iter [12000/24750] Loss: 0.4201\n",
      "Epoch [2/10], Iter [13000/24750] Loss: 0.4093\n",
      "Epoch [2/10], Iter [14000/24750] Loss: 0.4139\n",
      "Epoch [2/10], Iter [15000/24750] Loss: 0.4404\n",
      "Epoch [2/10], Iter [16000/24750] Loss: 0.4224\n",
      "Epoch [2/10], Iter [17000/24750] Loss: 0.4968\n",
      "Epoch [2/10], Iter [18000/24750] Loss: 0.4220\n",
      "Epoch [2/10], Iter [19000/24750] Loss: 0.4385\n",
      "Epoch [2/10], Iter [20000/24750] Loss: 0.4170\n",
      "Epoch [2/10], Iter [21000/24750] Loss: 0.4072\n",
      "Epoch [2/10], Iter [22000/24750] Loss: 0.4193\n",
      "Epoch [2/10], Iter [23000/24750] Loss: 0.4368\n",
      "Epoch [2/10], Iter [24000/24750] Loss: 0.4244\n",
      "Epoch [3/10], Iter [1000/24750] Loss: 0.4278\n",
      "Epoch [3/10], Iter [2000/24750] Loss: 0.4379\n",
      "Epoch [3/10], Iter [3000/24750] Loss: 0.4411\n",
      "Epoch [3/10], Iter [4000/24750] Loss: 0.4080\n",
      "Epoch [3/10], Iter [5000/24750] Loss: 0.4346\n",
      "Epoch [3/10], Iter [6000/24750] Loss: 0.4236\n",
      "Epoch [3/10], Iter [7000/24750] Loss: 0.4545\n",
      "Epoch [3/10], Iter [8000/24750] Loss: 0.4624\n",
      "Epoch [3/10], Iter [9000/24750] Loss: 0.4710\n",
      "Epoch [3/10], Iter [10000/24750] Loss: 0.4269\n",
      "Epoch [3/10], Iter [11000/24750] Loss: 0.4448\n",
      "Epoch [3/10], Iter [12000/24750] Loss: 0.4224\n",
      "Epoch [3/10], Iter [13000/24750] Loss: 0.4576\n",
      "Epoch [3/10], Iter [14000/24750] Loss: 0.4638\n",
      "Epoch [3/10], Iter [15000/24750] Loss: 0.4731\n",
      "Epoch [3/10], Iter [16000/24750] Loss: 0.3904\n",
      "Epoch [3/10], Iter [17000/24750] Loss: 0.4410\n",
      "Epoch [3/10], Iter [18000/24750] Loss: 0.4089\n",
      "Epoch [3/10], Iter [19000/24750] Loss: 0.3899\n",
      "Epoch [3/10], Iter [20000/24750] Loss: 0.4037\n",
      "Epoch [3/10], Iter [21000/24750] Loss: 0.4340\n",
      "Epoch [3/10], Iter [22000/24750] Loss: 0.4431\n",
      "Epoch [3/10], Iter [23000/24750] Loss: 0.4323\n",
      "Epoch [3/10], Iter [24000/24750] Loss: 0.4356\n",
      "Epoch [4/10], Iter [1000/24750] Loss: 0.4422\n",
      "Epoch [4/10], Iter [2000/24750] Loss: 0.4315\n",
      "Epoch [4/10], Iter [3000/24750] Loss: 0.4228\n",
      "Epoch [4/10], Iter [4000/24750] Loss: 0.4339\n",
      "Epoch [4/10], Iter [5000/24750] Loss: 0.4083\n",
      "Epoch [4/10], Iter [6000/24750] Loss: 0.4609\n",
      "Epoch [4/10], Iter [7000/24750] Loss: 0.4155\n",
      "Epoch [4/10], Iter [8000/24750] Loss: 0.4478\n",
      "Epoch [4/10], Iter [9000/24750] Loss: 0.4972\n",
      "Epoch [4/10], Iter [10000/24750] Loss: 0.4598\n",
      "Epoch [4/10], Iter [11000/24750] Loss: 0.4474\n",
      "Epoch [4/10], Iter [12000/24750] Loss: 0.4375\n",
      "Epoch [4/10], Iter [13000/24750] Loss: 0.4471\n",
      "Epoch [4/10], Iter [14000/24750] Loss: 0.4156\n",
      "Epoch [4/10], Iter [15000/24750] Loss: 0.3896\n",
      "Epoch [4/10], Iter [16000/24750] Loss: 0.4495\n",
      "Epoch [4/10], Iter [17000/24750] Loss: 0.3905\n",
      "Epoch [4/10], Iter [18000/24750] Loss: 0.4165\n",
      "Epoch [4/10], Iter [19000/24750] Loss: 0.4555\n",
      "Epoch [4/10], Iter [20000/24750] Loss: 0.4338\n",
      "Epoch [4/10], Iter [21000/24750] Loss: 0.4583\n",
      "Epoch [4/10], Iter [22000/24750] Loss: 0.4285\n",
      "Epoch [4/10], Iter [23000/24750] Loss: 0.4122\n",
      "Epoch [4/10], Iter [24000/24750] Loss: 0.4173\n",
      "Epoch [5/10], Iter [1000/24750] Loss: 0.4010\n",
      "Epoch [5/10], Iter [2000/24750] Loss: 0.4213\n",
      "Epoch [5/10], Iter [3000/24750] Loss: 0.4597\n",
      "Epoch [5/10], Iter [4000/24750] Loss: 0.4247\n",
      "Epoch [5/10], Iter [5000/24750] Loss: 0.4597\n",
      "Epoch [5/10], Iter [6000/24750] Loss: 0.4800\n",
      "Epoch [5/10], Iter [7000/24750] Loss: 0.4436\n",
      "Epoch [5/10], Iter [8000/24750] Loss: 0.3778\n",
      "Epoch [5/10], Iter [9000/24750] Loss: 0.4768\n",
      "Epoch [5/10], Iter [10000/24750] Loss: 0.4489\n",
      "Epoch [5/10], Iter [11000/24750] Loss: 0.4128\n",
      "Epoch [5/10], Iter [12000/24750] Loss: 0.4507\n",
      "Epoch [5/10], Iter [13000/24750] Loss: 0.3854\n",
      "Epoch [5/10], Iter [14000/24750] Loss: 0.4417\n",
      "Epoch [5/10], Iter [15000/24750] Loss: 0.4027\n",
      "Epoch [5/10], Iter [16000/24750] Loss: 0.4325\n",
      "Epoch [5/10], Iter [17000/24750] Loss: 0.4347\n",
      "Epoch [5/10], Iter [18000/24750] Loss: 0.4723\n",
      "Epoch [5/10], Iter [19000/24750] Loss: 0.4475\n",
      "Epoch [5/10], Iter [20000/24750] Loss: 0.4611\n",
      "Epoch [5/10], Iter [21000/24750] Loss: 0.4177\n",
      "Epoch [5/10], Iter [22000/24750] Loss: 0.4019\n",
      "Epoch [5/10], Iter [23000/24750] Loss: 0.4465\n",
      "Epoch [5/10], Iter [24000/24750] Loss: 0.4341\n",
      "Epoch [6/10], Iter [1000/24750] Loss: 0.4696\n",
      "Epoch [6/10], Iter [2000/24750] Loss: 0.4820\n",
      "Epoch [6/10], Iter [3000/24750] Loss: 0.3935\n",
      "Epoch [6/10], Iter [4000/24750] Loss: 0.4908\n",
      "Epoch [6/10], Iter [5000/24750] Loss: 0.4157\n",
      "Epoch [6/10], Iter [6000/24750] Loss: 0.4550\n",
      "Epoch [6/10], Iter [7000/24750] Loss: 0.3842\n",
      "Epoch [6/10], Iter [8000/24750] Loss: 0.4816\n",
      "Epoch [6/10], Iter [9000/24750] Loss: 0.4614\n",
      "Epoch [6/10], Iter [10000/24750] Loss: 0.4394\n",
      "Epoch [6/10], Iter [11000/24750] Loss: 0.4150\n",
      "Epoch [6/10], Iter [12000/24750] Loss: 0.4395\n",
      "Epoch [6/10], Iter [13000/24750] Loss: 0.4918\n",
      "Epoch [6/10], Iter [14000/24750] Loss: 0.4875\n",
      "Epoch [6/10], Iter [15000/24750] Loss: 0.4656\n",
      "Epoch [6/10], Iter [16000/24750] Loss: 0.4059\n",
      "Epoch [6/10], Iter [17000/24750] Loss: 0.4273\n",
      "Epoch [6/10], Iter [18000/24750] Loss: 0.4014\n",
      "Epoch [6/10], Iter [19000/24750] Loss: 0.4164\n",
      "Epoch [6/10], Iter [20000/24750] Loss: 0.4578\n",
      "Epoch [6/10], Iter [21000/24750] Loss: 0.3996\n",
      "Epoch [6/10], Iter [22000/24750] Loss: 0.4426\n",
      "Epoch [6/10], Iter [23000/24750] Loss: 0.4177\n",
      "Epoch [6/10], Iter [24000/24750] Loss: 0.4170\n",
      "Epoch [7/10], Iter [1000/24750] Loss: 0.3917\n",
      "Epoch [7/10], Iter [2000/24750] Loss: 0.3934\n",
      "Epoch [7/10], Iter [3000/24750] Loss: 0.4395\n",
      "Epoch [7/10], Iter [4000/24750] Loss: 0.4632\n",
      "Epoch [7/10], Iter [5000/24750] Loss: 0.4364\n",
      "Epoch [7/10], Iter [6000/24750] Loss: 0.4843\n",
      "Epoch [7/10], Iter [7000/24750] Loss: 0.4174\n",
      "Epoch [7/10], Iter [8000/24750] Loss: 0.4197\n",
      "Epoch [7/10], Iter [9000/24750] Loss: 0.3971\n",
      "Epoch [7/10], Iter [10000/24750] Loss: 0.3820\n",
      "Epoch [7/10], Iter [11000/24750] Loss: 0.4200\n",
      "Epoch [7/10], Iter [12000/24750] Loss: 0.3894\n",
      "Epoch [7/10], Iter [13000/24750] Loss: 0.4496\n",
      "Epoch [7/10], Iter [14000/24750] Loss: 0.4014\n",
      "Epoch [7/10], Iter [15000/24750] Loss: 0.4654\n",
      "Epoch [7/10], Iter [16000/24750] Loss: 0.4166\n",
      "Epoch [7/10], Iter [17000/24750] Loss: 0.4829\n",
      "Epoch [7/10], Iter [18000/24750] Loss: 0.4326\n",
      "Epoch [7/10], Iter [19000/24750] Loss: 0.4170\n",
      "Epoch [7/10], Iter [20000/24750] Loss: 0.4023\n",
      "Epoch [7/10], Iter [21000/24750] Loss: 0.4714\n",
      "Epoch [7/10], Iter [22000/24750] Loss: 0.4059\n",
      "Epoch [7/10], Iter [23000/24750] Loss: 0.4091\n",
      "Epoch [7/10], Iter [24000/24750] Loss: 0.3805\n",
      "Epoch [8/10], Iter [1000/24750] Loss: 0.3915\n",
      "Epoch [8/10], Iter [2000/24750] Loss: 0.4681\n",
      "Epoch [8/10], Iter [3000/24750] Loss: 0.4160\n",
      "Epoch [8/10], Iter [4000/24750] Loss: 0.3967\n",
      "Epoch [8/10], Iter [5000/24750] Loss: 0.4133\n",
      "Epoch [8/10], Iter [6000/24750] Loss: 0.4675\n",
      "Epoch [8/10], Iter [7000/24750] Loss: 0.4327\n",
      "Epoch [8/10], Iter [8000/24750] Loss: 0.4188\n",
      "Epoch [8/10], Iter [9000/24750] Loss: 0.4961\n",
      "Epoch [8/10], Iter [10000/24750] Loss: 0.4645\n",
      "Epoch [8/10], Iter [11000/24750] Loss: 0.4353\n",
      "Epoch [8/10], Iter [12000/24750] Loss: 0.4074\n"
     ]
    },
    {
     "name": "stdout",
     "output_type": "stream",
     "text": [
      "Epoch [8/10], Iter [13000/24750] Loss: 0.4052\n",
      "Epoch [8/10], Iter [14000/24750] Loss: 0.4250\n",
      "Epoch [8/10], Iter [15000/24750] Loss: 0.4282\n",
      "Epoch [8/10], Iter [16000/24750] Loss: 0.4639\n",
      "Epoch [8/10], Iter [17000/24750] Loss: 0.4888\n",
      "Epoch [8/10], Iter [18000/24750] Loss: 0.4419\n",
      "Epoch [8/10], Iter [19000/24750] Loss: 0.4582\n",
      "Epoch [8/10], Iter [20000/24750] Loss: 0.4657\n",
      "Epoch [8/10], Iter [21000/24750] Loss: 0.4669\n",
      "Epoch [8/10], Iter [22000/24750] Loss: 0.4829\n",
      "Epoch [8/10], Iter [23000/24750] Loss: 0.4427\n",
      "Epoch [8/10], Iter [24000/24750] Loss: 0.4184\n",
      "Epoch [9/10], Iter [1000/24750] Loss: 0.4176\n",
      "Epoch [9/10], Iter [2000/24750] Loss: 0.3676\n",
      "Epoch [9/10], Iter [3000/24750] Loss: 0.3834\n",
      "Epoch [9/10], Iter [4000/24750] Loss: 0.4206\n",
      "Epoch [9/10], Iter [5000/24750] Loss: 0.4520\n",
      "Epoch [9/10], Iter [6000/24750] Loss: 0.4735\n",
      "Epoch [9/10], Iter [7000/24750] Loss: 0.4466\n",
      "Epoch [9/10], Iter [8000/24750] Loss: 0.4410\n",
      "Epoch [9/10], Iter [9000/24750] Loss: 0.3503\n",
      "Epoch [9/10], Iter [10000/24750] Loss: 0.4565\n",
      "Epoch [9/10], Iter [11000/24750] Loss: 0.4449\n",
      "Epoch [9/10], Iter [12000/24750] Loss: 0.4071\n",
      "Epoch [9/10], Iter [13000/24750] Loss: 0.3876\n",
      "Epoch [9/10], Iter [14000/24750] Loss: 0.5002\n",
      "Epoch [9/10], Iter [15000/24750] Loss: 0.4296\n",
      "Epoch [9/10], Iter [16000/24750] Loss: 0.4749\n",
      "Epoch [9/10], Iter [17000/24750] Loss: 0.4210\n",
      "Epoch [9/10], Iter [18000/24750] Loss: 0.4304\n",
      "Epoch [9/10], Iter [19000/24750] Loss: 0.4256\n",
      "Epoch [9/10], Iter [20000/24750] Loss: 0.4431\n",
      "Epoch [9/10], Iter [21000/24750] Loss: 0.4048\n",
      "Epoch [9/10], Iter [22000/24750] Loss: 0.4448\n",
      "Epoch [9/10], Iter [23000/24750] Loss: 0.4366\n",
      "Epoch [9/10], Iter [24000/24750] Loss: 0.4212\n",
      "Epoch [10/10], Iter [1000/24750] Loss: 0.4490\n",
      "Epoch [10/10], Iter [2000/24750] Loss: 0.4353\n",
      "Epoch [10/10], Iter [3000/24750] Loss: 0.4637\n",
      "Epoch [10/10], Iter [4000/24750] Loss: 0.4646\n",
      "Epoch [10/10], Iter [5000/24750] Loss: 0.4260\n",
      "Epoch [10/10], Iter [6000/24750] Loss: 0.4672\n",
      "Epoch [10/10], Iter [7000/24750] Loss: 0.4015\n",
      "Epoch [10/10], Iter [8000/24750] Loss: 0.4215\n",
      "Epoch [10/10], Iter [9000/24750] Loss: 0.4075\n",
      "Epoch [10/10], Iter [10000/24750] Loss: 0.4462\n",
      "Epoch [10/10], Iter [11000/24750] Loss: 0.3883\n",
      "Epoch [10/10], Iter [12000/24750] Loss: 0.4298\n",
      "Epoch [10/10], Iter [13000/24750] Loss: 0.4111\n",
      "Epoch [10/10], Iter [14000/24750] Loss: 0.4120\n",
      "Epoch [10/10], Iter [15000/24750] Loss: 0.4794\n",
      "Epoch [10/10], Iter [16000/24750] Loss: 0.4435\n",
      "Epoch [10/10], Iter [17000/24750] Loss: 0.4126\n",
      "Epoch [10/10], Iter [18000/24750] Loss: 0.4456\n",
      "Epoch [10/10], Iter [19000/24750] Loss: 0.4432\n",
      "Epoch [10/10], Iter [20000/24750] Loss: 0.4314\n",
      "Epoch [10/10], Iter [21000/24750] Loss: 0.4518\n",
      "Epoch [10/10], Iter [22000/24750] Loss: 0.4286\n",
      "Epoch [10/10], Iter [23000/24750] Loss: 0.4107\n",
      "Epoch [10/10], Iter [24000/24750] Loss: 0.4027\n",
      "Finished Training\n"
     ]
    }
   ],
   "source": [
    "cnn.train()\n",
    "\n",
    "for epoch in range(num_epochs):  # loop over the dataset multiple times \n",
    "    for i, batch_indices in enumerate(train_loader.batch_sampler):   # iterate over mini-batches  \n",
    "        # Converting tweets to vectors and storing it in a variable\n",
    "        sentences = get_tweets_tensor(train_loader.dataset.data_list, batch_indices, verbose=False)\n",
    "        if torch.cuda.is_available():\n",
    "            sentences = sentences.cuda()\n",
    "        x = Variable(sentences)\n",
    "        \n",
    "        # Converting labels to a variable\n",
    "        labels = torch.from_numpy(train_loader.dataset.target_list[batch_indices])\n",
    "        if torch.cuda.is_available():\n",
    "            labels = labels.cuda()\n",
    "        y = Variable(labels, requires_grad=False)\n",
    "        \n",
    "        # Forward + Backward + Optimize\n",
    "        optimizer.zero_grad() # reset gradient\n",
    "        outputs = cnn(x) # cnn output\n",
    "        loss = loss_func(outputs, y) # clear gradients for this training step\n",
    "        loss.backward() # backpropagation, compute gradients\n",
    "        optimizer.step() # apply gradients\n",
    "        \n",
    "        if (i+1) % 1000 == 0:\n",
    "            print('Epoch [%d/%d], Iter [%d/%d] Loss: %.4f' \n",
    "                  %(epoch+1, num_epochs, i+1, len(train_dataset)//batch_size, loss.data[0]))\n",
    "\n",
    "print('Finished Training')"
   ]
  },
  {
   "cell_type": "code",
   "execution_count": 72,
   "metadata": {},
   "outputs": [
    {
     "name": "stderr",
     "output_type": "stream",
     "text": [
      "/home/roman/miniconda3/envs/ml/lib/python3.6/site-packages/torch/serialization.py:158: UserWarning: Couldn't retrieve source code for container of type CNN. It won't be checked for correctness upon loading.\n",
      "  \"type \" + obj.__name__ + \". It won't be checked \"\n"
     ]
    }
   ],
   "source": [
    "torch.save(cnn, './model_dict.pth')"
   ]
  },
  {
   "cell_type": "code",
   "execution_count": 75,
   "metadata": {
    "scrolled": false
   },
   "outputs": [
    {
     "name": "stdout",
     "output_type": "stream",
     "text": [
      "0\n",
      "100\n",
      "200\n",
      "300\n",
      "400\n",
      "500\n",
      "600\n",
      "700\n",
      "800\n",
      "900\n",
      "1000\n",
      "1100\n",
      "1200\n",
      "1300\n",
      "1400\n",
      "1500\n",
      "1600\n",
      "1700\n",
      "1800\n",
      "1900\n",
      "2000\n",
      "2100\n",
      "2200\n",
      "2300\n",
      "2400\n",
      "2500\n",
      "2600\n",
      "2700\n",
      "2800\n",
      "2900\n",
      "3000\n",
      "3100\n",
      "3200\n",
      "3300\n",
      "3400\n",
      "3500\n",
      "3600\n",
      "3700\n",
      "3800\n",
      "3900\n",
      "4000\n",
      "4100\n",
      "4200\n",
      "4300\n",
      "4400\n",
      "4500\n",
      "4600\n",
      "4700\n",
      "4800\n",
      "4900\n",
      "Validation accuracy: 0.8674\n"
     ]
    }
   ],
   "source": [
    "# Evaluate accuracy of predictions from validation data\n",
    "cnn.eval()\n",
    "accuracy = 0\n",
    "nb_steps = 0\n",
    "\n",
    "step_size = 100\n",
    "for i in range(0, 5000, step_size):\n",
    "    val_output = cnn(Variable(get_tweets_tensor(x_val[i:i+step_size]).cuda()))\n",
    "    y_val_pred = torch.max(val_output.cpu(), 1)[1].data.numpy().squeeze()\n",
    "    accuracy += accuracy_score(y_val[i:i+step_size], y_val_pred)\n",
    "    nb_steps += 1\n",
    "    print(i)\n",
    "\n",
    "print('Validation accuracy:', accuracy/nb_steps)"
   ]
  },
  {
   "cell_type": "markdown",
   "metadata": {},
   "source": [
    "## Step 5: Make predictions for test data and save"
   ]
  },
  {
   "cell_type": "code",
   "execution_count": 79,
   "metadata": {},
   "outputs": [
    {
     "data": {
      "text/plain": [
       "CNN(\n",
       "  (conv1): Conv2d (1, 256, kernel_size=(5, 100), stride=(1, 1), padding=(2, 0))\n",
       "  (relu): ReLU()\n",
       "  (bn1): BatchNorm1d(256, eps=1e-05, momentum=0.1, affine=True)\n",
       "  (max_pool1): MaxPool1d(kernel_size=2, stride=2, padding=0, dilation=1, ceil_mode=False)\n",
       "  (conv2): Conv1d (256, 256, kernel_size=(5,), stride=(1,), padding=(2,))\n",
       "  (bn2): BatchNorm1d(256, eps=1e-05, momentum=0.1, affine=True)\n",
       "  (max_pool2): MaxPool1d(kernel_size=37, stride=37, padding=0, dilation=1, ceil_mode=False)\n",
       "  (dropout): Dropout(p=0.2)\n",
       "  (out): Linear(in_features=256, out_features=2)\n",
       "  (softmax): Softmax()\n",
       ")"
      ]
     },
     "execution_count": 79,
     "metadata": {},
     "output_type": "execute_result"
    }
   ],
   "source": [
    "cnn.cpu()"
   ]
  },
  {
   "cell_type": "code",
   "execution_count": 83,
   "metadata": {},
   "outputs": [],
   "source": [
    "test_output = cnn(Variable(get_tweets_tensor(x_text_test_pad, verbose=False)))\n",
    "y_pred = torch.max(test_output, 1)[1].data.numpy().squeeze()"
   ]
  },
  {
   "cell_type": "code",
   "execution_count": 84,
   "metadata": {},
   "outputs": [
    {
     "data": {
      "text/plain": [
       "array([-1, -1, -1, ..., -1,  1, -1])"
      ]
     },
     "execution_count": 84,
     "metadata": {},
     "output_type": "execute_result"
    }
   ],
   "source": [
    "y_pred[y_pred == 0] = -1\n",
    "y_pred"
   ]
  },
  {
   "cell_type": "code",
   "execution_count": 85,
   "metadata": {},
   "outputs": [
    {
     "data": {
      "text/plain": [
       "array([    1,     2,     3, ...,  9998,  9999, 10000])"
      ]
     },
     "execution_count": 85,
     "metadata": {},
     "output_type": "execute_result"
    }
   ],
   "source": [
    "ids = np.arange(len(y_pred)+1)[1:]\n",
    "ids"
   ]
  },
  {
   "cell_type": "code",
   "execution_count": 86,
   "metadata": {},
   "outputs": [],
   "source": [
    "create_csv_submission(ids, y_pred, 'kaggle_submission.csv')"
   ]
  },
  {
   "cell_type": "code",
   "execution_count": null,
   "metadata": {
    "collapsed": true
   },
   "outputs": [],
   "source": []
  }
 ],
 "metadata": {
  "kernelspec": {
   "display_name": "Python 3",
   "language": "python",
   "name": "python3"
  },
  "language_info": {
   "codemirror_mode": {
    "name": "ipython",
    "version": 3
   },
   "file_extension": ".py",
   "mimetype": "text/x-python",
   "name": "python",
   "nbconvert_exporter": "python",
   "pygments_lexer": "ipython3",
   "version": "3.6.3"
  }
 },
 "nbformat": 4,
 "nbformat_minor": 2
}
