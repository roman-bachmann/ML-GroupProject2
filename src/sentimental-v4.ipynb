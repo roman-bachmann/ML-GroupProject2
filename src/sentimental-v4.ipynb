{
 "cells": [
  {
   "cell_type": "markdown",
   "metadata": {},
   "source": [
    "This notebook was runned considering preprocessing of removing punctuation"
   ]
  },
  {
   "cell_type": "code",
   "execution_count": 1,
   "metadata": {
    "collapsed": true
   },
   "outputs": [],
   "source": [
    "import os \n",
    "import pandas as pd\n",
    "import numpy as np\n",
    "\n",
    "from sklearn.model_selection import train_test_split\n",
    "\n",
    "import gensim\n",
    "\n",
    "import torch\n",
    "import torch.nn as nn\n",
    "import torch.nn.functional as F\n",
    "from torch.autograd import Variable\n",
    "from torch.utils.data import Dataset, TensorDataset, DataLoader\n",
    "\n",
    "# from torchtext import data\n",
    "\n",
    "from helpers import *\n",
    "from data import create_csv_submission"
   ]
  },
  {
   "cell_type": "code",
   "execution_count": 2,
   "metadata": {
    "collapsed": true
   },
   "outputs": [],
   "source": [
    "DATA_PATH = '../twitter-datasets/'\n",
    "MODEL_PATH = '../models/'\n",
    "\n",
    "# TRAIN_NEG_PATH = os.path.join(DATA_PATH, 'train_neg.txt') # 100'000 negative tweets\n",
    "# TRAIN_POS_PATH = os.path.join(DATA_PATH, 'train_pos.txt') # 100'000 positive tweets\n",
    "TRAIN_NEG_PATH = os.path.join(DATA_PATH, 'train_neg_full.txt') # 2'500'000 negative tweets\n",
    "TRAIN_POS_PATH = os.path.join(DATA_PATH, 'train_pos_full.txt') # 2'500'000 positive tweets\n",
    "TEST_PATH = os.path.join(DATA_PATH, 'test_data.txt')"
   ]
  },
  {
   "cell_type": "code",
   "execution_count": 3,
   "metadata": {
    "collapsed": true
   },
   "outputs": [],
   "source": [
    "x_text_train, y_train_full = load_data_and_labels(TRAIN_POS_PATH, TRAIN_NEG_PATH)\n",
    "x_text_test = load_test_data(TEST_PATH)"
   ]
  },
  {
   "cell_type": "code",
   "execution_count": 4,
   "metadata": {},
   "outputs": [
    {
     "data": {
      "text/plain": [
       "['i',\n",
       " 'dunno',\n",
       " 'justin',\n",
       " 'read',\n",
       " 'my',\n",
       " 'mention',\n",
       " 'or',\n",
       " 'not',\n",
       " 'only',\n",
       " 'justin',\n",
       " 'and',\n",
       " 'god',\n",
       " 'knows',\n",
       " 'about',\n",
       " 'that',\n",
       " 'but',\n",
       " 'i',\n",
       " 'hope',\n",
       " 'you',\n",
       " 'will',\n",
       " 'follow',\n",
       " 'me',\n",
       " 'believe',\n",
       " '15']"
      ]
     },
     "execution_count": 4,
     "metadata": {},
     "output_type": "execute_result"
    }
   ],
   "source": [
    "x_text_train[0]"
   ]
  },
  {
   "cell_type": "code",
   "execution_count": 12,
   "metadata": {
    "collapsed": true
   },
   "outputs": [],
   "source": [
    "vector_length = 100\n",
    "w2v_model = gensim.models.Word2Vec(x_text_train + x_text_test, \n",
    "                                   min_count=1,\n",
    "                                   workers=4, \n",
    "                                   size=vector_length)"
   ]
  },
  {
   "cell_type": "code",
   "execution_count": 13,
   "metadata": {},
   "outputs": [
    {
     "name": "stdout",
     "output_type": "stream",
     "text": [
      "Word2Vec(vocab=500249, size=100, alpha=0.025)\n"
     ]
    }
   ],
   "source": [
    "print(w2v_model)"
   ]
  },
  {
   "cell_type": "code",
   "execution_count": 14,
   "metadata": {
    "collapsed": true
   },
   "outputs": [],
   "source": [
    "w2v_model.save(MODEL_PATH + 'twitter_w2v_v3.bin')"
   ]
  },
  {
   "cell_type": "code",
   "execution_count": 15,
   "metadata": {
    "collapsed": true
   },
   "outputs": [],
   "source": [
    "# w2v_model = gensim.models.Word2Vec.load(MODEL_PATH + 'twitter_w2v_v2.bin')"
   ]
  },
  {
   "cell_type": "code",
   "execution_count": 16,
   "metadata": {
    "collapsed": true
   },
   "outputs": [],
   "source": [
    "# When training finished delete the training model but retain the word vectors:\n",
    "word_vectors = w2v_model.wv\n",
    "del w2v_model"
   ]
  },
  {
   "cell_type": "code",
   "execution_count": 17,
   "metadata": {},
   "outputs": [
    {
     "data": {
      "text/plain": [
       "[('internet', 0.7185307741165161),\n",
       " ('phone', 0.6644313931465149),\n",
       " ('laptop', 0.6619795560836792),\n",
       " ('ipods', 0.643019437789917),\n",
       " ('desktop', 0.6374680995941162),\n",
       " ('phones', 0.6287487745285034),\n",
       " ('browser', 0.6278807520866394),\n",
       " ('keyboard', 0.6198748350143433),\n",
       " ('wifi', 0.6100819110870361),\n",
       " ('data', 0.601195752620697)]"
      ]
     },
     "execution_count": 17,
     "metadata": {},
     "output_type": "execute_result"
    }
   ],
   "source": [
    "word_vectors.most_similar('computer')"
   ]
  },
  {
   "cell_type": "code",
   "execution_count": 18,
   "metadata": {},
   "outputs": [
    {
     "name": "stdout",
     "output_type": "stream",
     "text": [
      "Maximum sequence length of train and test data: 68\n"
     ]
    }
   ],
   "source": [
    "sequence_length_train = max(len(x) for x in x_text_train)\n",
    "sequence_length_test = max(len(x) for x in x_text_test)\n",
    "sequence_length = max(sequence_length_train, sequence_length_test)\n",
    "print('Maximum sequence length of train and test data:', sequence_length)\n",
    "\n",
    "x_text_train_pad = pad_sentences(x_text_train, padding_word=\"<PAD/>\", sequence_length=sequence_length)\n",
    "x_text_test_pad = pad_sentences(x_text_test, padding_word=\"<PAD/>\", sequence_length=sequence_length)\n",
    "\n",
    "del x_text_train\n",
    "del x_text_test"
   ]
  },
  {
   "cell_type": "code",
   "execution_count": 19,
   "metadata": {
    "collapsed": true
   },
   "outputs": [],
   "source": [
    "class ListDataset(Dataset):\n",
    "    \"\"\"Dataset wrapping data and target lists.\n",
    "\n",
    "    Each sample will be retrieved by indexing both lists along the first\n",
    "    dimension.\n",
    "\n",
    "    Arguments:\n",
    "        data_list (python list): contains sample data.\n",
    "        target_list (python list): contains sample targets (labels).\n",
    "    \"\"\"\n",
    "\n",
    "    def __init__(self, data_list, target_list):\n",
    "        assert len(data_list) == len(target_list)\n",
    "        self.data_list = data_list\n",
    "        self.target_list = target_list\n",
    "\n",
    "    def __getitem__(self, index):\n",
    "        return self.data_list[index], self.target_list[index]\n",
    "\n",
    "    def __len__(self):\n",
    "        return len(self.data_list)"
   ]
  },
  {
   "cell_type": "code",
   "execution_count": 20,
   "metadata": {
    "collapsed": true
   },
   "outputs": [],
   "source": [
    "x_train, x_val, y_train, y_val = train_test_split(x_text_train_pad, \n",
    "                                                  y_train_full, \n",
    "                                                  test_size=0.1, \n",
    "                                                  random_state=42)"
   ]
  },
  {
   "cell_type": "code",
   "execution_count": 21,
   "metadata": {
    "collapsed": true
   },
   "outputs": [],
   "source": [
    "train_dataset = ListDataset(x_train, y_train)\n",
    "batch_size = 100\n",
    "train_loader = torch.utils.data.DataLoader(dataset=train_dataset,\n",
    "                                           batch_size=batch_size, \n",
    "                                           shuffle=True)"
   ]
  },
  {
   "cell_type": "code",
   "execution_count": 22,
   "metadata": {
    "collapsed": true
   },
   "outputs": [],
   "source": [
    "# Network hyperparameters\n",
    "N = len(train_loader.dataset.data_list)      # Number of tweets (eg 200000)\n",
    "S = len(train_loader.dataset.data_list[0])   # Number of words in one sentence (eg 50)\n",
    "V = vector_length                            # Length of word vectors (eg 100)\n",
    "K = 3                                        # Kernel width (K*V)\n",
    "C = 128                                      # Number of convolutional filters\n",
    "F = 2                                        # Number of output neurons in fully connected layer\n",
    "\n",
    "class CNN(nn.Module):\n",
    "    def __init__(self):\n",
    "        super(CNN, self).__init__()\n",
    "        self.conv1 = nn.Conv2d(             # input shape (1, S, V)\n",
    "                in_channels=1,              # input channels\n",
    "                out_channels=C,             # number of filters\n",
    "                kernel_size=(K,V),          # filter size\n",
    "                padding=(1,0)               # to keep size S\n",
    "        )                                   # output shape (C, S, 1)\n",
    "        self.relu = nn.ReLU()               # ReLU activation\n",
    "        self.max_pool1 = nn.MaxPool1d(2)    # max-pool each filter into S/2 output   \n",
    "        self.conv2 = nn.Conv1d(             # input shape (C, S/2)\n",
    "                in_channels=C,              # input channels\n",
    "                out_channels=C,             # number of filters (one for each input channel)\n",
    "                kernel_size=K,              # filter size\n",
    "                padding=1                   # to keep size S/2\n",
    "        )                                   # output shape (C, S/2)\n",
    "        self.max_pool2 = nn.MaxPool1d(int(S/2)) # max pool each filter into 1 output\n",
    "        self.out = nn.Linear(C, F)          # fully connected layer, output F classes\n",
    "\n",
    "    def forward(self, x):\n",
    "        #print(x.data.shape) #torch.Size([100, 74, 100])\n",
    "        \n",
    "        out = x.unsqueeze(1)\n",
    "        #print(out.data.shape) #torch.Size([100, 1, 74, 100])\n",
    "        \n",
    "        out = self.conv1(out)\n",
    "        #print(out.data.shape) #torch.Size([100, 128, 74, 1])\n",
    "        \n",
    "        out = self.relu(out).squeeze(3)\n",
    "        #print(out.data.shape) #torch.Size([100, 128, 74])\n",
    "        \n",
    "        out = self.max_pool1(out)\n",
    "        #print(out.data.shape) #torch.Size([100, 128, 37])\n",
    "        \n",
    "        out = self.conv2(out)\n",
    "        #print(out.data.shape) #torch.Size([100, 128, 37])\n",
    "        \n",
    "        out = self.relu(out)\n",
    "        #print(out.data.shape) #torch.Size([100, 128, 37])\n",
    "        \n",
    "        out = self.max_pool2(out).squeeze(2).float()\n",
    "        #print(out.data.shape) #torch.Size([100, 128])\n",
    "        \n",
    "        out = self.out(out)\n",
    "        #print(out.data.shape) #torch.Size([100, 2])\n",
    "        \n",
    "        return out"
   ]
  },
  {
   "cell_type": "code",
   "execution_count": 23,
   "metadata": {},
   "outputs": [
    {
     "name": "stdout",
     "output_type": "stream",
     "text": [
      "CNN (\n",
      "  (conv1): Conv2d(1, 128, kernel_size=(3, 100), stride=(1, 1), padding=(1, 0))\n",
      "  (relu): ReLU ()\n",
      "  (max_pool1): MaxPool1d (size=2, stride=2, padding=0, dilation=1, ceil_mode=False)\n",
      "  (conv2): Conv1d(128, 128, kernel_size=(3,), stride=(1,), padding=(1,))\n",
      "  (max_pool2): MaxPool1d (size=34, stride=34, padding=0, dilation=1, ceil_mode=False)\n",
      "  (out): Linear (128 -> 2)\n",
      ")\n"
     ]
    }
   ],
   "source": [
    "cnn = CNN()\n",
    "print(cnn) "
   ]
  },
  {
   "cell_type": "code",
   "execution_count": 24,
   "metadata": {
    "collapsed": true
   },
   "outputs": [],
   "source": [
    "num_epochs = 1\n",
    "batch_size = 100\n",
    "learning_rate = 0.01\n",
    "\n",
    "optimizer = torch.optim.Adam(cnn.parameters(), lr=learning_rate)   # optimize all cnn parameters\n",
    "loss_func = nn.CrossEntropyLoss()                                  # the target label is not one-hotted"
   ]
  },
  {
   "cell_type": "code",
   "execution_count": 25,
   "metadata": {
    "collapsed": true
   },
   "outputs": [],
   "source": [
    "# TODO: SLOW!\n",
    "\n",
    "def get_tweets_tensor(tweets, indices=[], verbose=False):\n",
    "    '''Mapping every word to a vector from word2vec\n",
    "    Padding words are mapped to zero\n",
    "    Leave indices empty to map every tweet in tweets\n",
    "    '''\n",
    "\n",
    "    nb_tweets = len(tweets) if len(indices)==0 else len(indices)\n",
    "    tweets_vec = np.zeros((nb_tweets, len(tweets[0]), vector_length), dtype=np.float32)\n",
    "    \n",
    "    if indices == []:\n",
    "        for idx_t, tweet in enumerate(tweets):\n",
    "            for idx_w, word in enumerate(tweet):\n",
    "                if word != '<PAD/>':\n",
    "                    tweets_vec[idx_t, idx_w] = word_vectors.wv[word]  \n",
    "            if verbose and idx_t % 100000 == 0:\n",
    "                print('Transformed {}/{} tweets'.format(idx_t+1, (len(x_text_train_pad))))\n",
    "    else:\n",
    "        for idx_t, orig_idx in enumerate(indices):\n",
    "            for idx_w, word in enumerate(tweets[orig_idx]):\n",
    "                if word != '<PAD/>':\n",
    "                    tweets_vec[idx_t, idx_w] = word_vectors.wv[word]  \n",
    "            if verbose and idx_t % 100000 == 0:\n",
    "                print('Transformed {}/{} tweets'.format(idx_t+1, (len(x_text_train_pad))))\n",
    "    \n",
    "    return torch.from_numpy(tweets_vec)"
   ]
  },
  {
   "cell_type": "code",
   "execution_count": 26,
   "metadata": {},
   "outputs": [
    {
     "name": "stdout",
     "output_type": "stream",
     "text": [
      "Epoch [1/1], Iter [100/22500] Loss: 0.4713\n",
      "Epoch [1/1], Iter [200/22500] Loss: 0.4093\n",
      "Epoch [1/1], Iter [300/22500] Loss: 0.5766\n",
      "Epoch [1/1], Iter [400/22500] Loss: 0.4592\n",
      "Epoch [1/1], Iter [500/22500] Loss: 0.4779\n",
      "Epoch [1/1], Iter [600/22500] Loss: 0.4617\n",
      "Epoch [1/1], Iter [700/22500] Loss: 0.5986\n",
      "Epoch [1/1], Iter [800/22500] Loss: 0.4527\n",
      "Epoch [1/1], Iter [900/22500] Loss: 0.3888\n",
      "Epoch [1/1], Iter [1000/22500] Loss: 0.4881\n",
      "Epoch [1/1], Iter [1100/22500] Loss: 0.4845\n",
      "Epoch [1/1], Iter [1200/22500] Loss: 0.4204\n",
      "Epoch [1/1], Iter [1300/22500] Loss: 0.5057\n",
      "Epoch [1/1], Iter [1400/22500] Loss: 0.4396\n",
      "Epoch [1/1], Iter [1500/22500] Loss: 0.4381\n",
      "Epoch [1/1], Iter [1600/22500] Loss: 0.3539\n",
      "Epoch [1/1], Iter [1700/22500] Loss: 0.4085\n",
      "Epoch [1/1], Iter [1800/22500] Loss: 0.5394\n",
      "Epoch [1/1], Iter [1900/22500] Loss: 0.3993\n",
      "Epoch [1/1], Iter [2000/22500] Loss: 0.5486\n",
      "Epoch [1/1], Iter [2100/22500] Loss: 0.5300\n",
      "Epoch [1/1], Iter [2200/22500] Loss: 0.4767\n",
      "Epoch [1/1], Iter [2300/22500] Loss: 0.3852\n",
      "Epoch [1/1], Iter [2400/22500] Loss: 0.3582\n",
      "Epoch [1/1], Iter [2500/22500] Loss: 0.4706\n",
      "Epoch [1/1], Iter [2600/22500] Loss: 0.4106\n",
      "Epoch [1/1], Iter [2700/22500] Loss: 0.4418\n",
      "Epoch [1/1], Iter [2800/22500] Loss: 0.3869\n",
      "Epoch [1/1], Iter [2900/22500] Loss: 0.3990\n",
      "Epoch [1/1], Iter [3000/22500] Loss: 0.4184\n",
      "Epoch [1/1], Iter [3100/22500] Loss: 0.2946\n",
      "Epoch [1/1], Iter [3200/22500] Loss: 0.4845\n",
      "Epoch [1/1], Iter [3300/22500] Loss: 0.3995\n",
      "Epoch [1/1], Iter [3400/22500] Loss: 0.4190\n",
      "Epoch [1/1], Iter [3500/22500] Loss: 0.3942\n",
      "Epoch [1/1], Iter [3600/22500] Loss: 0.3411\n",
      "Epoch [1/1], Iter [3700/22500] Loss: 0.3955\n",
      "Epoch [1/1], Iter [3800/22500] Loss: 0.4175\n",
      "Epoch [1/1], Iter [3900/22500] Loss: 0.3688\n",
      "Epoch [1/1], Iter [4000/22500] Loss: 0.4073\n",
      "Epoch [1/1], Iter [4100/22500] Loss: 0.3577\n",
      "Epoch [1/1], Iter [4200/22500] Loss: 0.4711\n",
      "Epoch [1/1], Iter [4300/22500] Loss: 0.3804\n",
      "Epoch [1/1], Iter [4400/22500] Loss: 0.4488\n",
      "Epoch [1/1], Iter [4500/22500] Loss: 0.3918\n",
      "Epoch [1/1], Iter [4600/22500] Loss: 0.4401\n",
      "Epoch [1/1], Iter [4700/22500] Loss: 0.4288\n",
      "Epoch [1/1], Iter [4800/22500] Loss: 0.4165\n",
      "Epoch [1/1], Iter [4900/22500] Loss: 0.4109\n",
      "Epoch [1/1], Iter [5000/22500] Loss: 0.4325\n",
      "Epoch [1/1], Iter [5100/22500] Loss: 0.4535\n",
      "Epoch [1/1], Iter [5200/22500] Loss: 0.3243\n",
      "Epoch [1/1], Iter [5300/22500] Loss: 0.4296\n",
      "Epoch [1/1], Iter [5400/22500] Loss: 0.5135\n",
      "Epoch [1/1], Iter [5500/22500] Loss: 0.5278\n",
      "Epoch [1/1], Iter [5600/22500] Loss: 0.4089\n",
      "Epoch [1/1], Iter [5700/22500] Loss: 0.3982\n",
      "Epoch [1/1], Iter [5800/22500] Loss: 0.3808\n",
      "Epoch [1/1], Iter [5900/22500] Loss: 0.4852\n",
      "Epoch [1/1], Iter [6000/22500] Loss: 0.4675\n",
      "Epoch [1/1], Iter [6100/22500] Loss: 0.4439\n",
      "Epoch [1/1], Iter [6200/22500] Loss: 0.4271\n",
      "Epoch [1/1], Iter [6300/22500] Loss: 0.4222\n",
      "Epoch [1/1], Iter [6400/22500] Loss: 0.4054\n",
      "Epoch [1/1], Iter [6500/22500] Loss: 0.4509\n",
      "Epoch [1/1], Iter [6600/22500] Loss: 0.3912\n",
      "Epoch [1/1], Iter [6700/22500] Loss: 0.4013\n",
      "Epoch [1/1], Iter [6800/22500] Loss: 0.3899\n",
      "Epoch [1/1], Iter [6900/22500] Loss: 0.4098\n",
      "Epoch [1/1], Iter [7000/22500] Loss: 0.3871\n",
      "Epoch [1/1], Iter [7100/22500] Loss: 0.4394\n",
      "Epoch [1/1], Iter [7200/22500] Loss: 0.3526\n",
      "Epoch [1/1], Iter [7300/22500] Loss: 0.4208\n",
      "Epoch [1/1], Iter [7400/22500] Loss: 0.4153\n",
      "Epoch [1/1], Iter [7500/22500] Loss: 0.3625\n",
      "Epoch [1/1], Iter [7600/22500] Loss: 0.3531\n",
      "Epoch [1/1], Iter [7700/22500] Loss: 0.3913\n",
      "Epoch [1/1], Iter [7800/22500] Loss: 0.3878\n",
      "Epoch [1/1], Iter [7900/22500] Loss: 0.4067\n",
      "Epoch [1/1], Iter [8000/22500] Loss: 0.4845\n",
      "Epoch [1/1], Iter [8100/22500] Loss: 0.4531\n",
      "Epoch [1/1], Iter [8200/22500] Loss: 0.4196\n",
      "Epoch [1/1], Iter [8300/22500] Loss: 0.4274\n",
      "Epoch [1/1], Iter [8400/22500] Loss: 0.3534\n",
      "Epoch [1/1], Iter [8500/22500] Loss: 0.3361\n",
      "Epoch [1/1], Iter [8600/22500] Loss: 0.4906\n",
      "Epoch [1/1], Iter [8700/22500] Loss: 0.4092\n",
      "Epoch [1/1], Iter [8800/22500] Loss: 0.5234\n",
      "Epoch [1/1], Iter [8900/22500] Loss: 0.4555\n",
      "Epoch [1/1], Iter [9000/22500] Loss: 0.4761\n",
      "Epoch [1/1], Iter [9100/22500] Loss: 0.3681\n",
      "Epoch [1/1], Iter [9200/22500] Loss: 0.3129\n",
      "Epoch [1/1], Iter [9300/22500] Loss: 0.3356\n",
      "Epoch [1/1], Iter [9400/22500] Loss: 0.4107\n",
      "Epoch [1/1], Iter [9500/22500] Loss: 0.4664\n",
      "Epoch [1/1], Iter [9600/22500] Loss: 0.3588\n",
      "Epoch [1/1], Iter [9700/22500] Loss: 0.5040\n",
      "Epoch [1/1], Iter [9800/22500] Loss: 0.5125\n",
      "Epoch [1/1], Iter [9900/22500] Loss: 0.5382\n",
      "Epoch [1/1], Iter [10000/22500] Loss: 0.4607\n",
      "Epoch [1/1], Iter [10100/22500] Loss: 0.4071\n",
      "Epoch [1/1], Iter [10200/22500] Loss: 0.3582\n",
      "Epoch [1/1], Iter [10300/22500] Loss: 0.4018\n",
      "Epoch [1/1], Iter [10400/22500] Loss: 0.3956\n",
      "Epoch [1/1], Iter [10500/22500] Loss: 0.4422\n",
      "Epoch [1/1], Iter [10600/22500] Loss: 0.4413\n",
      "Epoch [1/1], Iter [10700/22500] Loss: 0.3764\n",
      "Epoch [1/1], Iter [10800/22500] Loss: 0.4350\n",
      "Epoch [1/1], Iter [10900/22500] Loss: 0.4849\n",
      "Epoch [1/1], Iter [11000/22500] Loss: 0.4701\n",
      "Epoch [1/1], Iter [11100/22500] Loss: 0.3199\n",
      "Epoch [1/1], Iter [11200/22500] Loss: 0.4704\n",
      "Epoch [1/1], Iter [11300/22500] Loss: 0.4187\n",
      "Epoch [1/1], Iter [11400/22500] Loss: 0.4179\n",
      "Epoch [1/1], Iter [11500/22500] Loss: 0.5300\n",
      "Epoch [1/1], Iter [11600/22500] Loss: 0.5153\n",
      "Epoch [1/1], Iter [11700/22500] Loss: 0.4753\n",
      "Epoch [1/1], Iter [11800/22500] Loss: 0.3990\n",
      "Epoch [1/1], Iter [11900/22500] Loss: 0.3127\n",
      "Epoch [1/1], Iter [12000/22500] Loss: 0.4891\n",
      "Epoch [1/1], Iter [12100/22500] Loss: 0.4544\n",
      "Epoch [1/1], Iter [12200/22500] Loss: 0.3763\n",
      "Epoch [1/1], Iter [12300/22500] Loss: 0.3506\n",
      "Epoch [1/1], Iter [12400/22500] Loss: 0.4085\n",
      "Epoch [1/1], Iter [12500/22500] Loss: 0.4744\n",
      "Epoch [1/1], Iter [12600/22500] Loss: 0.4423\n",
      "Epoch [1/1], Iter [12700/22500] Loss: 0.3504\n",
      "Epoch [1/1], Iter [12800/22500] Loss: 0.3304\n",
      "Epoch [1/1], Iter [12900/22500] Loss: 0.5475\n",
      "Epoch [1/1], Iter [13000/22500] Loss: 0.3645\n",
      "Epoch [1/1], Iter [13100/22500] Loss: 0.3537\n",
      "Epoch [1/1], Iter [13200/22500] Loss: 0.3584\n",
      "Epoch [1/1], Iter [13300/22500] Loss: 0.3332\n",
      "Epoch [1/1], Iter [13400/22500] Loss: 0.3126\n",
      "Epoch [1/1], Iter [13500/22500] Loss: 0.3886\n",
      "Epoch [1/1], Iter [13600/22500] Loss: 0.3860\n",
      "Epoch [1/1], Iter [13700/22500] Loss: 0.3475\n",
      "Epoch [1/1], Iter [13800/22500] Loss: 0.3760\n",
      "Epoch [1/1], Iter [13900/22500] Loss: 0.4416\n",
      "Epoch [1/1], Iter [14000/22500] Loss: 0.3178\n",
      "Epoch [1/1], Iter [14100/22500] Loss: 0.3879\n",
      "Epoch [1/1], Iter [14200/22500] Loss: 0.4328\n",
      "Epoch [1/1], Iter [14300/22500] Loss: 0.3295\n",
      "Epoch [1/1], Iter [14400/22500] Loss: 0.4239\n",
      "Epoch [1/1], Iter [14500/22500] Loss: 0.4161\n",
      "Epoch [1/1], Iter [14600/22500] Loss: 0.3668\n",
      "Epoch [1/1], Iter [14700/22500] Loss: 0.4231\n",
      "Epoch [1/1], Iter [14800/22500] Loss: 0.3300\n",
      "Epoch [1/1], Iter [14900/22500] Loss: 0.3880\n",
      "Epoch [1/1], Iter [15000/22500] Loss: 0.3550\n",
      "Epoch [1/1], Iter [15100/22500] Loss: 0.4399\n",
      "Epoch [1/1], Iter [15200/22500] Loss: 0.5044\n",
      "Epoch [1/1], Iter [15300/22500] Loss: 0.4145\n",
      "Epoch [1/1], Iter [15400/22500] Loss: 0.4301\n",
      "Epoch [1/1], Iter [15500/22500] Loss: 0.3843\n",
      "Epoch [1/1], Iter [15600/22500] Loss: 0.3643\n",
      "Epoch [1/1], Iter [15700/22500] Loss: 0.4006\n",
      "Epoch [1/1], Iter [15800/22500] Loss: 0.3777\n",
      "Epoch [1/1], Iter [15900/22500] Loss: 0.4438\n",
      "Epoch [1/1], Iter [16000/22500] Loss: 0.3968\n",
      "Epoch [1/1], Iter [16100/22500] Loss: 0.4514\n",
      "Epoch [1/1], Iter [16200/22500] Loss: 0.3559\n",
      "Epoch [1/1], Iter [16300/22500] Loss: 0.5077\n",
      "Epoch [1/1], Iter [16400/22500] Loss: 0.4185\n",
      "Epoch [1/1], Iter [16500/22500] Loss: 0.4750\n",
      "Epoch [1/1], Iter [16600/22500] Loss: 0.5278\n",
      "Epoch [1/1], Iter [16700/22500] Loss: 0.3731\n",
      "Epoch [1/1], Iter [16800/22500] Loss: 0.4940\n",
      "Epoch [1/1], Iter [16900/22500] Loss: 0.4255\n",
      "Epoch [1/1], Iter [17000/22500] Loss: 0.4440\n",
      "Epoch [1/1], Iter [17100/22500] Loss: 0.3953\n",
      "Epoch [1/1], Iter [17200/22500] Loss: 0.4952\n",
      "Epoch [1/1], Iter [17300/22500] Loss: 0.4649\n",
      "Epoch [1/1], Iter [17400/22500] Loss: 0.4844\n",
      "Epoch [1/1], Iter [17500/22500] Loss: 0.4291\n",
      "Epoch [1/1], Iter [17600/22500] Loss: 0.4648\n",
      "Epoch [1/1], Iter [17700/22500] Loss: 0.4305\n",
      "Epoch [1/1], Iter [17800/22500] Loss: 0.4615\n",
      "Epoch [1/1], Iter [17900/22500] Loss: 0.4476\n",
      "Epoch [1/1], Iter [18000/22500] Loss: 0.3673\n",
      "Epoch [1/1], Iter [18100/22500] Loss: 0.4236\n",
      "Epoch [1/1], Iter [18200/22500] Loss: 0.3540\n",
      "Epoch [1/1], Iter [18300/22500] Loss: 0.3840\n",
      "Epoch [1/1], Iter [18400/22500] Loss: 0.4616\n",
      "Epoch [1/1], Iter [18500/22500] Loss: 0.3630\n"
     ]
    },
    {
     "name": "stdout",
     "output_type": "stream",
     "text": [
      "Epoch [1/1], Iter [18600/22500] Loss: 0.4168\n",
      "Epoch [1/1], Iter [18700/22500] Loss: 0.4409\n",
      "Epoch [1/1], Iter [18800/22500] Loss: 0.4184\n",
      "Epoch [1/1], Iter [18900/22500] Loss: 0.5372\n",
      "Epoch [1/1], Iter [19000/22500] Loss: 0.4272\n",
      "Epoch [1/1], Iter [19100/22500] Loss: 0.5154\n",
      "Epoch [1/1], Iter [19200/22500] Loss: 0.3382\n",
      "Epoch [1/1], Iter [19300/22500] Loss: 0.3994\n",
      "Epoch [1/1], Iter [19400/22500] Loss: 0.4104\n",
      "Epoch [1/1], Iter [19500/22500] Loss: 0.5500\n",
      "Epoch [1/1], Iter [19600/22500] Loss: 0.4074\n",
      "Epoch [1/1], Iter [19700/22500] Loss: 0.4549\n",
      "Epoch [1/1], Iter [19800/22500] Loss: 0.4309\n",
      "Epoch [1/1], Iter [19900/22500] Loss: 0.4599\n",
      "Epoch [1/1], Iter [20000/22500] Loss: 0.3776\n",
      "Epoch [1/1], Iter [20100/22500] Loss: 0.3404\n",
      "Epoch [1/1], Iter [20200/22500] Loss: 0.3822\n",
      "Epoch [1/1], Iter [20300/22500] Loss: 0.3626\n",
      "Epoch [1/1], Iter [20400/22500] Loss: 0.3703\n",
      "Epoch [1/1], Iter [20500/22500] Loss: 0.3396\n",
      "Epoch [1/1], Iter [20600/22500] Loss: 0.4932\n",
      "Epoch [1/1], Iter [20700/22500] Loss: 0.4253\n",
      "Epoch [1/1], Iter [20800/22500] Loss: 0.3800\n",
      "Epoch [1/1], Iter [20900/22500] Loss: 0.3857\n",
      "Epoch [1/1], Iter [21000/22500] Loss: 0.4473\n",
      "Epoch [1/1], Iter [21100/22500] Loss: 0.4489\n",
      "Epoch [1/1], Iter [21200/22500] Loss: 0.4312\n",
      "Epoch [1/1], Iter [21300/22500] Loss: 0.3754\n",
      "Epoch [1/1], Iter [21400/22500] Loss: 0.3393\n",
      "Epoch [1/1], Iter [21500/22500] Loss: 0.3739\n",
      "Epoch [1/1], Iter [21600/22500] Loss: 0.3921\n",
      "Epoch [1/1], Iter [21700/22500] Loss: 0.4547\n",
      "Epoch [1/1], Iter [21800/22500] Loss: 0.4817\n",
      "Epoch [1/1], Iter [21900/22500] Loss: 0.3307\n",
      "Epoch [1/1], Iter [22000/22500] Loss: 0.3975\n",
      "Epoch [1/1], Iter [22100/22500] Loss: 0.5025\n",
      "Epoch [1/1], Iter [22200/22500] Loss: 0.3922\n",
      "Epoch [1/1], Iter [22300/22500] Loss: 0.4944\n",
      "Epoch [1/1], Iter [22400/22500] Loss: 0.4093\n",
      "Epoch [1/1], Iter [22500/22500] Loss: 0.4167\n",
      "Finished Training\n"
     ]
    }
   ],
   "source": [
    "for epoch in range(num_epochs):  # loop over the dataset multiple times \n",
    "    for i, batch_indices in enumerate(train_loader.batch_sampler):   # iterate over mini-batches  \n",
    "        # Converting tweets to vectors and storing it in a variable\n",
    "        sentences = get_tweets_tensor(train_loader.dataset.data_list, batch_indices, verbose=False)\n",
    "        x = Variable(sentences)\n",
    "        \n",
    "        # Converting labels to a variable\n",
    "        labels = torch.from_numpy(train_loader.dataset.target_list[batch_indices])\n",
    "        y = Variable(labels, requires_grad=False)\n",
    "        \n",
    "        # Forward + Backward + Optimize\n",
    "        optimizer.zero_grad() # reset gradient\n",
    "        outputs = cnn(x) # cnn output\n",
    "        loss = loss_func(outputs, y) # clear gradients for this training step\n",
    "        loss.backward() # backpropagation, compute gradients\n",
    "        optimizer.step() # apply gradients\n",
    "        \n",
    "        if (i+1) % 100 == 0:\n",
    "            print('Epoch [%d/%d], Iter [%d/%d] Loss: %.4f' \n",
    "                  %(epoch+1, num_epochs, i+1, len(train_dataset)//batch_size, loss.data[0]))\n",
    "\n",
    "print('Finished Training')"
   ]
  },
  {
   "cell_type": "code",
   "execution_count": 27,
   "metadata": {},
   "outputs": [
    {
     "name": "stderr",
     "output_type": "stream",
     "text": [
      "/Applications/anaconda3/lib/python3.6/site-packages/ipykernel_launcher.py:12: DeprecationWarning: elementwise == comparison failed; this will raise an error in the future.\n",
      "  if sys.path[0] == '':\n"
     ]
    },
    {
     "name": "stdout",
     "output_type": "stream",
     "text": [
      "Accuracy: 0.8085%\n"
     ]
    },
    {
     "data": {
      "text/plain": [
       "0.8085"
      ]
     },
     "execution_count": 27,
     "metadata": {},
     "output_type": "execute_result"
    }
   ],
   "source": [
    "# Evaluate n predictions from test data\n",
    "n = 10000\n",
    "val_output_n = cnn(Variable(get_tweets_tensor(x_val, indices=np.arange(n), verbose=False)))\n",
    "y_val_pred_n = torch.max(val_output_n, 1)[1].data.numpy().squeeze()\n",
    "accuracy(y_val_pred_n, y_val[:n], verbose=True)"
   ]
  },
  {
   "cell_type": "code",
   "execution_count": null,
   "metadata": {
    "collapsed": true
   },
   "outputs": [],
   "source": [
    "test_output = cnn(Variable(get_tweets_tensor(x_text_test_pad, verbose=False)))\n",
    "y_pred = torch.max(test_output, 1)[1].data.numpy().squeeze()"
   ]
  },
  {
   "cell_type": "code",
   "execution_count": null,
   "metadata": {
    "collapsed": true
   },
   "outputs": [],
   "source": [
    "y_pred[y_pred == 0] = -1\n",
    "y_pred"
   ]
  },
  {
   "cell_type": "code",
   "execution_count": null,
   "metadata": {
    "collapsed": true
   },
   "outputs": [],
   "source": [
    "ids = np.arange(len(y_pred)+1)[1:]\n",
    "ids"
   ]
  },
  {
   "cell_type": "code",
   "execution_count": null,
   "metadata": {
    "collapsed": true
   },
   "outputs": [],
   "source": [
    "create_csv_submission(ids, y_pred, 'kaggle_submission.csv')"
   ]
  }
 ],
 "metadata": {
  "kernelspec": {
   "display_name": "Python 3",
   "language": "python",
   "name": "python3"
  },
  "language_info": {
   "codemirror_mode": {
    "name": "ipython",
    "version": 3
   },
   "file_extension": ".py",
   "mimetype": "text/x-python",
   "name": "python",
   "nbconvert_exporter": "python",
   "pygments_lexer": "ipython3",
   "version": "3.6.3"
  }
 },
 "nbformat": 4,
 "nbformat_minor": 2
}
