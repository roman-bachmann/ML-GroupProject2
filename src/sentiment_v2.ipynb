{
 "cells": [
  {
   "cell_type": "markdown",
   "metadata": {},
   "source": [
    "# Twitter Sentiment Classification - Version 2"
   ]
  },
  {
   "cell_type": "code",
   "execution_count": 1,
   "metadata": {
    "collapsed": true
   },
   "outputs": [],
   "source": [
    "import os \n",
    "import pandas as pd\n",
    "import numpy as np\n",
    "\n",
    "from sklearn.model_selection import train_test_split\n",
    "\n",
    "import gensim\n",
    "import Cython\n",
    "\n",
    "import torch\n",
    "import torch.nn as nn\n",
    "import torch.nn.functional as F\n",
    "from torch.autograd import Variable\n",
    "from torch.utils.data import Dataset, TensorDataset, DataLoader\n",
    "\n",
    "from torchtext import data\n",
    "\n",
    "from helpers import *\n",
    "from data import create_csv_submission"
   ]
  },
  {
   "cell_type": "markdown",
   "metadata": {},
   "source": [
    "## Step 1: Load tweets"
   ]
  },
  {
   "cell_type": "code",
   "execution_count": 8,
   "metadata": {
    "collapsed": true
   },
   "outputs": [],
   "source": [
    "DATA_PATH = '../twitter-datasets/'\n",
    "MODEL_PATH = '../models/'\n",
    "\n",
    "#TRAIN_NEG_PATH = os.path.join(DATA_PATH, 'train_neg.txt') # 100'000 negative tweets\n",
    "#TRAIN_POS_PATH = os.path.join(DATA_PATH, 'train_pos.txt') # 100'000 positive tweets\n",
    "TRAIN_NEG_PATH = os.path.join(DATA_PATH, 'train_neg_full.txt') # 2'500'000 negative tweets\n",
    "TRAIN_POS_PATH = os.path.join(DATA_PATH, 'train_pos_full.txt') # 2'500'000 positive tweets\n",
    "TEST_PATH = os.path.join(DATA_PATH, 'test_data.txt')"
   ]
  },
  {
   "cell_type": "code",
   "execution_count": 3,
   "metadata": {
    "collapsed": true
   },
   "outputs": [],
   "source": [
    "x_text_train, y_train_full = load_data_and_labels(TRAIN_POS_PATH, TRAIN_NEG_PATH)"
   ]
  },
  {
   "cell_type": "code",
   "execution_count": 4,
   "metadata": {
    "collapsed": true
   },
   "outputs": [],
   "source": [
    "x_text_test = load_test_data(TEST_PATH)"
   ]
  },
  {
   "cell_type": "markdown",
   "metadata": {},
   "source": [
    "## Step 2: Build word2vec vocabulary"
   ]
  },
  {
   "cell_type": "code",
   "execution_count": 5,
   "metadata": {
    "collapsed": true
   },
   "outputs": [],
   "source": [
    "vector_length = 100\n",
    "w2v_model = gensim.models.Word2Vec(x_text_train + x_text_test, min_count=1, workers=4, size=vector_length)"
   ]
  },
  {
   "cell_type": "code",
   "execution_count": 6,
   "metadata": {},
   "outputs": [
    {
     "name": "stdout",
     "output_type": "stream",
     "text": [
      "Word2Vec(vocab=496335, size=100, alpha=0.025)\n"
     ]
    }
   ],
   "source": [
    "print(w2v_model)"
   ]
  },
  {
   "cell_type": "code",
   "execution_count": 9,
   "metadata": {
    "collapsed": true
   },
   "outputs": [],
   "source": [
    "w2v_model.save(MODEL_PATH + 'twitter_w2v.bin')"
   ]
  },
  {
   "cell_type": "code",
   "execution_count": 10,
   "metadata": {
    "collapsed": true
   },
   "outputs": [],
   "source": [
    "w2v_model = gensim.models.Word2Vec.load(MODEL_PATH + 'twitter_w2v.bin')"
   ]
  },
  {
   "cell_type": "code",
   "execution_count": 12,
   "metadata": {
    "collapsed": true
   },
   "outputs": [],
   "source": [
    "# When training finished delete the training model but retain the word vectors:\n",
    "word_vectors = w2v_model.wv\n",
    "del w2v_model"
   ]
  },
  {
   "cell_type": "code",
   "execution_count": 49,
   "metadata": {},
   "outputs": [
    {
     "data": {
      "text/plain": [
       "(100,)"
      ]
     },
     "execution_count": 49,
     "metadata": {},
     "output_type": "execute_result"
    }
   ],
   "source": [
    "word_vectors.wv['computer'].shape"
   ]
  },
  {
   "cell_type": "code",
   "execution_count": 14,
   "metadata": {},
   "outputs": [
    {
     "data": {
      "text/plain": [
       "[('internet', 0.708969235420227),\n",
       " ('desktop', 0.6651554107666016),\n",
       " ('calculator', 0.6596795320510864),\n",
       " ('settings', 0.6567734479904175),\n",
       " ('laptop', 0.6565127372741699),\n",
       " ('phone', 0.6472017168998718),\n",
       " ('browser', 0.635584831237793),\n",
       " ('portfolio', 0.6346469521522522),\n",
       " ('wifi', 0.6323057413101196),\n",
       " ('desk', 0.6210508346557617)]"
      ]
     },
     "execution_count": 14,
     "metadata": {},
     "output_type": "execute_result"
    }
   ],
   "source": [
    "word_vectors.most_similar('computer')"
   ]
  },
  {
   "cell_type": "markdown",
   "metadata": {},
   "source": [
    "## Step 3: Convert tweets into sentences of vectors"
   ]
  },
  {
   "cell_type": "code",
   "execution_count": 15,
   "metadata": {
    "scrolled": true
   },
   "outputs": [
    {
     "name": "stdout",
     "output_type": "stream",
     "text": [
      "Maximum sequence length of train and test data: 74\n"
     ]
    }
   ],
   "source": [
    "# Compute the number of words of the longest tweet to get the maximal sentence length\n",
    "sequence_length_train = max(len(x) for x in x_text_train)\n",
    "sequence_length_test = max(len(x) for x in x_text_test)\n",
    "sequence_length = max(sequence_length_train, sequence_length_test)\n",
    "print('Maximum sequence length of train and test data:', sequence_length)\n",
    "\n",
    "x_text_train_pad = pad_sentences(x_text_train, padding_word=\"<PAD/>\", sequence_length=sequence_length)\n",
    "x_text_test_pad = pad_sentences(x_text_test, padding_word=\"<PAD/>\", sequence_length=sequence_length)\n",
    "\n",
    "del x_text_train\n",
    "del x_text_test"
   ]
  },
  {
   "cell_type": "code",
   "execution_count": 16,
   "metadata": {
    "collapsed": true
   },
   "outputs": [],
   "source": [
    "# Split into training and validation data\n",
    "x_train, x_val, y_train, y_val = train_test_split(x_text_train_pad, y_train_full, test_size=0.01, random_state=42)"
   ]
  },
  {
   "cell_type": "code",
   "execution_count": 17,
   "metadata": {},
   "outputs": [
    {
     "data": {
      "text/plain": [
       "(2475000, 74)"
      ]
     },
     "execution_count": 17,
     "metadata": {},
     "output_type": "execute_result"
    }
   ],
   "source": [
    "len(x_train), len(x_train[0])"
   ]
  },
  {
   "cell_type": "code",
   "execution_count": 18,
   "metadata": {},
   "outputs": [
    {
     "data": {
      "text/plain": [
       "(25000, 74)"
      ]
     },
     "execution_count": 18,
     "metadata": {},
     "output_type": "execute_result"
    }
   ],
   "source": [
    "len(x_val), len(x_val[0])"
   ]
  },
  {
   "cell_type": "code",
   "execution_count": 19,
   "metadata": {
    "collapsed": true
   },
   "outputs": [],
   "source": [
    "# TODO: SLOW!\n",
    "\n",
    "def get_tweets_tensor(tweets, indices=[], verbose=False):\n",
    "    '''Mapping every word to a vector from word2vec\n",
    "    Padding words are mapped to zero\n",
    "    Leave indices empty to map every tweet in tweets\n",
    "    '''\n",
    "\n",
    "    nb_tweets = len(tweets) if len(indices)==0 else len(indices)\n",
    "    tweets_vec = np.zeros((nb_tweets, len(tweets[0]), vector_length), dtype=np.float32)\n",
    "    \n",
    "    if indices == []:\n",
    "        for idx_t, tweet in enumerate(tweets):\n",
    "            for idx_w, word in enumerate(tweet):\n",
    "                if word != '<PAD/>':\n",
    "                    tweets_vec[idx_t, idx_w] = word_vectors.wv[word]  \n",
    "            if verbose and idx_t % 100000 == 0:\n",
    "                print('Transformed {}/{} tweets'.format(idx_t+1, (len(x_text_train_pad))))\n",
    "    else:\n",
    "        for idx_t, orig_idx in enumerate(indices):\n",
    "            for idx_w, word in enumerate(tweets[orig_idx]):\n",
    "                if word != '<PAD/>':\n",
    "                    tweets_vec[idx_t, idx_w] = word_vectors.wv[word]  \n",
    "            if verbose and idx_t % 100000 == 0:\n",
    "                print('Transformed {}/{} tweets'.format(idx_t+1, (len(x_text_train_pad))))\n",
    "    \n",
    "    return torch.from_numpy(tweets_vec)"
   ]
  },
  {
   "cell_type": "markdown",
   "metadata": {},
   "source": [
    "## Step 4: Classification"
   ]
  },
  {
   "cell_type": "code",
   "execution_count": 38,
   "metadata": {
    "collapsed": true
   },
   "outputs": [],
   "source": [
    "class ListDataset(Dataset):\n",
    "    \"\"\"Dataset wrapping data and target lists.\n",
    "\n",
    "    Each sample will be retrieved by indexing both lists along the first\n",
    "    dimension.\n",
    "\n",
    "    Arguments:\n",
    "        data_list (python list): contains sample data.\n",
    "        target_list (python list): contains sample targets (labels).\n",
    "    \"\"\"\n",
    "\n",
    "    def __init__(self, data_list, target_list):\n",
    "        assert len(data_list) == len(target_list)\n",
    "        self.data_list = data_list\n",
    "        self.target_list = target_list\n",
    "\n",
    "    def __getitem__(self, index):\n",
    "        return self.data_list[index], self.target_list[index]\n",
    "\n",
    "    def __len__(self):\n",
    "        return len(self.data_list)"
   ]
  },
  {
   "cell_type": "code",
   "execution_count": 39,
   "metadata": {
    "collapsed": true
   },
   "outputs": [],
   "source": [
    "train_dataset = ListDataset(x_train, y_train)\n",
    "train_loader = torch.utils.data.DataLoader(dataset=train_dataset,\n",
    "                                           batch_size=batch_size, \n",
    "                                           shuffle=True)"
   ]
  },
  {
   "cell_type": "code",
   "execution_count": 88,
   "metadata": {
    "collapsed": true
   },
   "outputs": [],
   "source": [
    "# Network hyperparameters\n",
    "N = len(train_loader.dataset.data_list)      # Number of tweets (eg 200000)\n",
    "S = len(train_loader.dataset.data_list[0])   # Number of words in one sentence (eg 50)\n",
    "V = vector_length                            # Length of word vectors (eg 100)\n",
    "K = 3                                        # Kernel width (K*V)\n",
    "C = 128                                      # Number of convolutional filters\n",
    "F = 2                                        # Number of output neurons in fully connected layer\n",
    "\n",
    "class CNN(nn.Module):\n",
    "    def __init__(self):\n",
    "        super(CNN, self).__init__()\n",
    "        self.conv1 = nn.Conv2d(             # input shape (1, S, V)\n",
    "                in_channels=1,              # input channels\n",
    "                out_channels=C,             # number of filters\n",
    "                kernel_size=(K,V),          # filter size\n",
    "                padding=(1,0)               # to keep size S\n",
    "        )                                   # output shape (C, S, 1)\n",
    "        self.relu = nn.ReLU()               # ReLU activation\n",
    "        self.max_pool1 = nn.MaxPool1d(2)    # max-pool each filter into S/2 output   \n",
    "        self.conv2 = nn.Conv1d(             # input shape (C, S/2)\n",
    "                in_channels=C,              # input channels\n",
    "                out_channels=C,             # number of filters (one for each input channel)\n",
    "                kernel_size=K,              # filter size\n",
    "                padding=1                   # to keep size S/2\n",
    "        )                                   # output shape (C, S/2)\n",
    "        self.max_pool2 = nn.MaxPool1d(int(S/2)) # max pool each filter into 1 output\n",
    "        self.out = nn.Linear(C, F)          # fully connected layer, output F classes\n",
    "\n",
    "    def forward(self, x):\n",
    "        #print(x.data.shape) #torch.Size([100, 74, 100])\n",
    "        \n",
    "        out = x.unsqueeze(1)\n",
    "        #print(out.data.shape) #torch.Size([100, 1, 74, 100])\n",
    "        \n",
    "        out = self.conv1(out)\n",
    "        #print(out.data.shape) #torch.Size([100, 128, 74, 1])\n",
    "        \n",
    "        out = self.relu(out).squeeze(3)\n",
    "        #print(out.data.shape) #torch.Size([100, 128, 74])\n",
    "        \n",
    "        out = self.max_pool1(out)\n",
    "        #print(out.data.shape) #torch.Size([100, 128, 37])\n",
    "        \n",
    "        out = self.conv2(out)\n",
    "        #print(out.data.shape) #torch.Size([100, 128, 37])\n",
    "        \n",
    "        out = self.relu(out)\n",
    "        #print(out.data.shape) #torch.Size([100, 128, 37])\n",
    "        \n",
    "        out = self.max_pool2(out).squeeze(2).float()\n",
    "        #print(out.data.shape) #torch.Size([100, 128])\n",
    "        \n",
    "        out = self.out(out)\n",
    "        #print(out.data.shape) #torch.Size([100, 2])\n",
    "        \n",
    "        return out"
   ]
  },
  {
   "cell_type": "code",
   "execution_count": 89,
   "metadata": {},
   "outputs": [
    {
     "name": "stdout",
     "output_type": "stream",
     "text": [
      "CNN (\n",
      "  (conv1): Conv2d(1, 128, kernel_size=(3, 100), stride=(1, 1), padding=(1, 0))\n",
      "  (relu): ReLU ()\n",
      "  (max_pool1): MaxPool1d (size=2, stride=2, padding=0, dilation=1, ceil_mode=False)\n",
      "  (conv2): Conv1d(128, 128, kernel_size=(3,), stride=(1,), padding=(1,))\n",
      "  (max_pool2): MaxPool1d (size=37, stride=37, padding=0, dilation=1, ceil_mode=False)\n",
      "  (out): Linear (128 -> 2)\n",
      ")\n"
     ]
    }
   ],
   "source": [
    "cnn = CNN()\n",
    "print(cnn)  # net architecture"
   ]
  },
  {
   "cell_type": "code",
   "execution_count": 90,
   "metadata": {
    "collapsed": true
   },
   "outputs": [],
   "source": [
    "# Hyper Parameters\n",
    "num_epochs = 1\n",
    "batch_size = 100\n",
    "learning_rate = 0.001\n",
    "\n",
    "optimizer = torch.optim.Adam(cnn.parameters(), lr=learning_rate)   # optimize all cnn parameters\n",
    "loss_func = nn.CrossEntropyLoss()                                  # the target label is not one-hotted"
   ]
  },
  {
   "cell_type": "code",
   "execution_count": 91,
   "metadata": {
    "scrolled": true
   },
   "outputs": [
    {
     "name": "stdout",
     "output_type": "stream",
     "text": [
      "Epoch [1/1], Iter [100/24750] Loss: 0.4751\n",
      "Epoch [1/1], Iter [200/24750] Loss: 0.3931\n",
      "Epoch [1/1], Iter [300/24750] Loss: 0.3675\n",
      "Epoch [1/1], Iter [400/24750] Loss: 0.4317\n",
      "Epoch [1/1], Iter [500/24750] Loss: 0.3259\n",
      "Epoch [1/1], Iter [600/24750] Loss: 0.3553\n",
      "Epoch [1/1], Iter [700/24750] Loss: 0.3634\n",
      "Epoch [1/1], Iter [800/24750] Loss: 0.2981\n",
      "Epoch [1/1], Iter [900/24750] Loss: 0.3610\n",
      "Epoch [1/1], Iter [1000/24750] Loss: 0.3903\n",
      "Epoch [1/1], Iter [1100/24750] Loss: 0.4249\n",
      "Epoch [1/1], Iter [1200/24750] Loss: 0.3786\n",
      "Epoch [1/1], Iter [1300/24750] Loss: 0.3896\n",
      "Epoch [1/1], Iter [1400/24750] Loss: 0.2384\n",
      "Epoch [1/1], Iter [1500/24750] Loss: 0.3396\n",
      "Epoch [1/1], Iter [1600/24750] Loss: 0.3302\n",
      "Epoch [1/1], Iter [1700/24750] Loss: 0.3069\n",
      "Epoch [1/1], Iter [1800/24750] Loss: 0.4057\n",
      "Epoch [1/1], Iter [1900/24750] Loss: 0.3877\n",
      "Epoch [1/1], Iter [2000/24750] Loss: 0.4271\n",
      "Epoch [1/1], Iter [2100/24750] Loss: 0.3848\n",
      "Epoch [1/1], Iter [2200/24750] Loss: 0.4332\n",
      "Epoch [1/1], Iter [2300/24750] Loss: 0.4577\n",
      "Epoch [1/1], Iter [2400/24750] Loss: 0.4272\n",
      "Epoch [1/1], Iter [2500/24750] Loss: 0.3146\n",
      "Epoch [1/1], Iter [2600/24750] Loss: 0.3718\n",
      "Epoch [1/1], Iter [2700/24750] Loss: 0.4645\n",
      "Epoch [1/1], Iter [2800/24750] Loss: 0.3847\n",
      "Epoch [1/1], Iter [2900/24750] Loss: 0.2723\n",
      "Epoch [1/1], Iter [3000/24750] Loss: 0.3881\n",
      "Epoch [1/1], Iter [3100/24750] Loss: 0.3690\n",
      "Epoch [1/1], Iter [3200/24750] Loss: 0.3232\n",
      "Epoch [1/1], Iter [3300/24750] Loss: 0.3502\n",
      "Epoch [1/1], Iter [3400/24750] Loss: 0.3919\n",
      "Epoch [1/1], Iter [3500/24750] Loss: 0.3218\n",
      "Epoch [1/1], Iter [3600/24750] Loss: 0.3135\n",
      "Epoch [1/1], Iter [3700/24750] Loss: 0.3508\n",
      "Epoch [1/1], Iter [3800/24750] Loss: 0.4712\n",
      "Epoch [1/1], Iter [3900/24750] Loss: 0.4270\n",
      "Epoch [1/1], Iter [4000/24750] Loss: 0.3111\n",
      "Epoch [1/1], Iter [4100/24750] Loss: 0.3988\n",
      "Epoch [1/1], Iter [4200/24750] Loss: 0.2443\n",
      "Epoch [1/1], Iter [4300/24750] Loss: 0.3319\n",
      "Epoch [1/1], Iter [4400/24750] Loss: 0.4757\n",
      "Epoch [1/1], Iter [4500/24750] Loss: 0.3565\n",
      "Epoch [1/1], Iter [4600/24750] Loss: 0.3116\n",
      "Epoch [1/1], Iter [4700/24750] Loss: 0.3639\n",
      "Epoch [1/1], Iter [4800/24750] Loss: 0.3176\n",
      "Epoch [1/1], Iter [4900/24750] Loss: 0.3514\n",
      "Epoch [1/1], Iter [5000/24750] Loss: 0.3584\n",
      "Epoch [1/1], Iter [5100/24750] Loss: 0.3741\n",
      "Epoch [1/1], Iter [5200/24750] Loss: 0.3402\n",
      "Epoch [1/1], Iter [5300/24750] Loss: 0.3116\n",
      "Epoch [1/1], Iter [5400/24750] Loss: 0.3906\n",
      "Epoch [1/1], Iter [5500/24750] Loss: 0.3469\n",
      "Epoch [1/1], Iter [5600/24750] Loss: 0.4042\n",
      "Epoch [1/1], Iter [5700/24750] Loss: 0.2711\n",
      "Epoch [1/1], Iter [5800/24750] Loss: 0.3454\n",
      "Epoch [1/1], Iter [5900/24750] Loss: 0.3519\n",
      "Epoch [1/1], Iter [6000/24750] Loss: 0.4222\n",
      "Epoch [1/1], Iter [6100/24750] Loss: 0.3767\n",
      "Epoch [1/1], Iter [6200/24750] Loss: 0.4052\n",
      "Epoch [1/1], Iter [6300/24750] Loss: 0.3250\n",
      "Epoch [1/1], Iter [6400/24750] Loss: 0.3432\n",
      "Epoch [1/1], Iter [6500/24750] Loss: 0.3488\n",
      "Epoch [1/1], Iter [6600/24750] Loss: 0.3429\n",
      "Epoch [1/1], Iter [6700/24750] Loss: 0.2947\n",
      "Epoch [1/1], Iter [6800/24750] Loss: 0.4075\n",
      "Epoch [1/1], Iter [6900/24750] Loss: 0.3792\n",
      "Epoch [1/1], Iter [7000/24750] Loss: 0.3581\n",
      "Epoch [1/1], Iter [7100/24750] Loss: 0.3367\n",
      "Epoch [1/1], Iter [7200/24750] Loss: 0.4345\n",
      "Epoch [1/1], Iter [7300/24750] Loss: 0.3420\n",
      "Epoch [1/1], Iter [7400/24750] Loss: 0.2926\n",
      "Epoch [1/1], Iter [7500/24750] Loss: 0.3897\n",
      "Epoch [1/1], Iter [7600/24750] Loss: 0.2766\n",
      "Epoch [1/1], Iter [7700/24750] Loss: 0.3424\n",
      "Epoch [1/1], Iter [7800/24750] Loss: 0.3105\n",
      "Epoch [1/1], Iter [7900/24750] Loss: 0.2241\n",
      "Epoch [1/1], Iter [8000/24750] Loss: 0.3772\n",
      "Epoch [1/1], Iter [8100/24750] Loss: 0.3033\n",
      "Epoch [1/1], Iter [8200/24750] Loss: 0.4025\n",
      "Epoch [1/1], Iter [8300/24750] Loss: 0.3402\n",
      "Epoch [1/1], Iter [8400/24750] Loss: 0.3415\n",
      "Epoch [1/1], Iter [8500/24750] Loss: 0.3205\n",
      "Epoch [1/1], Iter [8600/24750] Loss: 0.4065\n",
      "Epoch [1/1], Iter [8700/24750] Loss: 0.3950\n",
      "Epoch [1/1], Iter [8800/24750] Loss: 0.4153\n",
      "Epoch [1/1], Iter [8900/24750] Loss: 0.4525\n",
      "Epoch [1/1], Iter [9000/24750] Loss: 0.3634\n",
      "Epoch [1/1], Iter [9100/24750] Loss: 0.2968\n",
      "Epoch [1/1], Iter [9200/24750] Loss: 0.3929\n",
      "Epoch [1/1], Iter [9300/24750] Loss: 0.2900\n",
      "Epoch [1/1], Iter [9400/24750] Loss: 0.4155\n",
      "Epoch [1/1], Iter [9500/24750] Loss: 0.3892\n",
      "Epoch [1/1], Iter [9600/24750] Loss: 0.3462\n",
      "Epoch [1/1], Iter [9700/24750] Loss: 0.4036\n",
      "Epoch [1/1], Iter [9800/24750] Loss: 0.3593\n",
      "Epoch [1/1], Iter [9900/24750] Loss: 0.3765\n",
      "Epoch [1/1], Iter [10000/24750] Loss: 0.3938\n",
      "Epoch [1/1], Iter [10100/24750] Loss: 0.3663\n",
      "Epoch [1/1], Iter [10200/24750] Loss: 0.3042\n",
      "Epoch [1/1], Iter [10300/24750] Loss: 0.3156\n",
      "Epoch [1/1], Iter [10400/24750] Loss: 0.3196\n",
      "Epoch [1/1], Iter [10500/24750] Loss: 0.3905\n",
      "Epoch [1/1], Iter [10600/24750] Loss: 0.3073\n",
      "Epoch [1/1], Iter [10700/24750] Loss: 0.3317\n",
      "Epoch [1/1], Iter [10800/24750] Loss: 0.3225\n",
      "Epoch [1/1], Iter [10900/24750] Loss: 0.2474\n",
      "Epoch [1/1], Iter [11000/24750] Loss: 0.3522\n",
      "Epoch [1/1], Iter [11100/24750] Loss: 0.4164\n",
      "Epoch [1/1], Iter [11200/24750] Loss: 0.2934\n",
      "Epoch [1/1], Iter [11300/24750] Loss: 0.3241\n",
      "Epoch [1/1], Iter [11400/24750] Loss: 0.4505\n",
      "Epoch [1/1], Iter [11500/24750] Loss: 0.3195\n",
      "Epoch [1/1], Iter [11600/24750] Loss: 0.3628\n",
      "Epoch [1/1], Iter [11700/24750] Loss: 0.3553\n",
      "Epoch [1/1], Iter [11800/24750] Loss: 0.3489\n",
      "Epoch [1/1], Iter [11900/24750] Loss: 0.3473\n",
      "Epoch [1/1], Iter [12000/24750] Loss: 0.2808\n",
      "Epoch [1/1], Iter [12100/24750] Loss: 0.4650\n",
      "Epoch [1/1], Iter [12200/24750] Loss: 0.3998\n",
      "Epoch [1/1], Iter [12300/24750] Loss: 0.2194\n",
      "Epoch [1/1], Iter [12400/24750] Loss: 0.3709\n",
      "Epoch [1/1], Iter [12500/24750] Loss: 0.3399\n",
      "Epoch [1/1], Iter [12600/24750] Loss: 0.2924\n",
      "Epoch [1/1], Iter [12700/24750] Loss: 0.3365\n",
      "Epoch [1/1], Iter [12800/24750] Loss: 0.2504\n",
      "Epoch [1/1], Iter [12900/24750] Loss: 0.2851\n",
      "Epoch [1/1], Iter [13000/24750] Loss: 0.2844\n",
      "Epoch [1/1], Iter [13100/24750] Loss: 0.3828\n",
      "Epoch [1/1], Iter [13200/24750] Loss: 0.4600\n",
      "Epoch [1/1], Iter [13300/24750] Loss: 0.3615\n",
      "Epoch [1/1], Iter [13400/24750] Loss: 0.3384\n",
      "Epoch [1/1], Iter [13500/24750] Loss: 0.3065\n",
      "Epoch [1/1], Iter [13600/24750] Loss: 0.2383\n",
      "Epoch [1/1], Iter [13700/24750] Loss: 0.4367\n",
      "Epoch [1/1], Iter [13800/24750] Loss: 0.2735\n",
      "Epoch [1/1], Iter [13900/24750] Loss: 0.3517\n",
      "Epoch [1/1], Iter [14000/24750] Loss: 0.4650\n",
      "Epoch [1/1], Iter [14100/24750] Loss: 0.3873\n",
      "Epoch [1/1], Iter [14200/24750] Loss: 0.3649\n",
      "Epoch [1/1], Iter [14300/24750] Loss: 0.4707\n",
      "Epoch [1/1], Iter [14400/24750] Loss: 0.3073\n",
      "Epoch [1/1], Iter [14500/24750] Loss: 0.3138\n",
      "Epoch [1/1], Iter [14600/24750] Loss: 0.3381\n",
      "Epoch [1/1], Iter [14700/24750] Loss: 0.3964\n",
      "Epoch [1/1], Iter [14800/24750] Loss: 0.2946\n",
      "Epoch [1/1], Iter [14900/24750] Loss: 0.3965\n",
      "Epoch [1/1], Iter [15000/24750] Loss: 0.3200\n",
      "Epoch [1/1], Iter [15100/24750] Loss: 0.2826\n",
      "Epoch [1/1], Iter [15200/24750] Loss: 0.4178\n",
      "Epoch [1/1], Iter [15300/24750] Loss: 0.3330\n",
      "Epoch [1/1], Iter [15400/24750] Loss: 0.3076\n",
      "Epoch [1/1], Iter [15500/24750] Loss: 0.2162\n",
      "Epoch [1/1], Iter [15600/24750] Loss: 0.2770\n",
      "Epoch [1/1], Iter [15700/24750] Loss: 0.3423\n",
      "Epoch [1/1], Iter [15800/24750] Loss: 0.3569\n",
      "Epoch [1/1], Iter [15900/24750] Loss: 0.2779\n",
      "Epoch [1/1], Iter [16000/24750] Loss: 0.3224\n",
      "Epoch [1/1], Iter [16100/24750] Loss: 0.3243\n",
      "Epoch [1/1], Iter [16200/24750] Loss: 0.2898\n",
      "Epoch [1/1], Iter [16300/24750] Loss: 0.2993\n",
      "Epoch [1/1], Iter [16400/24750] Loss: 0.2935\n",
      "Epoch [1/1], Iter [16500/24750] Loss: 0.3878\n",
      "Epoch [1/1], Iter [16600/24750] Loss: 0.3549\n",
      "Epoch [1/1], Iter [16700/24750] Loss: 0.2761\n",
      "Epoch [1/1], Iter [16800/24750] Loss: 0.4115\n",
      "Epoch [1/1], Iter [16900/24750] Loss: 0.3099\n",
      "Epoch [1/1], Iter [17000/24750] Loss: 0.2998\n",
      "Epoch [1/1], Iter [17100/24750] Loss: 0.3748\n",
      "Epoch [1/1], Iter [17200/24750] Loss: 0.3734\n",
      "Epoch [1/1], Iter [17300/24750] Loss: 0.2686\n",
      "Epoch [1/1], Iter [17400/24750] Loss: 0.3407\n",
      "Epoch [1/1], Iter [17500/24750] Loss: 0.3609\n",
      "Epoch [1/1], Iter [17600/24750] Loss: 0.3842\n",
      "Epoch [1/1], Iter [17700/24750] Loss: 0.2455\n",
      "Epoch [1/1], Iter [17800/24750] Loss: 0.3288\n",
      "Epoch [1/1], Iter [17900/24750] Loss: 0.3778\n",
      "Epoch [1/1], Iter [18000/24750] Loss: 0.3361\n",
      "Epoch [1/1], Iter [18100/24750] Loss: 0.3198\n",
      "Epoch [1/1], Iter [18200/24750] Loss: 0.3642\n",
      "Epoch [1/1], Iter [18300/24750] Loss: 0.3183\n",
      "Epoch [1/1], Iter [18400/24750] Loss: 0.3559\n",
      "Epoch [1/1], Iter [18500/24750] Loss: 0.3921\n"
     ]
    },
    {
     "name": "stdout",
     "output_type": "stream",
     "text": [
      "Epoch [1/1], Iter [18600/24750] Loss: 0.3709\n",
      "Epoch [1/1], Iter [18700/24750] Loss: 0.2875\n",
      "Epoch [1/1], Iter [18800/24750] Loss: 0.2461\n",
      "Epoch [1/1], Iter [18900/24750] Loss: 0.3197\n",
      "Epoch [1/1], Iter [19000/24750] Loss: 0.2814\n",
      "Epoch [1/1], Iter [19100/24750] Loss: 0.2707\n",
      "Epoch [1/1], Iter [19200/24750] Loss: 0.3319\n",
      "Epoch [1/1], Iter [19300/24750] Loss: 0.2561\n",
      "Epoch [1/1], Iter [19400/24750] Loss: 0.2897\n",
      "Epoch [1/1], Iter [19500/24750] Loss: 0.3821\n",
      "Epoch [1/1], Iter [19600/24750] Loss: 0.3868\n",
      "Epoch [1/1], Iter [19700/24750] Loss: 0.3175\n",
      "Epoch [1/1], Iter [19800/24750] Loss: 0.3779\n",
      "Epoch [1/1], Iter [19900/24750] Loss: 0.3748\n",
      "Epoch [1/1], Iter [20000/24750] Loss: 0.4490\n",
      "Epoch [1/1], Iter [20100/24750] Loss: 0.3032\n",
      "Epoch [1/1], Iter [20200/24750] Loss: 0.4601\n",
      "Epoch [1/1], Iter [20300/24750] Loss: 0.3053\n",
      "Epoch [1/1], Iter [20400/24750] Loss: 0.3638\n",
      "Epoch [1/1], Iter [20500/24750] Loss: 0.3680\n",
      "Epoch [1/1], Iter [20600/24750] Loss: 0.4771\n",
      "Epoch [1/1], Iter [20700/24750] Loss: 0.3719\n",
      "Epoch [1/1], Iter [20800/24750] Loss: 0.3555\n",
      "Epoch [1/1], Iter [20900/24750] Loss: 0.4054\n",
      "Epoch [1/1], Iter [21000/24750] Loss: 0.3105\n",
      "Epoch [1/1], Iter [21100/24750] Loss: 0.3023\n",
      "Epoch [1/1], Iter [21200/24750] Loss: 0.3819\n",
      "Epoch [1/1], Iter [21300/24750] Loss: 0.2568\n",
      "Epoch [1/1], Iter [21400/24750] Loss: 0.3164\n",
      "Epoch [1/1], Iter [21500/24750] Loss: 0.3542\n",
      "Epoch [1/1], Iter [21600/24750] Loss: 0.3142\n",
      "Epoch [1/1], Iter [21700/24750] Loss: 0.3154\n",
      "Epoch [1/1], Iter [21800/24750] Loss: 0.4080\n",
      "Epoch [1/1], Iter [21900/24750] Loss: 0.3921\n",
      "Epoch [1/1], Iter [22000/24750] Loss: 0.3067\n",
      "Epoch [1/1], Iter [22100/24750] Loss: 0.2982\n",
      "Epoch [1/1], Iter [22200/24750] Loss: 0.3767\n",
      "Epoch [1/1], Iter [22300/24750] Loss: 0.3038\n",
      "Epoch [1/1], Iter [22400/24750] Loss: 0.2805\n",
      "Epoch [1/1], Iter [22500/24750] Loss: 0.3658\n",
      "Epoch [1/1], Iter [22600/24750] Loss: 0.3881\n",
      "Epoch [1/1], Iter [22700/24750] Loss: 0.3753\n",
      "Epoch [1/1], Iter [22800/24750] Loss: 0.2871\n",
      "Epoch [1/1], Iter [22900/24750] Loss: 0.3554\n",
      "Epoch [1/1], Iter [23000/24750] Loss: 0.3511\n",
      "Epoch [1/1], Iter [23100/24750] Loss: 0.2478\n",
      "Epoch [1/1], Iter [23200/24750] Loss: 0.4181\n",
      "Epoch [1/1], Iter [23300/24750] Loss: 0.4110\n",
      "Epoch [1/1], Iter [23400/24750] Loss: 0.4006\n",
      "Epoch [1/1], Iter [23500/24750] Loss: 0.3551\n",
      "Epoch [1/1], Iter [23600/24750] Loss: 0.2759\n",
      "Epoch [1/1], Iter [23700/24750] Loss: 0.3423\n",
      "Epoch [1/1], Iter [23800/24750] Loss: 0.2817\n",
      "Epoch [1/1], Iter [23900/24750] Loss: 0.3429\n",
      "Epoch [1/1], Iter [24000/24750] Loss: 0.3887\n",
      "Epoch [1/1], Iter [24100/24750] Loss: 0.2955\n",
      "Epoch [1/1], Iter [24200/24750] Loss: 0.3877\n",
      "Epoch [1/1], Iter [24300/24750] Loss: 0.3747\n",
      "Epoch [1/1], Iter [24400/24750] Loss: 0.2805\n",
      "Epoch [1/1], Iter [24500/24750] Loss: 0.2879\n",
      "Epoch [1/1], Iter [24600/24750] Loss: 0.2983\n",
      "Epoch [1/1], Iter [24700/24750] Loss: 0.3210\n",
      "Finished Training\n"
     ]
    }
   ],
   "source": [
    "for epoch in range(num_epochs):  # loop over the dataset multiple times \n",
    "    for i, batch_indices in enumerate(train_loader.batch_sampler):   # iterate over mini-batches  \n",
    "        # Converting tweets to vectors and storing it in a variable\n",
    "        sentences = get_tweets_tensor(train_loader.dataset.data_list, batch_indices, verbose=False)\n",
    "        x = Variable(sentences)\n",
    "        \n",
    "        # Converting labels to a variable\n",
    "        labels = torch.from_numpy(train_loader.dataset.target_list[batch_indices])\n",
    "        y = Variable(labels, requires_grad=False)\n",
    "        \n",
    "        # Forward + Backward + Optimize\n",
    "        optimizer.zero_grad() # reset gradient\n",
    "        outputs = cnn(x) # cnn output\n",
    "        loss = loss_func(outputs, y) # clear gradients for this training step\n",
    "        loss.backward() # backpropagation, compute gradients\n",
    "        optimizer.step() # apply gradients\n",
    "        \n",
    "        if (i+1) % 100 == 0:\n",
    "            print('Epoch [%d/%d], Iter [%d/%d] Loss: %.4f' \n",
    "                  %(epoch+1, num_epochs, i+1, len(train_dataset)//batch_size, loss.data[0]))\n",
    "\n",
    "print('Finished Training')"
   ]
  },
  {
   "cell_type": "code",
   "execution_count": 92,
   "metadata": {},
   "outputs": [
    {
     "name": "stderr",
     "output_type": "stream",
     "text": [
      "/usr/local/anaconda3/envs/ml/lib/python3.5/site-packages/ipykernel_launcher.py:12: DeprecationWarning: elementwise == comparison failed; this will raise an error in the future.\n",
      "  if sys.path[0] == '':\n"
     ]
    },
    {
     "name": "stdout",
     "output_type": "stream",
     "text": [
      "Accuracy: 0.8531%\n"
     ]
    },
    {
     "data": {
      "text/plain": [
       "0.85309999999999997"
      ]
     },
     "execution_count": 92,
     "metadata": {},
     "output_type": "execute_result"
    }
   ],
   "source": [
    "# Evaluate n predictions from test data\n",
    "n = 10000\n",
    "val_output_n = cnn(Variable(get_tweets_tensor(x_val, indices=np.arange(n), verbose=False)))\n",
    "y_val_pred_n = torch.max(val_output_n, 1)[1].data.numpy().squeeze()\n",
    "accuracy(y_val_pred_n, y_val[:n], verbose=True)"
   ]
  },
  {
   "cell_type": "markdown",
   "metadata": {},
   "source": [
    "## Step 5: Make predictions for test data and save"
   ]
  },
  {
   "cell_type": "code",
   "execution_count": 93,
   "metadata": {
    "collapsed": true
   },
   "outputs": [],
   "source": [
    "test_output = cnn(Variable(get_tweets_tensor(x_text_test_pad, verbose=False)))\n",
    "y_pred = torch.max(test_output, 1)[1].data.numpy().squeeze()"
   ]
  },
  {
   "cell_type": "code",
   "execution_count": 94,
   "metadata": {},
   "outputs": [
    {
     "data": {
      "text/plain": [
       "array([-1, -1, -1, ..., -1,  1, -1])"
      ]
     },
     "execution_count": 94,
     "metadata": {},
     "output_type": "execute_result"
    }
   ],
   "source": [
    "y_pred[y_pred == 0] = -1\n",
    "y_pred"
   ]
  },
  {
   "cell_type": "code",
   "execution_count": 95,
   "metadata": {},
   "outputs": [
    {
     "data": {
      "text/plain": [
       "array([    1,     2,     3, ...,  9998,  9999, 10000])"
      ]
     },
     "execution_count": 95,
     "metadata": {},
     "output_type": "execute_result"
    }
   ],
   "source": [
    "ids = np.arange(len(y_pred)+1)[1:]\n",
    "ids"
   ]
  },
  {
   "cell_type": "code",
   "execution_count": 96,
   "metadata": {
    "collapsed": true
   },
   "outputs": [],
   "source": [
    "create_csv_submission(ids, y_pred, 'kaggle_submission.csv')"
   ]
  },
  {
   "cell_type": "code",
   "execution_count": null,
   "metadata": {
    "collapsed": true
   },
   "outputs": [],
   "source": []
  }
 ],
 "metadata": {
  "kernelspec": {
   "display_name": "ml",
   "language": "python",
   "name": "ml"
  },
  "language_info": {
   "codemirror_mode": {
    "name": "ipython",
    "version": 3
   },
   "file_extension": ".py",
   "mimetype": "text/x-python",
   "name": "python",
   "nbconvert_exporter": "python",
   "pygments_lexer": "ipython3",
   "version": "3.5.4"
  }
 },
 "nbformat": 4,
 "nbformat_minor": 2
}
