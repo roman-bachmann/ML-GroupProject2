{
 "cells": [
  {
   "cell_type": "markdown",
   "metadata": {},
   "source": [
    "# Twitter Sentiment Classification - Version 1"
   ]
  },
  {
   "cell_type": "code",
   "execution_count": 1,
   "metadata": {
    "collapsed": true
   },
   "outputs": [],
   "source": [
    "import os \n",
    "import pandas as pd\n",
    "import numpy as np\n",
    "\n",
    "from sklearn.model_selection import train_test_split\n",
    "\n",
    "import gensim\n",
    "import Cython\n",
    "\n",
    "import torch\n",
    "import torch.nn as nn\n",
    "import torch.nn.functional as F\n",
    "from torch.autograd import Variable\n",
    "from torch.utils.data import Dataset, TensorDataset, DataLoader\n",
    "\n",
    "from torchtext import data\n",
    "\n",
    "from helpers import *\n",
    "from data import create_csv_submission"
   ]
  },
  {
   "cell_type": "markdown",
   "metadata": {},
   "source": [
    "## Step 1: Load tweets"
   ]
  },
  {
   "cell_type": "code",
   "execution_count": 2,
   "metadata": {
    "collapsed": true
   },
   "outputs": [],
   "source": [
    "DATA_PATH = '../twitter-datasets/'\n",
    "#TRAIN_NEG_PATH = os.path.join(DATA_PATH, 'train_neg.txt') # 100'000 negative tweets\n",
    "#TRAIN_POS_PATH = os.path.join(DATA_PATH, 'train_pos.txt') # 100'000 positive tweets\n",
    "TRAIN_NEG_PATH = os.path.join(DATA_PATH, 'train_neg_full.txt') # 2'500'000 negative tweets\n",
    "TRAIN_POS_PATH = os.path.join(DATA_PATH, 'train_pos_full.txt') # 2'500'000 positive tweets\n",
    "TEST_PATH = os.path.join(DATA_PATH, 'test_data.txt')"
   ]
  },
  {
   "cell_type": "code",
   "execution_count": 3,
   "metadata": {
    "collapsed": true
   },
   "outputs": [],
   "source": [
    "x_text_train, y_train_full = load_data_and_labels(TRAIN_POS_PATH, TRAIN_NEG_PATH)"
   ]
  },
  {
   "cell_type": "code",
   "execution_count": 4,
   "metadata": {
    "collapsed": true
   },
   "outputs": [],
   "source": [
    "x_text_test = load_test_data(TEST_PATH)"
   ]
  },
  {
   "cell_type": "markdown",
   "metadata": {},
   "source": [
    "## Step 2: Build word2vec vocabulary"
   ]
  },
  {
   "cell_type": "code",
   "execution_count": 5,
   "metadata": {},
   "outputs": [],
   "source": [
    "vector_length = 100\n",
    "w2v_model = gensim.models.Word2Vec(x_text_train + x_text_test, min_count=1, workers=4, size=vector_length)"
   ]
  },
  {
   "cell_type": "code",
   "execution_count": 6,
   "metadata": {},
   "outputs": [
    {
     "name": "stdout",
     "output_type": "stream",
     "text": [
      "Word2Vec(vocab=496335, size=100, alpha=0.025)\n"
     ]
    }
   ],
   "source": [
    "print(w2v_model)"
   ]
  },
  {
   "cell_type": "code",
   "execution_count": 7,
   "metadata": {
    "collapsed": true
   },
   "outputs": [],
   "source": [
    "# When training finished delete the training model but retain the word vectors:\n",
    "word_vectors = w2v_model.wv\n",
    "del w2v_model"
   ]
  },
  {
   "cell_type": "code",
   "execution_count": 8,
   "metadata": {},
   "outputs": [
    {
     "data": {
      "text/plain": [
       "(100,)"
      ]
     },
     "execution_count": 8,
     "metadata": {},
     "output_type": "execute_result"
    }
   ],
   "source": [
    "word_vectors.wv['computer'].shape"
   ]
  },
  {
   "cell_type": "code",
   "execution_count": 9,
   "metadata": {},
   "outputs": [
    {
     "data": {
      "text/plain": [
       "[('internet', 0.7272481918334961),\n",
       " ('desktop', 0.6671649813652039),\n",
       " ('phone', 0.6602565050125122),\n",
       " ('browser', 0.6511868238449097),\n",
       " ('laptop', 0.6457754373550415),\n",
       " ('phones', 0.6350281238555908),\n",
       " ('calculator', 0.6316317915916443),\n",
       " ('gmail', 0.6251569390296936),\n",
       " ('ipods', 0.6223116517066956),\n",
       " ('keyboard', 0.6169487833976746)]"
      ]
     },
     "execution_count": 9,
     "metadata": {},
     "output_type": "execute_result"
    }
   ],
   "source": [
    "word_vectors.most_similar('computer')"
   ]
  },
  {
   "cell_type": "markdown",
   "metadata": {},
   "source": [
    "## Step 3: Convert tweets into sentences of vectors"
   ]
  },
  {
   "cell_type": "code",
   "execution_count": 10,
   "metadata": {
    "scrolled": true
   },
   "outputs": [
    {
     "name": "stdout",
     "output_type": "stream",
     "text": [
      "Maximum sequence length of train and test data: 74\n"
     ]
    }
   ],
   "source": [
    "# Compute the number of words of the longest tweet to get the maximal sentence length\n",
    "sequence_length_train = max(len(x) for x in x_text_train)\n",
    "sequence_length_test = max(len(x) for x in x_text_test)\n",
    "sequence_length = max(sequence_length_train, sequence_length_test)\n",
    "print('Maximum sequence length of train and test data:', sequence_length)\n",
    "\n",
    "x_text_train_pad = pad_sentences(x_text_train, padding_word=\"<PAD/>\", sequence_length=sequence_length)\n",
    "x_text_test_pad = pad_sentences(x_text_test, padding_word=\"<PAD/>\", sequence_length=sequence_length)\n",
    "\n",
    "del x_text_train\n",
    "del x_text_test"
   ]
  },
  {
   "cell_type": "code",
   "execution_count": 11,
   "metadata": {
    "collapsed": true
   },
   "outputs": [],
   "source": [
    "# Split into training and validation data\n",
    "x_train, x_val, y_train, y_val = train_test_split(x_text_train_pad, y_train_full, test_size=0.1, random_state=42)"
   ]
  },
  {
   "cell_type": "code",
   "execution_count": 12,
   "metadata": {},
   "outputs": [
    {
     "data": {
      "text/plain": [
       "(2250000, 74)"
      ]
     },
     "execution_count": 12,
     "metadata": {},
     "output_type": "execute_result"
    }
   ],
   "source": [
    "len(x_train), len(x_train[0])"
   ]
  },
  {
   "cell_type": "code",
   "execution_count": 13,
   "metadata": {},
   "outputs": [
    {
     "data": {
      "text/plain": [
       "(250000, 74)"
      ]
     },
     "execution_count": 13,
     "metadata": {},
     "output_type": "execute_result"
    }
   ],
   "source": [
    "len(x_val), len(x_val[0])"
   ]
  },
  {
   "cell_type": "code",
   "execution_count": 14,
   "metadata": {
    "collapsed": true
   },
   "outputs": [],
   "source": [
    "# TODO: SLOW!\n",
    "\n",
    "def get_tweets_tensor(tweets, indices=[], verbose=False):\n",
    "    '''Mapping every word to a vector from word2vec\n",
    "    Padding words are mapped to zero\n",
    "    Leave indices empty to map every tweet in tweets\n",
    "    '''\n",
    "\n",
    "    nb_tweets = len(tweets) if len(indices)==0 else len(indices)\n",
    "    tweets_vec = np.zeros((nb_tweets, len(tweets[0]), vector_length), dtype=np.float32)\n",
    "    \n",
    "    if indices == []:\n",
    "        for idx_t, tweet in enumerate(tweets):\n",
    "            for idx_w, word in enumerate(tweet):\n",
    "                if word != '<PAD/>':\n",
    "                    tweets_vec[idx_t, idx_w] = word_vectors.wv[word]  \n",
    "            if verbose and idx_t % 100000 == 0:\n",
    "                print('Transformed {}/{} tweets'.format(idx_t+1, (len(x_text_train_pad))))\n",
    "    else:\n",
    "        for idx_t, orig_idx in enumerate(indices):\n",
    "            for idx_w, word in enumerate(tweets[orig_idx]):\n",
    "                if word != '<PAD/>':\n",
    "                    tweets_vec[idx_t, idx_w] = word_vectors.wv[word]  \n",
    "            if verbose and idx_t % 100000 == 0:\n",
    "                print('Transformed {}/{} tweets'.format(idx_t+1, (len(x_text_train_pad))))\n",
    "    \n",
    "    return torch.from_numpy(tweets_vec)"
   ]
  },
  {
   "cell_type": "markdown",
   "metadata": {},
   "source": [
    "## Step 4: Classification"
   ]
  },
  {
   "cell_type": "code",
   "execution_count": 15,
   "metadata": {
    "collapsed": true
   },
   "outputs": [],
   "source": [
    "# Hyper Parameters\n",
    "num_epochs = 1\n",
    "batch_size = 100\n",
    "learning_rate = 0.001"
   ]
  },
  {
   "cell_type": "code",
   "execution_count": 16,
   "metadata": {},
   "outputs": [],
   "source": [
    "class ArrayDataset(Dataset):\n",
    "    \"\"\"Dataset wrapping data and target tensors.\n",
    "\n",
    "    Each sample will be retrieved by indexing both tensors along the first\n",
    "    dimension.\n",
    "\n",
    "    Arguments:\n",
    "        data_tensor (Tensor): contains sample data.\n",
    "        target_tensor (Tensor): contains sample targets (labels).\n",
    "    \"\"\"\n",
    "\n",
    "    def __init__(self, data_array, target_array):\n",
    "        assert data_array.shape[0] == target_array.shape[0]\n",
    "        self.data_array = data_array\n",
    "        self.target_array = target_array\n",
    "\n",
    "    def __getitem__(self, index):\n",
    "        return self.data_array[index], self.target_array[index]\n",
    "\n",
    "    def __len__(self):\n",
    "        return self.data_array.shape[0]"
   ]
  },
  {
   "cell_type": "code",
   "execution_count": 17,
   "metadata": {
    "collapsed": true
   },
   "outputs": [],
   "source": [
    "class ListDataset(Dataset):\n",
    "    \"\"\"Dataset wrapping data and target tensors.\n",
    "\n",
    "    Each sample will be retrieved by indexing both tensors along the first\n",
    "    dimension.\n",
    "\n",
    "    Arguments:\n",
    "        data_tensor (Tensor): contains sample data.\n",
    "        target_tensor (Tensor): contains sample targets (labels).\n",
    "    \"\"\"\n",
    "\n",
    "    def __init__(self, data_list, target_list):\n",
    "        assert len(data_list) == len(target_list)\n",
    "        self.data_list = data_list\n",
    "        self.target_list = target_list\n",
    "\n",
    "    def __getitem__(self, index):\n",
    "        return self.data_list[index], self.target_list[index]\n",
    "\n",
    "    def __len__(self):\n",
    "        return len(self.data_list)"
   ]
  },
  {
   "cell_type": "code",
   "execution_count": 18,
   "metadata": {},
   "outputs": [],
   "source": [
    "train_dataset = ListDataset(x_train, y_train)\n",
    "train_loader = torch.utils.data.DataLoader(dataset=train_dataset,\n",
    "                                           batch_size=batch_size, \n",
    "                                           shuffle=True)"
   ]
  },
  {
   "cell_type": "code",
   "execution_count": 19,
   "metadata": {},
   "outputs": [],
   "source": [
    "# Network hyperparameters\n",
    "N = len(train_loader.dataset.data_list)      # Number of tweets (eg 200000)\n",
    "S = len(train_loader.dataset.data_list[0])   # Number of words in one sentence (eg 50)\n",
    "V = vector_length                            # Length of word vectors (eg 100)\n",
    "K = 3                                        # Kernel width (K*V)\n",
    "C = 64                                       # Number of convolutional filters\n",
    "F = 2                                        # Number of output neurons in fully connected layer\n",
    "\n",
    "class CNN(nn.Module):\n",
    "    def __init__(self):\n",
    "        super(CNN, self).__init__()\n",
    "        self.conv1 = nn.Conv2d(             # input shape (1, S, V)\n",
    "                in_channels=1,              # input channels\n",
    "                out_channels=C,             # number of filters\n",
    "                kernel_size=(K,V),          # filter size\n",
    "                padding=(1,0),              # if want same width and length of this image after con2d, padding=(kernel_size-1)/2 if stride=1\n",
    "        )                         # output shape (C, S, 1)\n",
    "        self.relu = nn.ReLU()               # ReLU activation\n",
    "        self.max_pool = nn.MaxPool1d(S)     # max-pool each filter into 1 output   \n",
    "        self.out = nn.Linear(C, F)          # fully connected layer, output F classes\n",
    "\n",
    "    def forward(self, x):        \n",
    "        out = x.unsqueeze(1)        \n",
    "        out = self.conv1(out)        \n",
    "        out = self.relu(out).squeeze(3)        \n",
    "        out = self.max_pool(out).squeeze(2).float()                \n",
    "        out = self.out(out)        \n",
    "        return out"
   ]
  },
  {
   "cell_type": "code",
   "execution_count": 20,
   "metadata": {},
   "outputs": [
    {
     "name": "stdout",
     "output_type": "stream",
     "text": [
      "CNN (\n",
      "  (conv1): Conv2d(1, 64, kernel_size=(3, 100), stride=(1, 1), padding=(1, 0))\n",
      "  (relu): ReLU ()\n",
      "  (max_pool): MaxPool1d (size=74, stride=74, padding=0, dilation=1, ceil_mode=False)\n",
      "  (out): Linear (64 -> 2)\n",
      ")\n"
     ]
    }
   ],
   "source": [
    "cnn = CNN()\n",
    "print(cnn)  # net architecture"
   ]
  },
  {
   "cell_type": "code",
   "execution_count": 21,
   "metadata": {
    "collapsed": true
   },
   "outputs": [],
   "source": [
    "optimizer = torch.optim.Adam(cnn.parameters(), lr=learning_rate)   # optimize all cnn parameters\n",
    "loss_func = nn.CrossEntropyLoss()                                  # the target label is not one-hotted"
   ]
  },
  {
   "cell_type": "code",
   "execution_count": 22,
   "metadata": {
    "scrolled": false
   },
   "outputs": [
    {
     "name": "stdout",
     "output_type": "stream",
     "text": [
      "Epoch [1/1], Iter [100/22500] Loss: 0.5279\n",
      "Epoch [1/1], Iter [200/22500] Loss: 0.3991\n",
      "Epoch [1/1], Iter [300/22500] Loss: 0.3297\n",
      "Epoch [1/1], Iter [400/22500] Loss: 0.3542\n",
      "Epoch [1/1], Iter [500/22500] Loss: 0.3576\n",
      "Epoch [1/1], Iter [600/22500] Loss: 0.4598\n",
      "Epoch [1/1], Iter [700/22500] Loss: 0.5672\n",
      "Epoch [1/1], Iter [800/22500] Loss: 0.3419\n",
      "Epoch [1/1], Iter [900/22500] Loss: 0.4263\n",
      "Epoch [1/1], Iter [1000/22500] Loss: 0.3910\n",
      "Epoch [1/1], Iter [1100/22500] Loss: 0.3435\n",
      "Epoch [1/1], Iter [1200/22500] Loss: 0.2903\n",
      "Epoch [1/1], Iter [1300/22500] Loss: 0.3546\n",
      "Epoch [1/1], Iter [1400/22500] Loss: 0.3693\n",
      "Epoch [1/1], Iter [1500/22500] Loss: 0.3804\n",
      "Epoch [1/1], Iter [1600/22500] Loss: 0.3193\n",
      "Epoch [1/1], Iter [1700/22500] Loss: 0.3856\n",
      "Epoch [1/1], Iter [1800/22500] Loss: 0.4196\n",
      "Epoch [1/1], Iter [1900/22500] Loss: 0.3849\n",
      "Epoch [1/1], Iter [2000/22500] Loss: 0.4527\n",
      "Epoch [1/1], Iter [2100/22500] Loss: 0.4103\n",
      "Epoch [1/1], Iter [2200/22500] Loss: 0.3842\n",
      "Epoch [1/1], Iter [2300/22500] Loss: 0.4266\n",
      "Epoch [1/1], Iter [2400/22500] Loss: 0.4756\n",
      "Epoch [1/1], Iter [2500/22500] Loss: 0.3637\n",
      "Epoch [1/1], Iter [2600/22500] Loss: 0.4450\n",
      "Epoch [1/1], Iter [2700/22500] Loss: 0.3658\n",
      "Epoch [1/1], Iter [2800/22500] Loss: 0.5228\n",
      "Epoch [1/1], Iter [2900/22500] Loss: 0.4514\n",
      "Epoch [1/1], Iter [3000/22500] Loss: 0.3670\n",
      "Epoch [1/1], Iter [3100/22500] Loss: 0.3297\n",
      "Epoch [1/1], Iter [3200/22500] Loss: 0.3705\n",
      "Epoch [1/1], Iter [3300/22500] Loss: 0.3851\n",
      "Epoch [1/1], Iter [3400/22500] Loss: 0.3161\n",
      "Epoch [1/1], Iter [3500/22500] Loss: 0.3269\n",
      "Epoch [1/1], Iter [3600/22500] Loss: 0.3402\n",
      "Epoch [1/1], Iter [3700/22500] Loss: 0.4253\n",
      "Epoch [1/1], Iter [3800/22500] Loss: 0.4298\n",
      "Epoch [1/1], Iter [3900/22500] Loss: 0.3589\n",
      "Epoch [1/1], Iter [4000/22500] Loss: 0.2835\n",
      "Epoch [1/1], Iter [4100/22500] Loss: 0.3964\n",
      "Epoch [1/1], Iter [4200/22500] Loss: 0.2882\n",
      "Epoch [1/1], Iter [4300/22500] Loss: 0.3177\n",
      "Epoch [1/1], Iter [4400/22500] Loss: 0.3793\n",
      "Epoch [1/1], Iter [4500/22500] Loss: 0.4439\n",
      "Epoch [1/1], Iter [4600/22500] Loss: 0.3793\n",
      "Epoch [1/1], Iter [4700/22500] Loss: 0.4770\n",
      "Epoch [1/1], Iter [4800/22500] Loss: 0.2950\n",
      "Epoch [1/1], Iter [4900/22500] Loss: 0.3776\n",
      "Epoch [1/1], Iter [5000/22500] Loss: 0.3583\n",
      "Epoch [1/1], Iter [5100/22500] Loss: 0.3428\n",
      "Epoch [1/1], Iter [5200/22500] Loss: 0.3316\n",
      "Epoch [1/1], Iter [5300/22500] Loss: 0.3046\n",
      "Epoch [1/1], Iter [5400/22500] Loss: 0.3584\n",
      "Epoch [1/1], Iter [5500/22500] Loss: 0.3713\n",
      "Epoch [1/1], Iter [5600/22500] Loss: 0.3367\n",
      "Epoch [1/1], Iter [5700/22500] Loss: 0.4924\n",
      "Epoch [1/1], Iter [5800/22500] Loss: 0.3282\n",
      "Epoch [1/1], Iter [5900/22500] Loss: 0.2683\n",
      "Epoch [1/1], Iter [6000/22500] Loss: 0.2523\n",
      "Epoch [1/1], Iter [6100/22500] Loss: 0.3534\n",
      "Epoch [1/1], Iter [6200/22500] Loss: 0.4208\n",
      "Epoch [1/1], Iter [6300/22500] Loss: 0.3949\n",
      "Epoch [1/1], Iter [6400/22500] Loss: 0.3650\n",
      "Epoch [1/1], Iter [6500/22500] Loss: 0.3208\n",
      "Epoch [1/1], Iter [6600/22500] Loss: 0.3434\n",
      "Epoch [1/1], Iter [6700/22500] Loss: 0.3715\n",
      "Epoch [1/1], Iter [6800/22500] Loss: 0.2900\n",
      "Epoch [1/1], Iter [6900/22500] Loss: 0.3760\n",
      "Epoch [1/1], Iter [7000/22500] Loss: 0.3444\n",
      "Epoch [1/1], Iter [7100/22500] Loss: 0.2609\n",
      "Epoch [1/1], Iter [7200/22500] Loss: 0.3614\n",
      "Epoch [1/1], Iter [7300/22500] Loss: 0.3648\n",
      "Epoch [1/1], Iter [7400/22500] Loss: 0.3719\n",
      "Epoch [1/1], Iter [7500/22500] Loss: 0.3096\n",
      "Epoch [1/1], Iter [7600/22500] Loss: 0.4216\n",
      "Epoch [1/1], Iter [7700/22500] Loss: 0.3584\n",
      "Epoch [1/1], Iter [7800/22500] Loss: 0.3720\n",
      "Epoch [1/1], Iter [7900/22500] Loss: 0.2930\n",
      "Epoch [1/1], Iter [8000/22500] Loss: 0.3341\n",
      "Epoch [1/1], Iter [8100/22500] Loss: 0.3837\n",
      "Epoch [1/1], Iter [8200/22500] Loss: 0.4911\n",
      "Epoch [1/1], Iter [8300/22500] Loss: 0.3264\n",
      "Epoch [1/1], Iter [8400/22500] Loss: 0.3361\n",
      "Epoch [1/1], Iter [8500/22500] Loss: 0.3242\n",
      "Epoch [1/1], Iter [8600/22500] Loss: 0.3146\n",
      "Epoch [1/1], Iter [8700/22500] Loss: 0.3296\n",
      "Epoch [1/1], Iter [8800/22500] Loss: 0.4356\n",
      "Epoch [1/1], Iter [8900/22500] Loss: 0.3375\n",
      "Epoch [1/1], Iter [9000/22500] Loss: 0.2752\n",
      "Epoch [1/1], Iter [9100/22500] Loss: 0.3881\n",
      "Epoch [1/1], Iter [9200/22500] Loss: 0.3426\n",
      "Epoch [1/1], Iter [9300/22500] Loss: 0.4252\n",
      "Epoch [1/1], Iter [9400/22500] Loss: 0.3288\n",
      "Epoch [1/1], Iter [9500/22500] Loss: 0.3155\n",
      "Epoch [1/1], Iter [9600/22500] Loss: 0.3601\n",
      "Epoch [1/1], Iter [9700/22500] Loss: 0.3033\n",
      "Epoch [1/1], Iter [9800/22500] Loss: 0.3311\n",
      "Epoch [1/1], Iter [9900/22500] Loss: 0.3784\n",
      "Epoch [1/1], Iter [10000/22500] Loss: 0.3346\n",
      "Epoch [1/1], Iter [10100/22500] Loss: 0.3208\n",
      "Epoch [1/1], Iter [10200/22500] Loss: 0.3110\n",
      "Epoch [1/1], Iter [10300/22500] Loss: 0.3951\n",
      "Epoch [1/1], Iter [10400/22500] Loss: 0.3652\n",
      "Epoch [1/1], Iter [10500/22500] Loss: 0.4098\n",
      "Epoch [1/1], Iter [10600/22500] Loss: 0.4071\n",
      "Epoch [1/1], Iter [10700/22500] Loss: 0.3925\n",
      "Epoch [1/1], Iter [10800/22500] Loss: 0.4636\n",
      "Epoch [1/1], Iter [10900/22500] Loss: 0.3212\n",
      "Epoch [1/1], Iter [11000/22500] Loss: 0.3008\n",
      "Epoch [1/1], Iter [11100/22500] Loss: 0.3657\n",
      "Epoch [1/1], Iter [11200/22500] Loss: 0.3253\n",
      "Epoch [1/1], Iter [11300/22500] Loss: 0.3047\n",
      "Epoch [1/1], Iter [11400/22500] Loss: 0.3568\n",
      "Epoch [1/1], Iter [11500/22500] Loss: 0.4552\n",
      "Epoch [1/1], Iter [11600/22500] Loss: 0.3022\n",
      "Epoch [1/1], Iter [11700/22500] Loss: 0.3850\n",
      "Epoch [1/1], Iter [11800/22500] Loss: 0.3554\n",
      "Epoch [1/1], Iter [11900/22500] Loss: 0.4167\n",
      "Epoch [1/1], Iter [12000/22500] Loss: 0.4215\n",
      "Epoch [1/1], Iter [12100/22500] Loss: 0.4350\n",
      "Epoch [1/1], Iter [12200/22500] Loss: 0.3244\n",
      "Epoch [1/1], Iter [12300/22500] Loss: 0.4917\n",
      "Epoch [1/1], Iter [12400/22500] Loss: 0.3955\n",
      "Epoch [1/1], Iter [12500/22500] Loss: 0.3039\n",
      "Epoch [1/1], Iter [12600/22500] Loss: 0.3088\n",
      "Epoch [1/1], Iter [12700/22500] Loss: 0.3121\n",
      "Epoch [1/1], Iter [12800/22500] Loss: 0.3229\n",
      "Epoch [1/1], Iter [12900/22500] Loss: 0.2497\n",
      "Epoch [1/1], Iter [13000/22500] Loss: 0.3544\n",
      "Epoch [1/1], Iter [13100/22500] Loss: 0.3250\n",
      "Epoch [1/1], Iter [13200/22500] Loss: 0.3468\n",
      "Epoch [1/1], Iter [13300/22500] Loss: 0.4523\n",
      "Epoch [1/1], Iter [13400/22500] Loss: 0.3247\n",
      "Epoch [1/1], Iter [13500/22500] Loss: 0.3584\n",
      "Epoch [1/1], Iter [13600/22500] Loss: 0.3247\n",
      "Epoch [1/1], Iter [13700/22500] Loss: 0.3167\n",
      "Epoch [1/1], Iter [13800/22500] Loss: 0.3845\n",
      "Epoch [1/1], Iter [13900/22500] Loss: 0.3254\n",
      "Epoch [1/1], Iter [14000/22500] Loss: 0.3416\n",
      "Epoch [1/1], Iter [14100/22500] Loss: 0.3419\n",
      "Epoch [1/1], Iter [14200/22500] Loss: 0.4817\n",
      "Epoch [1/1], Iter [14300/22500] Loss: 0.3511\n",
      "Epoch [1/1], Iter [14400/22500] Loss: 0.4298\n",
      "Epoch [1/1], Iter [14500/22500] Loss: 0.3673\n",
      "Epoch [1/1], Iter [14600/22500] Loss: 0.3025\n",
      "Epoch [1/1], Iter [14700/22500] Loss: 0.3407\n",
      "Epoch [1/1], Iter [14800/22500] Loss: 0.3105\n",
      "Epoch [1/1], Iter [14900/22500] Loss: 0.3700\n",
      "Epoch [1/1], Iter [15000/22500] Loss: 0.2607\n",
      "Epoch [1/1], Iter [15100/22500] Loss: 0.3345\n",
      "Epoch [1/1], Iter [15200/22500] Loss: 0.3396\n",
      "Epoch [1/1], Iter [15300/22500] Loss: 0.3910\n",
      "Epoch [1/1], Iter [15400/22500] Loss: 0.3185\n",
      "Epoch [1/1], Iter [15500/22500] Loss: 0.2875\n",
      "Epoch [1/1], Iter [15600/22500] Loss: 0.3394\n",
      "Epoch [1/1], Iter [15700/22500] Loss: 0.4347\n",
      "Epoch [1/1], Iter [15800/22500] Loss: 0.2986\n",
      "Epoch [1/1], Iter [15900/22500] Loss: 0.3192\n",
      "Epoch [1/1], Iter [16000/22500] Loss: 0.3793\n",
      "Epoch [1/1], Iter [16100/22500] Loss: 0.3355\n",
      "Epoch [1/1], Iter [16200/22500] Loss: 0.2840\n",
      "Epoch [1/1], Iter [16300/22500] Loss: 0.3227\n",
      "Epoch [1/1], Iter [16400/22500] Loss: 0.4318\n",
      "Epoch [1/1], Iter [16500/22500] Loss: 0.3845\n",
      "Epoch [1/1], Iter [16600/22500] Loss: 0.2549\n",
      "Epoch [1/1], Iter [16700/22500] Loss: 0.3758\n",
      "Epoch [1/1], Iter [16800/22500] Loss: 0.3705\n",
      "Epoch [1/1], Iter [16900/22500] Loss: 0.3499\n",
      "Epoch [1/1], Iter [17000/22500] Loss: 0.3317\n",
      "Epoch [1/1], Iter [17100/22500] Loss: 0.3318\n",
      "Epoch [1/1], Iter [17200/22500] Loss: 0.3516\n",
      "Epoch [1/1], Iter [17300/22500] Loss: 0.3260\n",
      "Epoch [1/1], Iter [17400/22500] Loss: 0.3430\n",
      "Epoch [1/1], Iter [17500/22500] Loss: 0.2912\n",
      "Epoch [1/1], Iter [17600/22500] Loss: 0.3048\n",
      "Epoch [1/1], Iter [17700/22500] Loss: 0.3173\n",
      "Epoch [1/1], Iter [17800/22500] Loss: 0.3889\n",
      "Epoch [1/1], Iter [17900/22500] Loss: 0.3017\n",
      "Epoch [1/1], Iter [18000/22500] Loss: 0.2741\n",
      "Epoch [1/1], Iter [18100/22500] Loss: 0.3668\n",
      "Epoch [1/1], Iter [18200/22500] Loss: 0.3868\n",
      "Epoch [1/1], Iter [18300/22500] Loss: 0.3376\n",
      "Epoch [1/1], Iter [18400/22500] Loss: 0.3564\n",
      "Epoch [1/1], Iter [18500/22500] Loss: 0.3485\n"
     ]
    },
    {
     "name": "stdout",
     "output_type": "stream",
     "text": [
      "Epoch [1/1], Iter [18600/22500] Loss: 0.4516\n",
      "Epoch [1/1], Iter [18700/22500] Loss: 0.3830\n",
      "Epoch [1/1], Iter [18800/22500] Loss: 0.3160\n",
      "Epoch [1/1], Iter [18900/22500] Loss: 0.3741\n",
      "Epoch [1/1], Iter [19000/22500] Loss: 0.4106\n",
      "Epoch [1/1], Iter [19100/22500] Loss: 0.4050\n",
      "Epoch [1/1], Iter [19200/22500] Loss: 0.2652\n",
      "Epoch [1/1], Iter [19300/22500] Loss: 0.3877\n",
      "Epoch [1/1], Iter [19400/22500] Loss: 0.3028\n",
      "Epoch [1/1], Iter [19500/22500] Loss: 0.3052\n",
      "Epoch [1/1], Iter [19600/22500] Loss: 0.4146\n",
      "Epoch [1/1], Iter [19700/22500] Loss: 0.3539\n",
      "Epoch [1/1], Iter [19800/22500] Loss: 0.4154\n",
      "Epoch [1/1], Iter [19900/22500] Loss: 0.4051\n",
      "Epoch [1/1], Iter [20000/22500] Loss: 0.2842\n",
      "Epoch [1/1], Iter [20100/22500] Loss: 0.3116\n",
      "Epoch [1/1], Iter [20200/22500] Loss: 0.3227\n",
      "Epoch [1/1], Iter [20300/22500] Loss: 0.3063\n",
      "Epoch [1/1], Iter [20400/22500] Loss: 0.3853\n",
      "Epoch [1/1], Iter [20500/22500] Loss: 0.3737\n",
      "Epoch [1/1], Iter [20600/22500] Loss: 0.3204\n",
      "Epoch [1/1], Iter [20700/22500] Loss: 0.2939\n",
      "Epoch [1/1], Iter [20800/22500] Loss: 0.2929\n",
      "Epoch [1/1], Iter [20900/22500] Loss: 0.4395\n",
      "Epoch [1/1], Iter [21000/22500] Loss: 0.4421\n",
      "Epoch [1/1], Iter [21100/22500] Loss: 0.3291\n",
      "Epoch [1/1], Iter [21200/22500] Loss: 0.3295\n",
      "Epoch [1/1], Iter [21300/22500] Loss: 0.3989\n",
      "Epoch [1/1], Iter [21400/22500] Loss: 0.2695\n",
      "Epoch [1/1], Iter [21500/22500] Loss: 0.2831\n",
      "Epoch [1/1], Iter [21600/22500] Loss: 0.2572\n",
      "Epoch [1/1], Iter [21700/22500] Loss: 0.3767\n",
      "Epoch [1/1], Iter [21800/22500] Loss: 0.2807\n",
      "Epoch [1/1], Iter [21900/22500] Loss: 0.1983\n",
      "Epoch [1/1], Iter [22000/22500] Loss: 0.5095\n",
      "Epoch [1/1], Iter [22100/22500] Loss: 0.3740\n",
      "Epoch [1/1], Iter [22200/22500] Loss: 0.3327\n",
      "Epoch [1/1], Iter [22300/22500] Loss: 0.4077\n",
      "Epoch [1/1], Iter [22400/22500] Loss: 0.3814\n",
      "Epoch [1/1], Iter [22500/22500] Loss: 0.3937\n",
      "Finished Training\n"
     ]
    }
   ],
   "source": [
    "for epoch in range(num_epochs):  # loop over the dataset multiple times \n",
    "    for i, batch_indices in enumerate(train_loader.batch_sampler):   # iterate over mini-batches  \n",
    "        # Converting tweets to vectors and storing it in a variable\n",
    "        sentences = get_tweets_tensor(train_loader.dataset.data_list, batch_indices, verbose=False)\n",
    "        x = Variable(sentences)\n",
    "        \n",
    "        # Converting labels to a variable\n",
    "        labels = torch.from_numpy(train_loader.dataset.target_list[batch_indices])\n",
    "        y = Variable(labels, requires_grad=False)\n",
    "        \n",
    "        # Forward + Backward + Optimize\n",
    "        optimizer.zero_grad() # reset gradient\n",
    "        outputs = cnn(x) # cnn output\n",
    "        loss = loss_func(outputs, y) # clear gradients for this training step\n",
    "        loss.backward() # backpropagation, compute gradients\n",
    "        optimizer.step() # apply gradients\n",
    "        \n",
    "        if (i+1) % 100 == 0:\n",
    "            print('Epoch [%d/%d], Iter [%d/%d] Loss: %.4f' \n",
    "                  %(epoch+1, num_epochs, i+1, len(train_dataset)//batch_size, loss.data[0]))\n",
    "\n",
    "print('Finished Training')"
   ]
  },
  {
   "cell_type": "code",
   "execution_count": 37,
   "metadata": {},
   "outputs": [
    {
     "name": "stderr",
     "output_type": "stream",
     "text": [
      "/usr/local/anaconda3/envs/ml/lib/python3.5/site-packages/ipykernel_launcher.py:12: DeprecationWarning: elementwise == comparison failed; this will raise an error in the future.\n",
      "  if sys.path[0] == '':\n"
     ]
    },
    {
     "name": "stdout",
     "output_type": "stream",
     "text": [
      "Accuracy: 0.8403%\n"
     ]
    },
    {
     "data": {
      "text/plain": [
       "0.84030000000000005"
      ]
     },
     "execution_count": 37,
     "metadata": {},
     "output_type": "execute_result"
    }
   ],
   "source": [
    "# Evaluate n predictions from test data\n",
    "n = 10000\n",
    "val_output_n = cnn(Variable(get_tweets_tensor(x_val, indices=np.arange(n), verbose=False)))\n",
    "y_val_pred_n = torch.max(val_output_n, 1)[1].data.numpy().squeeze()\n",
    "accuracy(y_val_pred_n, y_val[:n], verbose=True)"
   ]
  },
  {
   "cell_type": "markdown",
   "metadata": {},
   "source": [
    "## Step 5: Make predictions for test data and save"
   ]
  },
  {
   "cell_type": "code",
   "execution_count": 32,
   "metadata": {},
   "outputs": [],
   "source": [
    "test_output = cnn(Variable(get_tweets_tensor(x_text_test_pad, verbose=False)))\n",
    "y_pred = torch.max(test_output, 1)[1].data.numpy().squeeze()"
   ]
  },
  {
   "cell_type": "code",
   "execution_count": 33,
   "metadata": {},
   "outputs": [
    {
     "data": {
      "text/plain": [
       "array([-1,  1, -1, ..., -1,  1, -1])"
      ]
     },
     "execution_count": 33,
     "metadata": {},
     "output_type": "execute_result"
    }
   ],
   "source": [
    "y_pred[y_pred == 0] = -1\n",
    "y_pred"
   ]
  },
  {
   "cell_type": "code",
   "execution_count": 34,
   "metadata": {},
   "outputs": [
    {
     "data": {
      "text/plain": [
       "array([    1,     2,     3, ...,  9998,  9999, 10000])"
      ]
     },
     "execution_count": 34,
     "metadata": {},
     "output_type": "execute_result"
    }
   ],
   "source": [
    "ids = np.arange(len(y_pred)+1)[1:]\n",
    "ids"
   ]
  },
  {
   "cell_type": "code",
   "execution_count": 35,
   "metadata": {
    "collapsed": true
   },
   "outputs": [],
   "source": [
    "create_csv_submission(ids, y_pred, 'kaggle_submission.csv')"
   ]
  },
  {
   "cell_type": "code",
   "execution_count": null,
   "metadata": {
    "collapsed": true
   },
   "outputs": [],
   "source": []
  }
 ],
 "metadata": {
  "kernelspec": {
   "display_name": "ml",
   "language": "python",
   "name": "ml"
  },
  "language_info": {
   "codemirror_mode": {
    "name": "ipython",
    "version": 3
   },
   "file_extension": ".py",
   "mimetype": "text/x-python",
   "name": "python",
   "nbconvert_exporter": "python",
   "pygments_lexer": "ipython3",
   "version": "3.5.4"
  }
 },
 "nbformat": 4,
 "nbformat_minor": 2
}
