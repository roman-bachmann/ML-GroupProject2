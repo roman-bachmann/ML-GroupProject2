{
 "cells": [
  {
   "cell_type": "markdown",
   "metadata": {},
   "source": [
    "# Twitter Sentiment Classification - Version 1"
   ]
  },
  {
   "cell_type": "code",
   "execution_count": 1,
   "metadata": {
    "collapsed": true
   },
   "outputs": [],
   "source": [
    "import os \n",
    "import pandas as pd\n",
    "import numpy as np\n",
    "\n",
    "from sklearn.model_selection import train_test_split\n",
    "\n",
    "import gensim\n",
    "import Cython\n",
    "\n",
    "import torch\n",
    "import torch.nn as nn\n",
    "import torch.nn.functional as F\n",
    "from torch.autograd import Variable\n",
    "from torch.utils.data import TensorDataset, DataLoader\n",
    "\n",
    "from helpers import *\n",
    "from data import create_csv_submission"
   ]
  },
  {
   "cell_type": "markdown",
   "metadata": {},
   "source": [
    "## Step 1: Load tweets"
   ]
  },
  {
   "cell_type": "code",
   "execution_count": 2,
   "metadata": {
    "collapsed": true
   },
   "outputs": [],
   "source": [
    "DATA_PATH = '../twitter-datasets/'\n",
    "TRAIN_NEG_PATH = os.path.join(DATA_PATH, 'train_neg.txt') # 100'000 negative tweets\n",
    "TRAIN_POS_PATH = os.path.join(DATA_PATH, 'train_pos.txt') # 100'000 positive tweets\n",
    "#TRAIN_NEG_PATH = os.path.join(DATA_PATH, 'train_neg_full.txt') # 2'500'000 negative tweets\n",
    "#TRAIN_POS_PATH = os.path.join(DATA_PATH, 'train_pos_full.txt') # 2'500'000 positive tweets\n",
    "TEST_PATH = os.path.join(DATA_PATH, 'test_data.txt')"
   ]
  },
  {
   "cell_type": "code",
   "execution_count": 3,
   "metadata": {
    "collapsed": true
   },
   "outputs": [],
   "source": [
    "x_text_train, y_train_full = load_data_and_labels(TRAIN_POS_PATH, TRAIN_NEG_PATH)"
   ]
  },
  {
   "cell_type": "code",
   "execution_count": 4,
   "metadata": {
    "collapsed": true
   },
   "outputs": [],
   "source": [
    "x_text_test = load_test_data(TEST_PATH)"
   ]
  },
  {
   "cell_type": "markdown",
   "metadata": {},
   "source": [
    "## Step 2: Build word2vec vocabulary"
   ]
  },
  {
   "cell_type": "code",
   "execution_count": 5,
   "metadata": {
    "collapsed": true
   },
   "outputs": [],
   "source": [
    "vector_length = 100\n",
    "w2v_model = gensim.models.Word2Vec(x_text_train + x_text_test, min_count=1, workers=4, size=vector_length)"
   ]
  },
  {
   "cell_type": "code",
   "execution_count": 6,
   "metadata": {},
   "outputs": [
    {
     "name": "stdout",
     "output_type": "stream",
     "text": [
      "Word2Vec(vocab=103942, size=100, alpha=0.025)\n"
     ]
    }
   ],
   "source": [
    "print(w2v_model)"
   ]
  },
  {
   "cell_type": "code",
   "execution_count": 7,
   "metadata": {
    "collapsed": true
   },
   "outputs": [],
   "source": [
    "# When training finished delete the training model but retain the word vectors:\n",
    "word_vectors = w2v_model.wv\n",
    "del w2v_model"
   ]
  },
  {
   "cell_type": "code",
   "execution_count": 8,
   "metadata": {},
   "outputs": [
    {
     "data": {
      "text/plain": [
       "(100,)"
      ]
     },
     "execution_count": 8,
     "metadata": {},
     "output_type": "execute_result"
    }
   ],
   "source": [
    "word_vectors.wv['computer'].shape"
   ]
  },
  {
   "cell_type": "code",
   "execution_count": 9,
   "metadata": {},
   "outputs": [
    {
     "data": {
      "text/plain": [
       "[('pocket', 0.8003799915313721),\n",
       " ('data', 0.8002138137817383),\n",
       " ('security', 0.7997422218322754),\n",
       " ('etch', 0.7943888902664185),\n",
       " ('notes', 0.791228175163269),\n",
       " ('desk', 0.7858865261077881),\n",
       " ('networking', 0.774237334728241),\n",
       " ('protocols', 0.7616873979568481),\n",
       " ('wave', 0.7598108053207397),\n",
       " ('wallet', 0.7540020942687988)]"
      ]
     },
     "execution_count": 9,
     "metadata": {},
     "output_type": "execute_result"
    }
   ],
   "source": [
    "word_vectors.most_similar('computer')"
   ]
  },
  {
   "cell_type": "markdown",
   "metadata": {},
   "source": [
    "## Step 3: Convert tweets into sentences of vectors"
   ]
  },
  {
   "cell_type": "code",
   "execution_count": 10,
   "metadata": {},
   "outputs": [
    {
     "name": "stdout",
     "output_type": "stream",
     "text": [
      "Maximum sequence length of train and test data: 50\n"
     ]
    }
   ],
   "source": [
    "# Compute the number of words of the longest tweet to get the maximal sentence length\n",
    "sequence_length_train = max(len(x) for x in x_text_train)\n",
    "sequence_length_test = max(len(x) for x in x_text_test)\n",
    "sequence_length = max(sequence_length_train, sequence_length_test)\n",
    "print('Maximum sequence length of train and test data:', sequence_length)\n",
    "\n",
    "x_text_train_pad = pad_sentences(x_text_train, padding_word=\"<PAD/>\", sequence_length=sequence_length)\n",
    "x_text_test_pad = pad_sentences(x_text_test, padding_word=\"<PAD/>\", sequence_length=sequence_length)"
   ]
  },
  {
   "cell_type": "code",
   "execution_count": 11,
   "metadata": {
    "scrolled": false
   },
   "outputs": [
    {
     "name": "stdout",
     "output_type": "stream",
     "text": [
      "Transformed 1/200000 tweets\n",
      "Transformed 25001/200000 tweets\n",
      "Transformed 50001/200000 tweets\n",
      "Transformed 75001/200000 tweets\n",
      "Transformed 100001/200000 tweets\n",
      "Transformed 125001/200000 tweets\n",
      "Transformed 150001/200000 tweets\n",
      "Transformed 175001/200000 tweets\n",
      "Transformed 1/10000 tweets\n"
     ]
    }
   ],
   "source": [
    "# Mapping every word to a vector from word2vec\n",
    "# Padding words are mapped to zero\n",
    "\n",
    "tweets_vec_train = np.ndarray((len(x_text_train_pad), sequence_length, vector_length))\n",
    "\n",
    "# TODO: SLOW!\n",
    "for idx_t, tweet in enumerate(x_text_train_pad):\n",
    "    for idx_w, word in enumerate(tweet):\n",
    "        if word == '<PAD/>':\n",
    "            tweets_vec_train[idx_t, idx_w] = np.zeros(100)\n",
    "        else:\n",
    "            tweets_vec_train[idx_t, idx_w] = word_vectors.wv[word]\n",
    "    if idx_t % 25000 == 0:\n",
    "        print('Transformed {}/{} tweets'.format(idx_t+1, (len(x_text_train_pad))))\n",
    "        \n",
    "tweets_vec_test = np.ndarray((len(x_text_test_pad), sequence_length, vector_length))\n",
    "\n",
    "# TODO: SLOW!\n",
    "for idx_t, tweet in enumerate(x_text_test_pad):\n",
    "    for idx_w, word in enumerate(tweet):\n",
    "        if word == '<PAD/>':\n",
    "            tweets_vec_test[idx_t, idx_w] = np.zeros(100)\n",
    "        else:\n",
    "            tweets_vec_test[idx_t, idx_w] = word_vectors.wv[word]\n",
    "    if idx_t % 25000 == 0:\n",
    "        print('Transformed {}/{} tweets'.format(idx_t+1, (len(x_text_test_pad))))"
   ]
  },
  {
   "cell_type": "code",
   "execution_count": 12,
   "metadata": {
    "collapsed": true
   },
   "outputs": [],
   "source": [
    "x_train, x_val, y_train, y_val = train_test_split(tweets_vec_train, y_train_full, test_size=0.1, random_state=42)"
   ]
  },
  {
   "cell_type": "code",
   "execution_count": 13,
   "metadata": {},
   "outputs": [
    {
     "data": {
      "text/plain": [
       "((180000, 50, 100), (180000,))"
      ]
     },
     "execution_count": 13,
     "metadata": {},
     "output_type": "execute_result"
    }
   ],
   "source": [
    "x_train.shape, y_train.shape"
   ]
  },
  {
   "cell_type": "code",
   "execution_count": 14,
   "metadata": {
    "scrolled": true
   },
   "outputs": [
    {
     "data": {
      "text/plain": [
       "((20000, 50, 100), (20000,))"
      ]
     },
     "execution_count": 14,
     "metadata": {},
     "output_type": "execute_result"
    }
   ],
   "source": [
    "x_val.shape, y_val.shape"
   ]
  },
  {
   "cell_type": "code",
   "execution_count": 15,
   "metadata": {},
   "outputs": [
    {
     "data": {
      "text/plain": [
       "(10000, 50, 100)"
      ]
     },
     "execution_count": 15,
     "metadata": {},
     "output_type": "execute_result"
    }
   ],
   "source": [
    "tweets_vec_test.shape"
   ]
  },
  {
   "cell_type": "markdown",
   "metadata": {},
   "source": [
    "## Step 4: Classification"
   ]
  },
  {
   "cell_type": "code",
   "execution_count": 16,
   "metadata": {
    "collapsed": true
   },
   "outputs": [],
   "source": [
    "# Hyper Parameters\n",
    "num_epochs = 1\n",
    "batch_size = 100\n",
    "learning_rate = 0.001"
   ]
  },
  {
   "cell_type": "code",
   "execution_count": 17,
   "metadata": {
    "collapsed": true
   },
   "outputs": [],
   "source": [
    "train_dataset = TensorDataset(torch.from_numpy(x_train), torch.from_numpy(y_train))\n",
    "train_loader = torch.utils.data.DataLoader(dataset=train_dataset,\n",
    "                                           batch_size=batch_size, \n",
    "                                           shuffle=True)"
   ]
  },
  {
   "cell_type": "code",
   "execution_count": 18,
   "metadata": {
    "collapsed": true
   },
   "outputs": [],
   "source": [
    "# Network hyperparameters\n",
    "N = train_loader.dataset.data_tensor.shape[0] # Number of tweets (eg 200000)\n",
    "S = train_loader.dataset.data_tensor.shape[1] # Number of words in one sentence (eg 50)\n",
    "V = train_loader.dataset.data_tensor.shape[2] # Length of word vectors (eg 100)\n",
    "K = 3                                         # Kernel width (K*V)\n",
    "C = 32                                        # Number of convolutional filters\n",
    "F = 2                                         # Number of output neurons in fully connected layer\n",
    "\n",
    "class CNN(nn.Module):\n",
    "    def __init__(self):\n",
    "        super(CNN, self).__init__()\n",
    "        self.conv1 = nn.Conv2d(             # input shape (1, S, V)\n",
    "                in_channels=1,              # input channels\n",
    "                out_channels=C,             # number of filters\n",
    "                kernel_size=(K,V),          # filter size\n",
    "                padding=(1,0),              # if want same width and length of this image after con2d, padding=(kernel_size-1)/2 if stride=1\n",
    "        ).double()                          # output shape (C, S, 1)\n",
    "        self.relu = nn.ReLU()               # ReLU activation\n",
    "        self.max_pool = nn.MaxPool1d(S)     # max-pool each filter into 1 output   \n",
    "        self.out = nn.Linear(C, F)          # fully connected layer, output F classes\n",
    "\n",
    "    def forward(self, x):        \n",
    "        out = x.unsqueeze(1)        \n",
    "        out = self.conv1(out)        \n",
    "        out = self.relu(out).squeeze(3)        \n",
    "        out = self.max_pool(out).squeeze(2).float()                \n",
    "        out = self.out(out)        \n",
    "        return out"
   ]
  },
  {
   "cell_type": "code",
   "execution_count": 19,
   "metadata": {},
   "outputs": [
    {
     "name": "stdout",
     "output_type": "stream",
     "text": [
      "CNN (\n",
      "  (conv1): Conv2d(1, 32, kernel_size=(3, 100), stride=(1, 1), padding=(1, 0))\n",
      "  (relu): ReLU ()\n",
      "  (max_pool): MaxPool1d (size=50, stride=50, padding=0, dilation=1, ceil_mode=False)\n",
      "  (out): Linear (32 -> 2)\n",
      ")\n"
     ]
    }
   ],
   "source": [
    "cnn = CNN()\n",
    "print(cnn)  # net architecture"
   ]
  },
  {
   "cell_type": "code",
   "execution_count": 20,
   "metadata": {
    "collapsed": true
   },
   "outputs": [],
   "source": [
    "optimizer = torch.optim.Adam(cnn.parameters(), lr=learning_rate)   # optimize all cnn parameters\n",
    "loss_func = nn.CrossEntropyLoss()                                  # the target label is not one-hotted"
   ]
  },
  {
   "cell_type": "code",
   "execution_count": 21,
   "metadata": {
    "scrolled": false
   },
   "outputs": [
    {
     "name": "stdout",
     "output_type": "stream",
     "text": [
      "Epoch [1/1], Iter [100/1800] Loss: 0.6104\n",
      "Epoch [1/1], Iter [200/1800] Loss: 0.4573\n",
      "Epoch [1/1], Iter [300/1800] Loss: 0.4746\n",
      "Epoch [1/1], Iter [400/1800] Loss: 0.5232\n",
      "Epoch [1/1], Iter [500/1800] Loss: 0.3982\n",
      "Epoch [1/1], Iter [600/1800] Loss: 0.4205\n",
      "Epoch [1/1], Iter [700/1800] Loss: 0.3745\n",
      "Epoch [1/1], Iter [800/1800] Loss: 0.4700\n",
      "Epoch [1/1], Iter [900/1800] Loss: 0.3834\n",
      "Epoch [1/1], Iter [1000/1800] Loss: 0.4419\n",
      "Epoch [1/1], Iter [1100/1800] Loss: 0.4094\n",
      "Epoch [1/1], Iter [1200/1800] Loss: 0.3339\n",
      "Epoch [1/1], Iter [1300/1800] Loss: 0.4181\n",
      "Epoch [1/1], Iter [1400/1800] Loss: 0.3679\n",
      "Epoch [1/1], Iter [1500/1800] Loss: 0.4670\n",
      "Epoch [1/1], Iter [1600/1800] Loss: 0.4493\n",
      "Epoch [1/1], Iter [1700/1800] Loss: 0.4068\n",
      "Epoch [1/1], Iter [1800/1800] Loss: 0.4140\n",
      "Finished Training\n"
     ]
    }
   ],
   "source": [
    "for epoch in range(num_epochs):  # loop over the dataset multiple times \n",
    "    for i, (sentences, labels) in enumerate(train_loader):   # iterate over mini-batches      \n",
    "        x = Variable(sentences)\n",
    "        y = Variable(labels, requires_grad=False)\n",
    "        \n",
    "        # Forward + Backward + Optimize\n",
    "        optimizer.zero_grad() # reset gradient\n",
    "        outputs = cnn(x) # cnn output\n",
    "        loss = loss_func(outputs, y) # clear gradients for this training step\n",
    "        loss.backward() # backpropagation, compute gradients\n",
    "        optimizer.step() # apply gradients\n",
    "        \n",
    "        if (i+1) % 100 == 0:\n",
    "            print('Epoch [%d/%d], Iter [%d/%d] Loss: %.4f' \n",
    "                  %(epoch+1, num_epochs, i+1, len(train_dataset)//batch_size, loss.data[0]))\n",
    "\n",
    "print('Finished Training')"
   ]
  },
  {
   "cell_type": "code",
   "execution_count": 22,
   "metadata": {},
   "outputs": [
    {
     "name": "stdout",
     "output_type": "stream",
     "text": [
      "[1 1 0 1 1 1 0 1 0 1] prediction number\n",
      "[0 1 0 1 1 1 0 0 0 1] real number\n",
      "Accuracy: 0.8%\n"
     ]
    },
    {
     "data": {
      "text/plain": [
       "0.80000000000000004"
      ]
     },
     "execution_count": 22,
     "metadata": {},
     "output_type": "execute_result"
    }
   ],
   "source": [
    "# Print 10 predictions from test data\n",
    "val_output_10 = cnn(Variable(torch.from_numpy(x_val[:10])))\n",
    "y_val_pred_10 = torch.max(val_output_10, 1)[1].data.numpy().squeeze()\n",
    "print(y_val_pred_10, 'prediction number')\n",
    "print(y_val[:10], 'real number')\n",
    "accuracy(y_val_pred_10, y_val[:10], verbose=True)"
   ]
  },
  {
   "cell_type": "code",
   "execution_count": 23,
   "metadata": {},
   "outputs": [
    {
     "name": "stdout",
     "output_type": "stream",
     "text": [
      "Accuracy: 0.80595%\n"
     ]
    },
    {
     "data": {
      "text/plain": [
       "0.80595000000000006"
      ]
     },
     "execution_count": 23,
     "metadata": {},
     "output_type": "execute_result"
    }
   ],
   "source": [
    "# Print validation accuracy of predictions\n",
    "val_output = cnn(Variable(torch.from_numpy(x_val)))\n",
    "y_val_pred = torch.max(val_output, 1)[1].data.numpy().squeeze()\n",
    "\n",
    "accuracy(y_val_pred, y_val, verbose=True)"
   ]
  },
  {
   "cell_type": "markdown",
   "metadata": {},
   "source": [
    "## Step 5: Make predictions for test data and save"
   ]
  },
  {
   "cell_type": "code",
   "execution_count": 24,
   "metadata": {
    "collapsed": true
   },
   "outputs": [],
   "source": [
    "test_output = cnn(Variable(torch.from_numpy(tweets_vec_test)))\n",
    "y_pred = torch.max(test_output, 1)[1].data.numpy().squeeze()"
   ]
  },
  {
   "cell_type": "code",
   "execution_count": 25,
   "metadata": {},
   "outputs": [
    {
     "data": {
      "text/plain": [
       "array([-1, -1, -1, ..., -1,  1, -1])"
      ]
     },
     "execution_count": 25,
     "metadata": {},
     "output_type": "execute_result"
    }
   ],
   "source": [
    "y_pred[y_pred == 0] = -1\n",
    "y_pred"
   ]
  },
  {
   "cell_type": "code",
   "execution_count": 26,
   "metadata": {},
   "outputs": [
    {
     "data": {
      "text/plain": [
       "array([    1,     2,     3, ...,  9998,  9999, 10000])"
      ]
     },
     "execution_count": 26,
     "metadata": {},
     "output_type": "execute_result"
    }
   ],
   "source": [
    "ids = np.arange(len(y_pred)+1)[1:]\n",
    "ids"
   ]
  },
  {
   "cell_type": "code",
   "execution_count": 27,
   "metadata": {
    "collapsed": true
   },
   "outputs": [],
   "source": [
    "create_csv_submission(ids, y_pred, 'kaggle_submission.csv')"
   ]
  },
  {
   "cell_type": "code",
   "execution_count": null,
   "metadata": {
    "collapsed": true
   },
   "outputs": [],
   "source": []
  }
 ],
 "metadata": {
  "kernelspec": {
   "display_name": "ml",
   "language": "python",
   "name": "ml"
  },
  "language_info": {
   "codemirror_mode": {
    "name": "ipython",
    "version": 3
   },
   "file_extension": ".py",
   "mimetype": "text/x-python",
   "name": "python",
   "nbconvert_exporter": "python",
   "pygments_lexer": "ipython3",
   "version": "3.5.4"
  }
 },
 "nbformat": 4,
 "nbformat_minor": 2
}
