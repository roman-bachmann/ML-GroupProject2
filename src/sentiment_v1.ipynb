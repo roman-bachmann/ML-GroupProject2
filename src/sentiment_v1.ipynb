{
 "cells": [
  {
   "cell_type": "markdown",
   "metadata": {},
   "source": [
    "# Twitter Sentiment Classification - Version 1"
   ]
  },
  {
   "cell_type": "code",
   "execution_count": 1,
   "metadata": {
    "collapsed": true
   },
   "outputs": [],
   "source": [
    "import os \n",
    "import pandas as pd\n",
    "import numpy as np\n",
    "\n",
    "from sklearn.model_selection import train_test_split\n",
    "\n",
    "import gensim\n",
    "import Cython\n",
    "\n",
    "import torch\n",
    "import torch.nn as nn\n",
    "import torch.nn.functional as F\n",
    "from torch.autograd import Variable\n",
    "from torch.utils.data import Dataset, TensorDataset, DataLoader\n",
    "\n",
    "from torchtext import data\n",
    "\n",
    "from helpers import *\n",
    "from data import create_csv_submission"
   ]
  },
  {
   "cell_type": "markdown",
   "metadata": {},
   "source": [
    "## Step 1: Load tweets"
   ]
  },
  {
   "cell_type": "code",
   "execution_count": 8,
   "metadata": {
    "collapsed": true
   },
   "outputs": [],
   "source": [
    "DATA_PATH = '../twitter-datasets/'\n",
    "MODEL_PATH = '../models/'\n",
    "\n",
    "#TRAIN_NEG_PATH = os.path.join(DATA_PATH, 'train_neg.txt') # 100'000 negative tweets\n",
    "#TRAIN_POS_PATH = os.path.join(DATA_PATH, 'train_pos.txt') # 100'000 positive tweets\n",
    "TRAIN_NEG_PATH = os.path.join(DATA_PATH, 'train_neg_full.txt') # 2'500'000 negative tweets\n",
    "TRAIN_POS_PATH = os.path.join(DATA_PATH, 'train_pos_full.txt') # 2'500'000 positive tweets\n",
    "TEST_PATH = os.path.join(DATA_PATH, 'test_data.txt')"
   ]
  },
  {
   "cell_type": "code",
   "execution_count": 3,
   "metadata": {
    "collapsed": true
   },
   "outputs": [],
   "source": [
    "x_text_train, y_train_full = load_data_and_labels(TRAIN_POS_PATH, TRAIN_NEG_PATH)"
   ]
  },
  {
   "cell_type": "code",
   "execution_count": 4,
   "metadata": {
    "collapsed": true
   },
   "outputs": [],
   "source": [
    "x_text_test = load_test_data(TEST_PATH)"
   ]
  },
  {
   "cell_type": "markdown",
   "metadata": {},
   "source": [
    "## Step 2: Build word2vec vocabulary"
   ]
  },
  {
   "cell_type": "code",
   "execution_count": 5,
   "metadata": {
    "collapsed": true
   },
   "outputs": [],
   "source": [
    "vector_length = 100\n",
    "w2v_model = gensim.models.Word2Vec(x_text_train + x_text_test, min_count=1, workers=4, size=vector_length)"
   ]
  },
  {
   "cell_type": "code",
   "execution_count": 6,
   "metadata": {},
   "outputs": [
    {
     "name": "stdout",
     "output_type": "stream",
     "text": [
      "Word2Vec(vocab=496335, size=100, alpha=0.025)\n"
     ]
    }
   ],
   "source": [
    "print(w2v_model)"
   ]
  },
  {
   "cell_type": "code",
   "execution_count": 9,
   "metadata": {
    "collapsed": true
   },
   "outputs": [],
   "source": [
    "w2v_model.save(MODEL_PATH + 'twitter_w2v.bin')"
   ]
  },
  {
   "cell_type": "code",
   "execution_count": 10,
   "metadata": {
    "collapsed": true
   },
   "outputs": [],
   "source": [
    "w2v_model = gensim.models.Word2Vec.load(MODEL_PATH + 'twitter_w2v.bin')"
   ]
  },
  {
   "cell_type": "code",
   "execution_count": 12,
   "metadata": {
    "collapsed": true
   },
   "outputs": [],
   "source": [
    "# When training finished delete the training model but retain the word vectors:\n",
    "word_vectors = w2v_model.wv\n",
    "del w2v_model"
   ]
  },
  {
   "cell_type": "code",
   "execution_count": 1,
   "metadata": {},
   "outputs": [
    {
     "ename": "NameError",
     "evalue": "name 'word_vectors' is not defined",
     "output_type": "error",
     "traceback": [
      "\u001b[0;31m---------------------------------------------------------------------------\u001b[0m",
      "\u001b[0;31mNameError\u001b[0m                                 Traceback (most recent call last)",
      "\u001b[0;32m<ipython-input-1-48c699186724>\u001b[0m in \u001b[0;36m<module>\u001b[0;34m()\u001b[0m\n\u001b[0;32m----> 1\u001b[0;31m \u001b[0mword_vectors\u001b[0m\u001b[0;34m.\u001b[0m\u001b[0mwv\u001b[0m\u001b[0;34m[\u001b[0m\u001b[0;34m'computer'\u001b[0m\u001b[0;34m]\u001b[0m\u001b[0;34m.\u001b[0m\u001b[0mshape\u001b[0m\u001b[0;34m\u001b[0m\u001b[0m\n\u001b[0m",
      "\u001b[0;31mNameError\u001b[0m: name 'word_vectors' is not defined"
     ]
    }
   ],
   "source": [
    "word_vectors.wv['computer'].shape"
   ]
  },
  {
   "cell_type": "code",
   "execution_count": 14,
   "metadata": {},
   "outputs": [
    {
     "data": {
      "text/plain": [
       "[('internet', 0.708969235420227),\n",
       " ('desktop', 0.6651554107666016),\n",
       " ('calculator', 0.6596795320510864),\n",
       " ('settings', 0.6567734479904175),\n",
       " ('laptop', 0.6565127372741699),\n",
       " ('phone', 0.6472017168998718),\n",
       " ('browser', 0.635584831237793),\n",
       " ('portfolio', 0.6346469521522522),\n",
       " ('wifi', 0.6323057413101196),\n",
       " ('desk', 0.6210508346557617)]"
      ]
     },
     "execution_count": 14,
     "metadata": {},
     "output_type": "execute_result"
    }
   ],
   "source": [
    "word_vectors.most_similar('computer')"
   ]
  },
  {
   "cell_type": "markdown",
   "metadata": {},
   "source": [
    "## Step 3: Convert tweets into sentences of vectors"
   ]
  },
  {
   "cell_type": "code",
   "execution_count": 15,
   "metadata": {
    "scrolled": true
   },
   "outputs": [
    {
     "name": "stdout",
     "output_type": "stream",
     "text": [
      "Maximum sequence length of train and test data: 74\n"
     ]
    }
   ],
   "source": [
    "# Compute the number of words of the longest tweet to get the maximal sentence length\n",
    "sequence_length_train = max(len(x) for x in x_text_train)\n",
    "sequence_length_test = max(len(x) for x in x_text_test)\n",
    "sequence_length = max(sequence_length_train, sequence_length_test)\n",
    "print('Maximum sequence length of train and test data:', sequence_length)\n",
    "\n",
    "x_text_train_pad = pad_sentences(x_text_train, padding_word=\"<PAD/>\", sequence_length=sequence_length)\n",
    "x_text_test_pad = pad_sentences(x_text_test, padding_word=\"<PAD/>\", sequence_length=sequence_length)\n",
    "\n",
    "del x_text_train\n",
    "del x_text_test"
   ]
  },
  {
   "cell_type": "code",
   "execution_count": 16,
   "metadata": {
    "collapsed": true
   },
   "outputs": [],
   "source": [
    "# Split into training and validation data\n",
    "x_train, x_val, y_train, y_val = train_test_split(x_text_train_pad, y_train_full, test_size=0.01, random_state=42)"
   ]
  },
  {
   "cell_type": "code",
   "execution_count": 17,
   "metadata": {},
   "outputs": [
    {
     "data": {
      "text/plain": [
       "(2475000, 74)"
      ]
     },
     "execution_count": 17,
     "metadata": {},
     "output_type": "execute_result"
    }
   ],
   "source": [
    "len(x_train), len(x_train[0])"
   ]
  },
  {
   "cell_type": "code",
   "execution_count": 18,
   "metadata": {},
   "outputs": [
    {
     "data": {
      "text/plain": [
       "(25000, 74)"
      ]
     },
     "execution_count": 18,
     "metadata": {},
     "output_type": "execute_result"
    }
   ],
   "source": [
    "len(x_val), len(x_val[0])"
   ]
  },
  {
   "cell_type": "code",
   "execution_count": 19,
   "metadata": {
    "collapsed": true
   },
   "outputs": [],
   "source": [
    "# TODO: SLOW!\n",
    "\n",
    "def get_tweets_tensor(tweets, indices=[], verbose=False):\n",
    "    '''Mapping every word to a vector from word2vec\n",
    "    Padding words are mapped to zero\n",
    "    Leave indices empty to map every tweet in tweets\n",
    "    '''\n",
    "\n",
    "    nb_tweets = len(tweets) if len(indices)==0 else len(indices)\n",
    "    tweets_vec = np.zeros((nb_tweets, len(tweets[0]), vector_length), dtype=np.float32)\n",
    "    \n",
    "    if indices == []:\n",
    "        for idx_t, tweet in enumerate(tweets):\n",
    "            for idx_w, word in enumerate(tweet):\n",
    "                if word != '<PAD/>':\n",
    "                    tweets_vec[idx_t, idx_w] = word_vectors.wv[word]  \n",
    "            if verbose and idx_t % 100000 == 0:\n",
    "                print('Transformed {}/{} tweets'.format(idx_t+1, (len(x_text_train_pad))))\n",
    "    else:\n",
    "        for idx_t, orig_idx in enumerate(indices):\n",
    "            for idx_w, word in enumerate(tweets[orig_idx]):\n",
    "                if word != '<PAD/>':\n",
    "                    tweets_vec[idx_t, idx_w] = word_vectors.wv[word]  \n",
    "            if verbose and idx_t % 100000 == 0:\n",
    "                print('Transformed {}/{} tweets'.format(idx_t+1, (len(x_text_train_pad))))\n",
    "    \n",
    "    return torch.from_numpy(tweets_vec)"
   ]
  },
  {
   "cell_type": "markdown",
   "metadata": {},
   "source": [
    "## Step 4: Classification"
   ]
  },
  {
   "cell_type": "code",
   "execution_count": 36,
   "metadata": {
    "collapsed": true
   },
   "outputs": [],
   "source": [
    "# Hyper Parameters\n",
    "num_epochs = 1\n",
    "batch_size = 100\n",
    "learning_rate = 0.001"
   ]
  },
  {
   "cell_type": "code",
   "execution_count": 37,
   "metadata": {
    "collapsed": true
   },
   "outputs": [],
   "source": [
    "class ArrayDataset(Dataset):\n",
    "    \"\"\"Dataset wrapping data and target tensors.\n",
    "\n",
    "    Each sample will be retrieved by indexing both tensors along the first\n",
    "    dimension.\n",
    "\n",
    "    Arguments:\n",
    "        data_tensor (Tensor): contains sample data.\n",
    "        target_tensor (Tensor): contains sample targets (labels).\n",
    "    \"\"\"\n",
    "\n",
    "    def __init__(self, data_array, target_array):\n",
    "        assert data_array.shape[0] == target_array.shape[0]\n",
    "        self.data_array = data_array\n",
    "        self.target_array = target_array\n",
    "\n",
    "    def __getitem__(self, index):\n",
    "        return self.data_array[index], self.target_array[index]\n",
    "\n",
    "    def __len__(self):\n",
    "        return self.data_array.shape[0]"
   ]
  },
  {
   "cell_type": "code",
   "execution_count": 38,
   "metadata": {
    "collapsed": true
   },
   "outputs": [],
   "source": [
    "class ListDataset(Dataset):\n",
    "    \"\"\"Dataset wrapping data and target tensors.\n",
    "\n",
    "    Each sample will be retrieved by indexing both tensors along the first\n",
    "    dimension.\n",
    "\n",
    "    Arguments:\n",
    "        data_tensor (Tensor): contains sample data.\n",
    "        target_tensor (Tensor): contains sample targets (labels).\n",
    "    \"\"\"\n",
    "\n",
    "    def __init__(self, data_list, target_list):\n",
    "        assert len(data_list) == len(target_list)\n",
    "        self.data_list = data_list\n",
    "        self.target_list = target_list\n",
    "\n",
    "    def __getitem__(self, index):\n",
    "        return self.data_list[index], self.target_list[index]\n",
    "\n",
    "    def __len__(self):\n",
    "        return len(self.data_list)"
   ]
  },
  {
   "cell_type": "code",
   "execution_count": 39,
   "metadata": {
    "collapsed": true
   },
   "outputs": [],
   "source": [
    "train_dataset = ListDataset(x_train, y_train)\n",
    "train_loader = torch.utils.data.DataLoader(dataset=train_dataset,\n",
    "                                           batch_size=batch_size, \n",
    "                                           shuffle=True)"
   ]
  },
  {
   "cell_type": "code",
   "execution_count": 40,
   "metadata": {
    "collapsed": true
   },
   "outputs": [],
   "source": [
    "# Network hyperparameters\n",
    "N = len(train_loader.dataset.data_list)      # Number of tweets (eg 200000)\n",
    "S = len(train_loader.dataset.data_list[0])   # Number of words in one sentence (eg 50)\n",
    "V = vector_length                            # Length of word vectors (eg 100)\n",
    "K = 3                                        # Kernel width (K*V)\n",
    "C = 128                                      # Number of convolutional filters\n",
    "F = 2                                        # Number of output neurons in fully connected layer\n",
    "\n",
    "class CNN(nn.Module):\n",
    "    def __init__(self):\n",
    "        super(CNN, self).__init__()\n",
    "        self.conv1 = nn.Conv2d(             # input shape (1, S, V)\n",
    "                in_channels=1,              # input channels\n",
    "                out_channels=C,             # number of filters\n",
    "                kernel_size=(K,V),          # filter size\n",
    "                padding=(1,0),              # if want same width and length of this image after con2d, padding=(kernel_size-1)/2 if stride=1\n",
    "        )                                   # output shape (C, S, 1)\n",
    "        self.relu = nn.ReLU()               # ReLU activation\n",
    "        self.max_pool = nn.MaxPool1d(S)     # max-pool each filter into 1 output   \n",
    "        self.out = nn.Linear(C, F)          # fully connected layer, output F classes\n",
    "\n",
    "    def forward(self, x):        \n",
    "        out = x.unsqueeze(1)        \n",
    "        out = self.conv1(out)        \n",
    "        out = self.relu(out).squeeze(3)        \n",
    "        out = self.max_pool(out).squeeze(2).float()                \n",
    "        out = self.out(out)        \n",
    "        return out"
   ]
  },
  {
   "cell_type": "code",
   "execution_count": 41,
   "metadata": {},
   "outputs": [
    {
     "name": "stdout",
     "output_type": "stream",
     "text": [
      "CNN (\n",
      "  (conv1): Conv2d(1, 128, kernel_size=(3, 100), stride=(1, 1), padding=(1, 0))\n",
      "  (relu): ReLU ()\n",
      "  (max_pool): MaxPool1d (size=74, stride=74, padding=0, dilation=1, ceil_mode=False)\n",
      "  (out): Linear (128 -> 2)\n",
      ")\n"
     ]
    }
   ],
   "source": [
    "cnn = CNN()\n",
    "print(cnn)  # net architecture"
   ]
  },
  {
   "cell_type": "code",
   "execution_count": 42,
   "metadata": {
    "collapsed": true
   },
   "outputs": [],
   "source": [
    "optimizer = torch.optim.Adam(cnn.parameters(), lr=learning_rate)   # optimize all cnn parameters\n",
    "loss_func = nn.CrossEntropyLoss()                                  # the target label is not one-hotted"
   ]
  },
  {
   "cell_type": "code",
   "execution_count": 43,
   "metadata": {
    "scrolled": false
   },
   "outputs": [
    {
     "name": "stdout",
     "output_type": "stream",
     "text": [
      "Epoch [1/1], Iter [100/24750] Loss: 0.5966\n",
      "Epoch [1/1], Iter [200/24750] Loss: 0.3925\n",
      "Epoch [1/1], Iter [300/24750] Loss: 0.4905\n",
      "Epoch [1/1], Iter [400/24750] Loss: 0.5288\n",
      "Epoch [1/1], Iter [500/24750] Loss: 0.4296\n",
      "Epoch [1/1], Iter [600/24750] Loss: 0.3560\n",
      "Epoch [1/1], Iter [700/24750] Loss: 0.4240\n",
      "Epoch [1/1], Iter [800/24750] Loss: 0.3802\n",
      "Epoch [1/1], Iter [900/24750] Loss: 0.4914\n",
      "Epoch [1/1], Iter [1000/24750] Loss: 0.4899\n",
      "Epoch [1/1], Iter [1100/24750] Loss: 0.2913\n",
      "Epoch [1/1], Iter [1200/24750] Loss: 0.3219\n",
      "Epoch [1/1], Iter [1300/24750] Loss: 0.3904\n",
      "Epoch [1/1], Iter [1400/24750] Loss: 0.3498\n",
      "Epoch [1/1], Iter [1500/24750] Loss: 0.4345\n",
      "Epoch [1/1], Iter [1600/24750] Loss: 0.2902\n",
      "Epoch [1/1], Iter [1700/24750] Loss: 0.2520\n",
      "Epoch [1/1], Iter [1800/24750] Loss: 0.4085\n",
      "Epoch [1/1], Iter [1900/24750] Loss: 0.3096\n",
      "Epoch [1/1], Iter [2000/24750] Loss: 0.4064\n",
      "Epoch [1/1], Iter [2100/24750] Loss: 0.4207\n",
      "Epoch [1/1], Iter [2200/24750] Loss: 0.3708\n",
      "Epoch [1/1], Iter [2300/24750] Loss: 0.4192\n",
      "Epoch [1/1], Iter [2400/24750] Loss: 0.3880\n",
      "Epoch [1/1], Iter [2500/24750] Loss: 0.3985\n",
      "Epoch [1/1], Iter [2600/24750] Loss: 0.3293\n",
      "Epoch [1/1], Iter [2700/24750] Loss: 0.3225\n",
      "Epoch [1/1], Iter [2800/24750] Loss: 0.2671\n",
      "Epoch [1/1], Iter [2900/24750] Loss: 0.3680\n",
      "Epoch [1/1], Iter [3000/24750] Loss: 0.4134\n",
      "Epoch [1/1], Iter [3100/24750] Loss: 0.2343\n",
      "Epoch [1/1], Iter [3200/24750] Loss: 0.3144\n",
      "Epoch [1/1], Iter [3300/24750] Loss: 0.3812\n",
      "Epoch [1/1], Iter [3400/24750] Loss: 0.3667\n",
      "Epoch [1/1], Iter [3500/24750] Loss: 0.3849\n",
      "Epoch [1/1], Iter [3600/24750] Loss: 0.4420\n",
      "Epoch [1/1], Iter [3700/24750] Loss: 0.4053\n",
      "Epoch [1/1], Iter [3800/24750] Loss: 0.2604\n",
      "Epoch [1/1], Iter [3900/24750] Loss: 0.4559\n",
      "Epoch [1/1], Iter [4000/24750] Loss: 0.3288\n",
      "Epoch [1/1], Iter [4100/24750] Loss: 0.3244\n",
      "Epoch [1/1], Iter [4200/24750] Loss: 0.3889\n",
      "Epoch [1/1], Iter [4300/24750] Loss: 0.3263\n",
      "Epoch [1/1], Iter [4400/24750] Loss: 0.3031\n",
      "Epoch [1/1], Iter [4500/24750] Loss: 0.3919\n",
      "Epoch [1/1], Iter [4600/24750] Loss: 0.3192\n",
      "Epoch [1/1], Iter [4700/24750] Loss: 0.3517\n",
      "Epoch [1/1], Iter [4800/24750] Loss: 0.4189\n",
      "Epoch [1/1], Iter [4900/24750] Loss: 0.3210\n",
      "Epoch [1/1], Iter [5000/24750] Loss: 0.3399\n",
      "Epoch [1/1], Iter [5100/24750] Loss: 0.3583\n",
      "Epoch [1/1], Iter [5200/24750] Loss: 0.3664\n",
      "Epoch [1/1], Iter [5300/24750] Loss: 0.3328\n",
      "Epoch [1/1], Iter [5400/24750] Loss: 0.4232\n",
      "Epoch [1/1], Iter [5500/24750] Loss: 0.3316\n",
      "Epoch [1/1], Iter [5600/24750] Loss: 0.4236\n",
      "Epoch [1/1], Iter [5700/24750] Loss: 0.3215\n",
      "Epoch [1/1], Iter [5800/24750] Loss: 0.3281\n",
      "Epoch [1/1], Iter [5900/24750] Loss: 0.3485\n",
      "Epoch [1/1], Iter [6000/24750] Loss: 0.3443\n",
      "Epoch [1/1], Iter [6100/24750] Loss: 0.3464\n",
      "Epoch [1/1], Iter [6200/24750] Loss: 0.2985\n",
      "Epoch [1/1], Iter [6300/24750] Loss: 0.3989\n",
      "Epoch [1/1], Iter [6400/24750] Loss: 0.3393\n",
      "Epoch [1/1], Iter [6500/24750] Loss: 0.4143\n",
      "Epoch [1/1], Iter [6600/24750] Loss: 0.3279\n",
      "Epoch [1/1], Iter [6700/24750] Loss: 0.4080\n",
      "Epoch [1/1], Iter [6800/24750] Loss: 0.4037\n",
      "Epoch [1/1], Iter [6900/24750] Loss: 0.4198\n",
      "Epoch [1/1], Iter [7000/24750] Loss: 0.5161\n",
      "Epoch [1/1], Iter [7100/24750] Loss: 0.3677\n",
      "Epoch [1/1], Iter [7200/24750] Loss: 0.2700\n",
      "Epoch [1/1], Iter [7300/24750] Loss: 0.4178\n",
      "Epoch [1/1], Iter [7400/24750] Loss: 0.3261\n",
      "Epoch [1/1], Iter [7500/24750] Loss: 0.3836\n",
      "Epoch [1/1], Iter [7600/24750] Loss: 0.4177\n",
      "Epoch [1/1], Iter [7700/24750] Loss: 0.3359\n",
      "Epoch [1/1], Iter [7800/24750] Loss: 0.4254\n",
      "Epoch [1/1], Iter [7900/24750] Loss: 0.3272\n",
      "Epoch [1/1], Iter [8000/24750] Loss: 0.4370\n",
      "Epoch [1/1], Iter [8100/24750] Loss: 0.3589\n",
      "Epoch [1/1], Iter [8200/24750] Loss: 0.3763\n",
      "Epoch [1/1], Iter [8300/24750] Loss: 0.2957\n",
      "Epoch [1/1], Iter [8400/24750] Loss: 0.4380\n",
      "Epoch [1/1], Iter [8500/24750] Loss: 0.3480\n",
      "Epoch [1/1], Iter [8600/24750] Loss: 0.2593\n",
      "Epoch [1/1], Iter [8700/24750] Loss: 0.2752\n",
      "Epoch [1/1], Iter [8800/24750] Loss: 0.4056\n",
      "Epoch [1/1], Iter [8900/24750] Loss: 0.4432\n",
      "Epoch [1/1], Iter [9000/24750] Loss: 0.2774\n",
      "Epoch [1/1], Iter [9100/24750] Loss: 0.3274\n",
      "Epoch [1/1], Iter [9200/24750] Loss: 0.2785\n",
      "Epoch [1/1], Iter [9300/24750] Loss: 0.3555\n",
      "Epoch [1/1], Iter [9400/24750] Loss: 0.3447\n",
      "Epoch [1/1], Iter [9500/24750] Loss: 0.3644\n",
      "Epoch [1/1], Iter [9600/24750] Loss: 0.3642\n",
      "Epoch [1/1], Iter [9700/24750] Loss: 0.3500\n",
      "Epoch [1/1], Iter [9800/24750] Loss: 0.2725\n",
      "Epoch [1/1], Iter [9900/24750] Loss: 0.2872\n",
      "Epoch [1/1], Iter [10000/24750] Loss: 0.2616\n",
      "Epoch [1/1], Iter [10100/24750] Loss: 0.3647\n",
      "Epoch [1/1], Iter [10200/24750] Loss: 0.2668\n",
      "Epoch [1/1], Iter [10300/24750] Loss: 0.2793\n",
      "Epoch [1/1], Iter [10400/24750] Loss: 0.2967\n",
      "Epoch [1/1], Iter [10500/24750] Loss: 0.3007\n",
      "Epoch [1/1], Iter [10600/24750] Loss: 0.2760\n",
      "Epoch [1/1], Iter [10700/24750] Loss: 0.3392\n",
      "Epoch [1/1], Iter [10800/24750] Loss: 0.3013\n",
      "Epoch [1/1], Iter [10900/24750] Loss: 0.3035\n",
      "Epoch [1/1], Iter [11000/24750] Loss: 0.3626\n",
      "Epoch [1/1], Iter [11100/24750] Loss: 0.2972\n",
      "Epoch [1/1], Iter [11200/24750] Loss: 0.3549\n",
      "Epoch [1/1], Iter [11300/24750] Loss: 0.3001\n",
      "Epoch [1/1], Iter [11400/24750] Loss: 0.3574\n",
      "Epoch [1/1], Iter [11500/24750] Loss: 0.3099\n",
      "Epoch [1/1], Iter [11600/24750] Loss: 0.4013\n",
      "Epoch [1/1], Iter [11700/24750] Loss: 0.3115\n",
      "Epoch [1/1], Iter [11800/24750] Loss: 0.4186\n",
      "Epoch [1/1], Iter [11900/24750] Loss: 0.3315\n",
      "Epoch [1/1], Iter [12000/24750] Loss: 0.3354\n",
      "Epoch [1/1], Iter [12100/24750] Loss: 0.3819\n",
      "Epoch [1/1], Iter [12200/24750] Loss: 0.4333\n",
      "Epoch [1/1], Iter [12300/24750] Loss: 0.3216\n",
      "Epoch [1/1], Iter [12400/24750] Loss: 0.3499\n",
      "Epoch [1/1], Iter [12500/24750] Loss: 0.3592\n",
      "Epoch [1/1], Iter [12600/24750] Loss: 0.4800\n",
      "Epoch [1/1], Iter [12700/24750] Loss: 0.2756\n",
      "Epoch [1/1], Iter [12800/24750] Loss: 0.3074\n",
      "Epoch [1/1], Iter [12900/24750] Loss: 0.3655\n",
      "Epoch [1/1], Iter [13000/24750] Loss: 0.3089\n",
      "Epoch [1/1], Iter [13100/24750] Loss: 0.3155\n",
      "Epoch [1/1], Iter [13200/24750] Loss: 0.3537\n",
      "Epoch [1/1], Iter [13300/24750] Loss: 0.3519\n",
      "Epoch [1/1], Iter [13400/24750] Loss: 0.3530\n",
      "Epoch [1/1], Iter [13500/24750] Loss: 0.2739\n",
      "Epoch [1/1], Iter [13600/24750] Loss: 0.3132\n",
      "Epoch [1/1], Iter [13700/24750] Loss: 0.3097\n",
      "Epoch [1/1], Iter [13800/24750] Loss: 0.3533\n",
      "Epoch [1/1], Iter [13900/24750] Loss: 0.3083\n",
      "Epoch [1/1], Iter [14000/24750] Loss: 0.3363\n",
      "Epoch [1/1], Iter [14100/24750] Loss: 0.3387\n",
      "Epoch [1/1], Iter [14200/24750] Loss: 0.2999\n",
      "Epoch [1/1], Iter [14300/24750] Loss: 0.2306\n",
      "Epoch [1/1], Iter [14400/24750] Loss: 0.4054\n",
      "Epoch [1/1], Iter [14500/24750] Loss: 0.3952\n",
      "Epoch [1/1], Iter [14600/24750] Loss: 0.3382\n",
      "Epoch [1/1], Iter [14700/24750] Loss: 0.2934\n",
      "Epoch [1/1], Iter [14800/24750] Loss: 0.4279\n",
      "Epoch [1/1], Iter [14900/24750] Loss: 0.3203\n",
      "Epoch [1/1], Iter [15000/24750] Loss: 0.3188\n",
      "Epoch [1/1], Iter [15100/24750] Loss: 0.3496\n",
      "Epoch [1/1], Iter [15200/24750] Loss: 0.4436\n",
      "Epoch [1/1], Iter [15300/24750] Loss: 0.3291\n",
      "Epoch [1/1], Iter [15400/24750] Loss: 0.3236\n",
      "Epoch [1/1], Iter [15500/24750] Loss: 0.3711\n",
      "Epoch [1/1], Iter [15600/24750] Loss: 0.3367\n",
      "Epoch [1/1], Iter [15700/24750] Loss: 0.3981\n",
      "Epoch [1/1], Iter [15800/24750] Loss: 0.3820\n",
      "Epoch [1/1], Iter [15900/24750] Loss: 0.3437\n",
      "Epoch [1/1], Iter [16000/24750] Loss: 0.3261\n",
      "Epoch [1/1], Iter [16100/24750] Loss: 0.3765\n",
      "Epoch [1/1], Iter [16200/24750] Loss: 0.3001\n",
      "Epoch [1/1], Iter [16300/24750] Loss: 0.4094\n",
      "Epoch [1/1], Iter [16400/24750] Loss: 0.3664\n",
      "Epoch [1/1], Iter [16500/24750] Loss: 0.3304\n",
      "Epoch [1/1], Iter [16600/24750] Loss: 0.3617\n",
      "Epoch [1/1], Iter [16700/24750] Loss: 0.3180\n",
      "Epoch [1/1], Iter [16800/24750] Loss: 0.2741\n",
      "Epoch [1/1], Iter [16900/24750] Loss: 0.3028\n",
      "Epoch [1/1], Iter [17000/24750] Loss: 0.3293\n",
      "Epoch [1/1], Iter [17100/24750] Loss: 0.2919\n",
      "Epoch [1/1], Iter [17200/24750] Loss: 0.3705\n",
      "Epoch [1/1], Iter [17300/24750] Loss: 0.3179\n",
      "Epoch [1/1], Iter [17400/24750] Loss: 0.2615\n",
      "Epoch [1/1], Iter [17500/24750] Loss: 0.3743\n",
      "Epoch [1/1], Iter [17600/24750] Loss: 0.3878\n",
      "Epoch [1/1], Iter [17700/24750] Loss: 0.3097\n",
      "Epoch [1/1], Iter [17800/24750] Loss: 0.3773\n",
      "Epoch [1/1], Iter [17900/24750] Loss: 0.3671\n",
      "Epoch [1/1], Iter [18000/24750] Loss: 0.2714\n",
      "Epoch [1/1], Iter [18100/24750] Loss: 0.4124\n",
      "Epoch [1/1], Iter [18200/24750] Loss: 0.3636\n",
      "Epoch [1/1], Iter [18300/24750] Loss: 0.2754\n",
      "Epoch [1/1], Iter [18400/24750] Loss: 0.3532\n",
      "Epoch [1/1], Iter [18500/24750] Loss: 0.3836\n"
     ]
    },
    {
     "name": "stdout",
     "output_type": "stream",
     "text": [
      "Epoch [1/1], Iter [18600/24750] Loss: 0.4825\n",
      "Epoch [1/1], Iter [18700/24750] Loss: 0.3995\n",
      "Epoch [1/1], Iter [18800/24750] Loss: 0.3105\n",
      "Epoch [1/1], Iter [18900/24750] Loss: 0.3708\n",
      "Epoch [1/1], Iter [19000/24750] Loss: 0.4749\n",
      "Epoch [1/1], Iter [19100/24750] Loss: 0.3720\n",
      "Epoch [1/1], Iter [19200/24750] Loss: 0.4154\n",
      "Epoch [1/1], Iter [19300/24750] Loss: 0.2318\n",
      "Epoch [1/1], Iter [19400/24750] Loss: 0.3003\n",
      "Epoch [1/1], Iter [19500/24750] Loss: 0.2655\n",
      "Epoch [1/1], Iter [19600/24750] Loss: 0.3248\n",
      "Epoch [1/1], Iter [19700/24750] Loss: 0.3883\n",
      "Epoch [1/1], Iter [19800/24750] Loss: 0.2766\n",
      "Epoch [1/1], Iter [19900/24750] Loss: 0.4147\n",
      "Epoch [1/1], Iter [20000/24750] Loss: 0.3783\n",
      "Epoch [1/1], Iter [20100/24750] Loss: 0.3758\n",
      "Epoch [1/1], Iter [20200/24750] Loss: 0.2540\n",
      "Epoch [1/1], Iter [20300/24750] Loss: 0.3261\n",
      "Epoch [1/1], Iter [20400/24750] Loss: 0.3152\n",
      "Epoch [1/1], Iter [20500/24750] Loss: 0.2974\n",
      "Epoch [1/1], Iter [20600/24750] Loss: 0.3479\n",
      "Epoch [1/1], Iter [20700/24750] Loss: 0.4218\n",
      "Epoch [1/1], Iter [20800/24750] Loss: 0.3206\n",
      "Epoch [1/1], Iter [20900/24750] Loss: 0.2565\n",
      "Epoch [1/1], Iter [21000/24750] Loss: 0.2534\n",
      "Epoch [1/1], Iter [21100/24750] Loss: 0.3622\n",
      "Epoch [1/1], Iter [21200/24750] Loss: 0.4262\n",
      "Epoch [1/1], Iter [21300/24750] Loss: 0.2617\n",
      "Epoch [1/1], Iter [21400/24750] Loss: 0.3698\n",
      "Epoch [1/1], Iter [21500/24750] Loss: 0.2782\n",
      "Epoch [1/1], Iter [21600/24750] Loss: 0.2920\n",
      "Epoch [1/1], Iter [21700/24750] Loss: 0.4218\n",
      "Epoch [1/1], Iter [21800/24750] Loss: 0.4180\n",
      "Epoch [1/1], Iter [21900/24750] Loss: 0.2737\n",
      "Epoch [1/1], Iter [22000/24750] Loss: 0.3324\n",
      "Epoch [1/1], Iter [22100/24750] Loss: 0.3199\n",
      "Epoch [1/1], Iter [22200/24750] Loss: 0.3663\n",
      "Epoch [1/1], Iter [22300/24750] Loss: 0.3297\n",
      "Epoch [1/1], Iter [22400/24750] Loss: 0.3319\n",
      "Epoch [1/1], Iter [22500/24750] Loss: 0.3800\n",
      "Epoch [1/1], Iter [22600/24750] Loss: 0.2857\n",
      "Epoch [1/1], Iter [22700/24750] Loss: 0.3719\n",
      "Epoch [1/1], Iter [22800/24750] Loss: 0.2360\n",
      "Epoch [1/1], Iter [22900/24750] Loss: 0.3800\n",
      "Epoch [1/1], Iter [23000/24750] Loss: 0.2778\n",
      "Epoch [1/1], Iter [23100/24750] Loss: 0.2612\n",
      "Epoch [1/1], Iter [23200/24750] Loss: 0.3107\n",
      "Epoch [1/1], Iter [23300/24750] Loss: 0.2680\n",
      "Epoch [1/1], Iter [23400/24750] Loss: 0.3168\n",
      "Epoch [1/1], Iter [23500/24750] Loss: 0.3255\n",
      "Epoch [1/1], Iter [23600/24750] Loss: 0.2915\n",
      "Epoch [1/1], Iter [23700/24750] Loss: 0.3379\n",
      "Epoch [1/1], Iter [23800/24750] Loss: 0.3908\n",
      "Epoch [1/1], Iter [23900/24750] Loss: 0.2652\n",
      "Epoch [1/1], Iter [24000/24750] Loss: 0.3289\n",
      "Epoch [1/1], Iter [24100/24750] Loss: 0.2861\n",
      "Epoch [1/1], Iter [24200/24750] Loss: 0.2737\n",
      "Epoch [1/1], Iter [24300/24750] Loss: 0.2682\n",
      "Epoch [1/1], Iter [24400/24750] Loss: 0.2238\n",
      "Epoch [1/1], Iter [24500/24750] Loss: 0.3421\n",
      "Epoch [1/1], Iter [24600/24750] Loss: 0.3585\n",
      "Epoch [1/1], Iter [24700/24750] Loss: 0.3809\n",
      "Finished Training\n"
     ]
    }
   ],
   "source": [
    "for epoch in range(num_epochs):  # loop over the dataset multiple times \n",
    "    for i, batch_indices in enumerate(train_loader.batch_sampler):   # iterate over mini-batches  \n",
    "        # Converting tweets to vectors and storing it in a variable\n",
    "        sentences = get_tweets_tensor(train_loader.dataset.data_list, batch_indices, verbose=False)\n",
    "        x = Variable(sentences)\n",
    "        \n",
    "        # Converting labels to a variable\n",
    "        labels = torch.from_numpy(train_loader.dataset.target_list[batch_indices])\n",
    "        y = Variable(labels, requires_grad=False)\n",
    "        \n",
    "        # Forward + Backward + Optimize\n",
    "        optimizer.zero_grad() # reset gradient\n",
    "        outputs = cnn(x) # cnn output\n",
    "        loss = loss_func(outputs, y) # clear gradients for this training step\n",
    "        loss.backward() # backpropagation, compute gradients\n",
    "        optimizer.step() # apply gradients\n",
    "        \n",
    "        if (i+1) % 100 == 0:\n",
    "            print('Epoch [%d/%d], Iter [%d/%d] Loss: %.4f' \n",
    "                  %(epoch+1, num_epochs, i+1, len(train_dataset)//batch_size, loss.data[0]))\n",
    "\n",
    "print('Finished Training')"
   ]
  },
  {
   "cell_type": "code",
   "execution_count": 44,
   "metadata": {},
   "outputs": [
    {
     "name": "stderr",
     "output_type": "stream",
     "text": [
      "/usr/local/anaconda3/envs/ml/lib/python3.5/site-packages/ipykernel_launcher.py:12: DeprecationWarning: elementwise == comparison failed; this will raise an error in the future.\n",
      "  if sys.path[0] == '':\n"
     ]
    },
    {
     "name": "stdout",
     "output_type": "stream",
     "text": [
      "Accuracy: 0.8482%\n"
     ]
    },
    {
     "data": {
      "text/plain": [
       "0.84819999999999995"
      ]
     },
     "execution_count": 44,
     "metadata": {},
     "output_type": "execute_result"
    }
   ],
   "source": [
    "# Evaluate n predictions from test data\n",
    "n = 10000\n",
    "val_output_n = cnn(Variable(get_tweets_tensor(x_val, indices=np.arange(n), verbose=False)))\n",
    "y_val_pred_n = torch.max(val_output_n, 1)[1].data.numpy().squeeze()\n",
    "accuracy(y_val_pred_n, y_val[:n], verbose=True)"
   ]
  },
  {
   "cell_type": "markdown",
   "metadata": {},
   "source": [
    "## Step 5: Make predictions for test data and save"
   ]
  },
  {
   "cell_type": "code",
   "execution_count": 45,
   "metadata": {
    "collapsed": true
   },
   "outputs": [],
   "source": [
    "test_output = cnn(Variable(get_tweets_tensor(x_text_test_pad, verbose=False)))\n",
    "y_pred = torch.max(test_output, 1)[1].data.numpy().squeeze()"
   ]
  },
  {
   "cell_type": "code",
   "execution_count": 46,
   "metadata": {},
   "outputs": [
    {
     "data": {
      "text/plain": [
       "array([-1, -1, -1, ..., -1,  1, -1])"
      ]
     },
     "execution_count": 46,
     "metadata": {},
     "output_type": "execute_result"
    }
   ],
   "source": [
    "y_pred[y_pred == 0] = -1\n",
    "y_pred"
   ]
  },
  {
   "cell_type": "code",
   "execution_count": 47,
   "metadata": {},
   "outputs": [
    {
     "data": {
      "text/plain": [
       "array([    1,     2,     3, ...,  9998,  9999, 10000])"
      ]
     },
     "execution_count": 47,
     "metadata": {},
     "output_type": "execute_result"
    }
   ],
   "source": [
    "ids = np.arange(len(y_pred)+1)[1:]\n",
    "ids"
   ]
  },
  {
   "cell_type": "code",
   "execution_count": 48,
   "metadata": {
    "collapsed": true
   },
   "outputs": [],
   "source": [
    "create_csv_submission(ids, y_pred, 'kaggle_submission.csv')"
   ]
  },
  {
   "cell_type": "code",
   "execution_count": null,
   "metadata": {
    "collapsed": true
   },
   "outputs": [],
   "source": []
  }
 ],
 "metadata": {
  "kernelspec": {
   "display_name": "ml",
   "language": "python",
   "name": "ml"
  },
  "language_info": {
   "codemirror_mode": {
    "name": "ipython",
    "version": 3
   },
   "file_extension": ".py",
   "mimetype": "text/x-python",
   "name": "python",
   "nbconvert_exporter": "python",
   "pygments_lexer": "ipython3",
   "version": "3.5.4"
  }
 },
 "nbformat": 4,
 "nbformat_minor": 2
}
