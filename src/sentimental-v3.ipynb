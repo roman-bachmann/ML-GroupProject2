{
 "cells": [
  {
   "cell_type": "markdown",
   "metadata": {},
   "source": [
    "This notebook was runned considering preprocessing of removing stopwords and punctuation"
   ]
  },
  {
   "cell_type": "code",
   "execution_count": 1,
   "metadata": {
    "collapsed": true
   },
   "outputs": [],
   "source": [
    "import os \n",
    "import pandas as pd\n",
    "import numpy as np\n",
    "\n",
    "from sklearn.model_selection import train_test_split\n",
    "\n",
    "import gensim\n",
    "\n",
    "import torch\n",
    "import torch.nn as nn\n",
    "import torch.nn.functional as F\n",
    "from torch.autograd import Variable\n",
    "from torch.utils.data import Dataset, TensorDataset, DataLoader\n",
    "\n",
    "# from torchtext import data\n",
    "\n",
    "from helpers import *\n",
    "from data import create_csv_submission"
   ]
  },
  {
   "cell_type": "code",
   "execution_count": 2,
   "metadata": {
    "collapsed": true
   },
   "outputs": [],
   "source": [
    "DATA_PATH = '../twitter-datasets/'\n",
    "MODEL_PATH = '../models/'\n",
    "\n",
    "# TRAIN_NEG_PATH = os.path.join(DATA_PATH, 'train_neg.txt') # 100'000 negative tweets\n",
    "# TRAIN_POS_PATH = os.path.join(DATA_PATH, 'train_pos.txt') # 100'000 positive tweets\n",
    "TRAIN_NEG_PATH = os.path.join(DATA_PATH, 'train_neg_full.txt') # 2'500'000 negative tweets\n",
    "TRAIN_POS_PATH = os.path.join(DATA_PATH, 'train_pos_full.txt') # 2'500'000 positive tweets\n",
    "TEST_PATH = os.path.join(DATA_PATH, 'test_data.txt')"
   ]
  },
  {
   "cell_type": "code",
   "execution_count": 3,
   "metadata": {},
   "outputs": [],
   "source": [
    "x_text_train, y_train_full = load_data_and_labels(TRAIN_POS_PATH, TRAIN_NEG_PATH)\n",
    "x_text_test = load_test_data(TEST_PATH)"
   ]
  },
  {
   "cell_type": "code",
   "execution_count": 4,
   "metadata": {},
   "outputs": [
    {
     "data": {
      "text/plain": [
       "['dunno',\n",
       " 'justin',\n",
       " 'read',\n",
       " 'mention',\n",
       " 'justin',\n",
       " 'god',\n",
       " 'knows',\n",
       " 'hope',\n",
       " 'follow',\n",
       " 'believe',\n",
       " '15']"
      ]
     },
     "execution_count": 4,
     "metadata": {},
     "output_type": "execute_result"
    }
   ],
   "source": [
    "x_text_train[0]"
   ]
  },
  {
   "cell_type": "code",
   "execution_count": 8,
   "metadata": {
    "collapsed": true
   },
   "outputs": [],
   "source": [
    "vector_length = 100\n",
    "w2v_model = gensim.models.Word2Vec(x_text_train + x_text_test, \n",
    "                                   min_count=1,\n",
    "                                   workers=4, \n",
    "                                   size=vector_length)"
   ]
  },
  {
   "cell_type": "code",
   "execution_count": 9,
   "metadata": {},
   "outputs": [
    {
     "name": "stdout",
     "output_type": "stream",
     "text": [
      "Word2Vec(vocab=500099, size=100, alpha=0.025)\n"
     ]
    }
   ],
   "source": [
    "print(w2v_model)"
   ]
  },
  {
   "cell_type": "code",
   "execution_count": 10,
   "metadata": {},
   "outputs": [],
   "source": [
    "w2v_model.save(MODEL_PATH + 'twitter_w2v_v2.bin')"
   ]
  },
  {
   "cell_type": "code",
   "execution_count": 11,
   "metadata": {
    "collapsed": true
   },
   "outputs": [],
   "source": [
    "# w2v_model = gensim.models.Word2Vec.load(MODEL_PATH + 'twitter_w2v_v2.bin')"
   ]
  },
  {
   "cell_type": "code",
   "execution_count": 12,
   "metadata": {},
   "outputs": [],
   "source": [
    "# When training finished delete the training model but retain the word vectors:\n",
    "word_vectors = w2v_model.wv\n",
    "del w2v_model"
   ]
  },
  {
   "cell_type": "code",
   "execution_count": 13,
   "metadata": {},
   "outputs": [
    {
     "data": {
      "text/plain": [
       "[('broadbands', 0.6405003666877747),\n",
       " ('internet', 0.6335633993148804),\n",
       " ('desktop', 0.63129061460495),\n",
       " ('browser', 0.6245452165603638),\n",
       " ('throwsselfonfloorandrolls', 0.6125892400741577),\n",
       " ('calculator', 0.6120999455451965),\n",
       " ('files', 0.6095855832099915),\n",
       " ('phones', 0.6083403825759888),\n",
       " ('devices', 0.5971071720123291),\n",
       " ('file', 0.5912819504737854)]"
      ]
     },
     "execution_count": 13,
     "metadata": {},
     "output_type": "execute_result"
    }
   ],
   "source": [
    "word_vectors.most_similar('computer')"
   ]
  },
  {
   "cell_type": "code",
   "execution_count": 14,
   "metadata": {},
   "outputs": [
    {
     "name": "stdout",
     "output_type": "stream",
     "text": [
      "Maximum sequence length of train and test data: 63\n"
     ]
    }
   ],
   "source": [
    "sequence_length_train = max(len(x) for x in x_text_train)\n",
    "sequence_length_test = max(len(x) for x in x_text_test)\n",
    "sequence_length = max(sequence_length_train, sequence_length_test)\n",
    "print('Maximum sequence length of train and test data:', sequence_length)\n",
    "\n",
    "x_text_train_pad = pad_sentences(x_text_train, padding_word=\"<PAD/>\", sequence_length=sequence_length)\n",
    "x_text_test_pad = pad_sentences(x_text_test, padding_word=\"<PAD/>\", sequence_length=sequence_length)\n",
    "\n",
    "del x_text_train\n",
    "del x_text_test"
   ]
  },
  {
   "cell_type": "code",
   "execution_count": 24,
   "metadata": {
    "collapsed": true
   },
   "outputs": [],
   "source": [
    "class ListDataset(Dataset):\n",
    "    \"\"\"Dataset wrapping data and target lists.\n",
    "\n",
    "    Each sample will be retrieved by indexing both lists along the first\n",
    "    dimension.\n",
    "\n",
    "    Arguments:\n",
    "        data_list (python list): contains sample data.\n",
    "        target_list (python list): contains sample targets (labels).\n",
    "    \"\"\"\n",
    "\n",
    "    def __init__(self, data_list, target_list):\n",
    "        assert len(data_list) == len(target_list)\n",
    "        self.data_list = data_list\n",
    "        self.target_list = target_list\n",
    "\n",
    "    def __getitem__(self, index):\n",
    "        return self.data_list[index], self.target_list[index]\n",
    "\n",
    "    def __len__(self):\n",
    "        return len(self.data_list)"
   ]
  },
  {
   "cell_type": "code",
   "execution_count": 33,
   "metadata": {
    "collapsed": true
   },
   "outputs": [],
   "source": [
    "x_train, x_val, y_train, y_val = train_test_split(x_text_train_pad, \n",
    "                                                  y_train_full, \n",
    "                                                  test_size=0.1, \n",
    "                                                  random_state=42)"
   ]
  },
  {
   "cell_type": "code",
   "execution_count": 34,
   "metadata": {},
   "outputs": [],
   "source": [
    "train_dataset = ListDataset(x_train, y_train)\n",
    "batch_size = 100\n",
    "train_loader = torch.utils.data.DataLoader(dataset=train_dataset,\n",
    "                                           batch_size=batch_size, \n",
    "                                           shuffle=True)"
   ]
  },
  {
   "cell_type": "code",
   "execution_count": 35,
   "metadata": {},
   "outputs": [],
   "source": [
    "# Network hyperparameters\n",
    "N = len(train_loader.dataset.data_list)      # Number of tweets (eg 200000)\n",
    "S = len(train_loader.dataset.data_list[0])   # Number of words in one sentence (eg 50)\n",
    "V = vector_length                            # Length of word vectors (eg 100)\n",
    "K = 3                                        # Kernel width (K*V)\n",
    "C = 128                                      # Number of convolutional filters\n",
    "F = 2                                        # Number of output neurons in fully connected layer\n",
    "\n",
    "class CNN(nn.Module):\n",
    "    def __init__(self):\n",
    "        super(CNN, self).__init__()\n",
    "        self.conv1 = nn.Conv2d(             # input shape (1, S, V)\n",
    "                in_channels=1,              # input channels\n",
    "                out_channels=C,             # number of filters\n",
    "                kernel_size=(K,V),          # filter size\n",
    "                padding=(1,0)               # to keep size S\n",
    "        )                                   # output shape (C, S, 1)\n",
    "        self.relu = nn.ReLU()               # ReLU activation\n",
    "        self.max_pool1 = nn.MaxPool1d(2)    # max-pool each filter into S/2 output   \n",
    "        self.conv2 = nn.Conv1d(             # input shape (C, S/2)\n",
    "                in_channels=C,              # input channels\n",
    "                out_channels=C,             # number of filters (one for each input channel)\n",
    "                kernel_size=K,              # filter size\n",
    "                padding=1                   # to keep size S/2\n",
    "        )                                   # output shape (C, S/2)\n",
    "        self.max_pool2 = nn.MaxPool1d(int(S/2)) # max pool each filter into 1 output\n",
    "        self.out = nn.Linear(C, F)          # fully connected layer, output F classes\n",
    "\n",
    "    def forward(self, x):\n",
    "        #print(x.data.shape) #torch.Size([100, 74, 100])\n",
    "        \n",
    "        out = x.unsqueeze(1)\n",
    "        #print(out.data.shape) #torch.Size([100, 1, 74, 100])\n",
    "        \n",
    "        out = self.conv1(out)\n",
    "        #print(out.data.shape) #torch.Size([100, 128, 74, 1])\n",
    "        \n",
    "        out = self.relu(out).squeeze(3)\n",
    "        #print(out.data.shape) #torch.Size([100, 128, 74])\n",
    "        \n",
    "        out = self.max_pool1(out)\n",
    "        #print(out.data.shape) #torch.Size([100, 128, 37])\n",
    "        \n",
    "        out = self.conv2(out)\n",
    "        #print(out.data.shape) #torch.Size([100, 128, 37])\n",
    "        \n",
    "        out = self.relu(out)\n",
    "        #print(out.data.shape) #torch.Size([100, 128, 37])\n",
    "        \n",
    "        out = self.max_pool2(out).squeeze(2).float()\n",
    "        #print(out.data.shape) #torch.Size([100, 128])\n",
    "        \n",
    "        out = self.out(out)\n",
    "        #print(out.data.shape) #torch.Size([100, 2])\n",
    "        \n",
    "        return out"
   ]
  },
  {
   "cell_type": "code",
   "execution_count": 36,
   "metadata": {},
   "outputs": [
    {
     "name": "stdout",
     "output_type": "stream",
     "text": [
      "CNN (\n",
      "  (conv1): Conv2d(1, 128, kernel_size=(3, 100), stride=(1, 1), padding=(1, 0))\n",
      "  (relu): ReLU ()\n",
      "  (max_pool1): MaxPool1d (size=2, stride=2, padding=0, dilation=1, ceil_mode=False)\n",
      "  (conv2): Conv1d(128, 128, kernel_size=(3,), stride=(1,), padding=(1,))\n",
      "  (max_pool2): MaxPool1d (size=31, stride=31, padding=0, dilation=1, ceil_mode=False)\n",
      "  (out): Linear (128 -> 2)\n",
      ")\n"
     ]
    }
   ],
   "source": [
    "cnn = CNN()\n",
    "print(cnn) "
   ]
  },
  {
   "cell_type": "code",
   "execution_count": 37,
   "metadata": {},
   "outputs": [],
   "source": [
    "num_epochs = 1\n",
    "batch_size = 100\n",
    "learning_rate = 0.01\n",
    "\n",
    "optimizer = torch.optim.Adam(cnn.parameters(), lr=learning_rate)   # optimize all cnn parameters\n",
    "loss_func = nn.CrossEntropyLoss()                                  # the target label is not one-hotted"
   ]
  },
  {
   "cell_type": "code",
   "execution_count": 38,
   "metadata": {
    "collapsed": true
   },
   "outputs": [],
   "source": [
    "# TODO: SLOW!\n",
    "\n",
    "def get_tweets_tensor(tweets, indices=[], verbose=False):\n",
    "    '''Mapping every word to a vector from word2vec\n",
    "    Padding words are mapped to zero\n",
    "    Leave indices empty to map every tweet in tweets\n",
    "    '''\n",
    "\n",
    "    nb_tweets = len(tweets) if len(indices)==0 else len(indices)\n",
    "    tweets_vec = np.zeros((nb_tweets, len(tweets[0]), vector_length), dtype=np.float32)\n",
    "    \n",
    "    if indices == []:\n",
    "        for idx_t, tweet in enumerate(tweets):\n",
    "            for idx_w, word in enumerate(tweet):\n",
    "                if word != '<PAD/>':\n",
    "                    tweets_vec[idx_t, idx_w] = word_vectors.wv[word]  \n",
    "            if verbose and idx_t % 100000 == 0:\n",
    "                print('Transformed {}/{} tweets'.format(idx_t+1, (len(x_text_train_pad))))\n",
    "    else:\n",
    "        for idx_t, orig_idx in enumerate(indices):\n",
    "            for idx_w, word in enumerate(tweets[orig_idx]):\n",
    "                if word != '<PAD/>':\n",
    "                    tweets_vec[idx_t, idx_w] = word_vectors.wv[word]  \n",
    "            if verbose and idx_t % 100000 == 0:\n",
    "                print('Transformed {}/{} tweets'.format(idx_t+1, (len(x_text_train_pad))))\n",
    "    \n",
    "    return torch.from_numpy(tweets_vec)"
   ]
  },
  {
   "cell_type": "code",
   "execution_count": 39,
   "metadata": {},
   "outputs": [
    {
     "name": "stdout",
     "output_type": "stream",
     "text": [
      "Epoch [1/1], Iter [100/22500] Loss: 0.4954\n",
      "Epoch [1/1], Iter [200/22500] Loss: 0.4874\n",
      "Epoch [1/1], Iter [300/22500] Loss: 0.5659\n",
      "Epoch [1/1], Iter [400/22500] Loss: 0.3912\n",
      "Epoch [1/1], Iter [500/22500] Loss: 0.5003\n",
      "Epoch [1/1], Iter [600/22500] Loss: 0.4838\n",
      "Epoch [1/1], Iter [700/22500] Loss: 0.5037\n",
      "Epoch [1/1], Iter [800/22500] Loss: 0.4836\n",
      "Epoch [1/1], Iter [900/22500] Loss: 0.3814\n",
      "Epoch [1/1], Iter [1000/22500] Loss: 0.5151\n",
      "Epoch [1/1], Iter [1100/22500] Loss: 0.3745\n",
      "Epoch [1/1], Iter [1200/22500] Loss: 0.5309\n",
      "Epoch [1/1], Iter [1300/22500] Loss: 0.4491\n",
      "Epoch [1/1], Iter [1400/22500] Loss: 0.4367\n",
      "Epoch [1/1], Iter [1500/22500] Loss: 0.4883\n",
      "Epoch [1/1], Iter [1600/22500] Loss: 0.4202\n",
      "Epoch [1/1], Iter [1700/22500] Loss: 0.4496\n",
      "Epoch [1/1], Iter [1800/22500] Loss: 0.5327\n",
      "Epoch [1/1], Iter [1900/22500] Loss: 0.4431\n",
      "Epoch [1/1], Iter [2000/22500] Loss: 0.4592\n",
      "Epoch [1/1], Iter [2100/22500] Loss: 0.4829\n",
      "Epoch [1/1], Iter [2200/22500] Loss: 0.5365\n",
      "Epoch [1/1], Iter [2300/22500] Loss: 0.4637\n",
      "Epoch [1/1], Iter [2400/22500] Loss: 0.4272\n",
      "Epoch [1/1], Iter [2500/22500] Loss: 0.4740\n",
      "Epoch [1/1], Iter [2600/22500] Loss: 0.4165\n",
      "Epoch [1/1], Iter [2700/22500] Loss: 0.4371\n",
      "Epoch [1/1], Iter [2800/22500] Loss: 0.3609\n",
      "Epoch [1/1], Iter [2900/22500] Loss: 0.4401\n",
      "Epoch [1/1], Iter [3000/22500] Loss: 0.4864\n",
      "Epoch [1/1], Iter [3100/22500] Loss: 0.4147\n",
      "Epoch [1/1], Iter [3200/22500] Loss: 0.4922\n",
      "Epoch [1/1], Iter [3300/22500] Loss: 0.5249\n",
      "Epoch [1/1], Iter [3400/22500] Loss: 0.4650\n",
      "Epoch [1/1], Iter [3500/22500] Loss: 0.4936\n",
      "Epoch [1/1], Iter [3600/22500] Loss: 0.3887\n",
      "Epoch [1/1], Iter [3700/22500] Loss: 0.4396\n",
      "Epoch [1/1], Iter [3800/22500] Loss: 0.4370\n",
      "Epoch [1/1], Iter [3900/22500] Loss: 0.4575\n",
      "Epoch [1/1], Iter [4000/22500] Loss: 0.4316\n",
      "Epoch [1/1], Iter [4100/22500] Loss: 0.4363\n",
      "Epoch [1/1], Iter [4200/22500] Loss: 0.4605\n",
      "Epoch [1/1], Iter [4300/22500] Loss: 0.4104\n",
      "Epoch [1/1], Iter [4400/22500] Loss: 0.3412\n",
      "Epoch [1/1], Iter [4500/22500] Loss: 0.5363\n",
      "Epoch [1/1], Iter [4600/22500] Loss: 0.5179\n",
      "Epoch [1/1], Iter [4700/22500] Loss: 0.5119\n",
      "Epoch [1/1], Iter [4800/22500] Loss: 0.5753\n",
      "Epoch [1/1], Iter [4900/22500] Loss: 0.5593\n",
      "Epoch [1/1], Iter [5000/22500] Loss: 0.5503\n",
      "Epoch [1/1], Iter [5100/22500] Loss: 0.4833\n",
      "Epoch [1/1], Iter [5200/22500] Loss: 0.4841\n",
      "Epoch [1/1], Iter [5300/22500] Loss: 0.4549\n",
      "Epoch [1/1], Iter [5400/22500] Loss: 0.4230\n",
      "Epoch [1/1], Iter [5500/22500] Loss: 0.4010\n",
      "Epoch [1/1], Iter [5600/22500] Loss: 0.4749\n",
      "Epoch [1/1], Iter [5700/22500] Loss: 0.4599\n",
      "Epoch [1/1], Iter [5800/22500] Loss: 0.4143\n",
      "Epoch [1/1], Iter [5900/22500] Loss: 0.4581\n",
      "Epoch [1/1], Iter [6000/22500] Loss: 0.4856\n",
      "Epoch [1/1], Iter [6100/22500] Loss: 0.4294\n",
      "Epoch [1/1], Iter [6200/22500] Loss: 0.5166\n",
      "Epoch [1/1], Iter [6300/22500] Loss: 0.3915\n",
      "Epoch [1/1], Iter [6400/22500] Loss: 0.4451\n",
      "Epoch [1/1], Iter [6500/22500] Loss: 0.3972\n",
      "Epoch [1/1], Iter [6600/22500] Loss: 0.4090\n",
      "Epoch [1/1], Iter [6700/22500] Loss: 0.4011\n",
      "Epoch [1/1], Iter [6800/22500] Loss: 0.4699\n",
      "Epoch [1/1], Iter [6900/22500] Loss: 0.5344\n",
      "Epoch [1/1], Iter [7000/22500] Loss: 0.4328\n",
      "Epoch [1/1], Iter [7100/22500] Loss: 0.4085\n",
      "Epoch [1/1], Iter [7200/22500] Loss: 0.4047\n",
      "Epoch [1/1], Iter [7300/22500] Loss: 0.3742\n",
      "Epoch [1/1], Iter [7400/22500] Loss: 0.5385\n",
      "Epoch [1/1], Iter [7500/22500] Loss: 0.4301\n",
      "Epoch [1/1], Iter [7600/22500] Loss: 0.4356\n",
      "Epoch [1/1], Iter [7700/22500] Loss: 0.4877\n",
      "Epoch [1/1], Iter [7800/22500] Loss: 0.4456\n",
      "Epoch [1/1], Iter [7900/22500] Loss: 0.4175\n",
      "Epoch [1/1], Iter [8000/22500] Loss: 0.4000\n",
      "Epoch [1/1], Iter [8100/22500] Loss: 0.4133\n",
      "Epoch [1/1], Iter [8200/22500] Loss: 0.4009\n",
      "Epoch [1/1], Iter [8300/22500] Loss: 0.4603\n",
      "Epoch [1/1], Iter [8400/22500] Loss: 0.4765\n",
      "Epoch [1/1], Iter [8500/22500] Loss: 0.4521\n",
      "Epoch [1/1], Iter [8600/22500] Loss: 0.4610\n",
      "Epoch [1/1], Iter [8700/22500] Loss: 0.4652\n",
      "Epoch [1/1], Iter [8800/22500] Loss: 0.3951\n",
      "Epoch [1/1], Iter [8900/22500] Loss: 0.4160\n",
      "Epoch [1/1], Iter [9000/22500] Loss: 0.4407\n",
      "Epoch [1/1], Iter [9100/22500] Loss: 0.5549\n",
      "Epoch [1/1], Iter [9200/22500] Loss: 0.4092\n",
      "Epoch [1/1], Iter [9300/22500] Loss: 0.3975\n",
      "Epoch [1/1], Iter [9400/22500] Loss: 0.5560\n",
      "Epoch [1/1], Iter [9500/22500] Loss: 0.6308\n",
      "Epoch [1/1], Iter [9600/22500] Loss: 0.4454\n",
      "Epoch [1/1], Iter [9700/22500] Loss: 0.4612\n",
      "Epoch [1/1], Iter [9800/22500] Loss: 0.4478\n",
      "Epoch [1/1], Iter [9900/22500] Loss: 0.4653\n",
      "Epoch [1/1], Iter [10000/22500] Loss: 0.3735\n",
      "Epoch [1/1], Iter [10100/22500] Loss: 0.4017\n",
      "Epoch [1/1], Iter [10200/22500] Loss: 0.4746\n",
      "Epoch [1/1], Iter [10300/22500] Loss: 0.3990\n",
      "Epoch [1/1], Iter [10400/22500] Loss: 0.3852\n",
      "Epoch [1/1], Iter [10500/22500] Loss: 0.4504\n",
      "Epoch [1/1], Iter [10600/22500] Loss: 0.3580\n",
      "Epoch [1/1], Iter [10700/22500] Loss: 0.4896\n",
      "Epoch [1/1], Iter [10800/22500] Loss: 0.5139\n",
      "Epoch [1/1], Iter [10900/22500] Loss: 0.4215\n",
      "Epoch [1/1], Iter [11000/22500] Loss: 0.3800\n",
      "Epoch [1/1], Iter [11100/22500] Loss: 0.3642\n",
      "Epoch [1/1], Iter [11200/22500] Loss: 0.4607\n",
      "Epoch [1/1], Iter [11300/22500] Loss: 0.4326\n",
      "Epoch [1/1], Iter [11400/22500] Loss: 0.4661\n",
      "Epoch [1/1], Iter [11500/22500] Loss: 0.4717\n",
      "Epoch [1/1], Iter [11600/22500] Loss: 0.3623\n",
      "Epoch [1/1], Iter [11700/22500] Loss: 0.4066\n",
      "Epoch [1/1], Iter [11800/22500] Loss: 0.4955\n",
      "Epoch [1/1], Iter [11900/22500] Loss: 0.3248\n",
      "Epoch [1/1], Iter [12000/22500] Loss: 0.4965\n",
      "Epoch [1/1], Iter [12100/22500] Loss: 0.5336\n",
      "Epoch [1/1], Iter [12200/22500] Loss: 0.4508\n",
      "Epoch [1/1], Iter [12300/22500] Loss: 0.4635\n",
      "Epoch [1/1], Iter [12400/22500] Loss: 0.5128\n",
      "Epoch [1/1], Iter [12500/22500] Loss: 0.4082\n",
      "Epoch [1/1], Iter [12600/22500] Loss: 0.3782\n",
      "Epoch [1/1], Iter [12700/22500] Loss: 0.4517\n",
      "Epoch [1/1], Iter [12800/22500] Loss: 0.3731\n",
      "Epoch [1/1], Iter [12900/22500] Loss: 0.4213\n",
      "Epoch [1/1], Iter [13000/22500] Loss: 0.5704\n",
      "Epoch [1/1], Iter [13100/22500] Loss: 0.4010\n",
      "Epoch [1/1], Iter [13200/22500] Loss: 0.4785\n",
      "Epoch [1/1], Iter [13300/22500] Loss: 0.3906\n",
      "Epoch [1/1], Iter [13400/22500] Loss: 0.4539\n",
      "Epoch [1/1], Iter [13500/22500] Loss: 0.4542\n",
      "Epoch [1/1], Iter [13600/22500] Loss: 0.3887\n",
      "Epoch [1/1], Iter [13700/22500] Loss: 0.4029\n",
      "Epoch [1/1], Iter [13800/22500] Loss: 0.4332\n",
      "Epoch [1/1], Iter [13900/22500] Loss: 0.4193\n",
      "Epoch [1/1], Iter [14000/22500] Loss: 0.4082\n",
      "Epoch [1/1], Iter [14100/22500] Loss: 0.4247\n",
      "Epoch [1/1], Iter [14200/22500] Loss: 0.3623\n",
      "Epoch [1/1], Iter [14300/22500] Loss: 0.4189\n",
      "Epoch [1/1], Iter [14400/22500] Loss: 0.4402\n",
      "Epoch [1/1], Iter [14500/22500] Loss: 0.4377\n",
      "Epoch [1/1], Iter [14600/22500] Loss: 0.4018\n",
      "Epoch [1/1], Iter [14700/22500] Loss: 0.4912\n",
      "Epoch [1/1], Iter [14800/22500] Loss: 0.3251\n",
      "Epoch [1/1], Iter [14900/22500] Loss: 0.3726\n",
      "Epoch [1/1], Iter [15000/22500] Loss: 0.4393\n",
      "Epoch [1/1], Iter [15100/22500] Loss: 0.4966\n",
      "Epoch [1/1], Iter [15200/22500] Loss: 0.5467\n",
      "Epoch [1/1], Iter [15300/22500] Loss: 0.4306\n",
      "Epoch [1/1], Iter [15400/22500] Loss: 0.4402\n",
      "Epoch [1/1], Iter [15500/22500] Loss: 0.4256\n",
      "Epoch [1/1], Iter [15600/22500] Loss: 0.4793\n",
      "Epoch [1/1], Iter [15700/22500] Loss: 0.3862\n",
      "Epoch [1/1], Iter [15800/22500] Loss: 0.5800\n",
      "Epoch [1/1], Iter [15900/22500] Loss: 0.4484\n",
      "Epoch [1/1], Iter [16000/22500] Loss: 0.4158\n",
      "Epoch [1/1], Iter [16100/22500] Loss: 0.4245\n",
      "Epoch [1/1], Iter [16200/22500] Loss: 0.4058\n",
      "Epoch [1/1], Iter [16300/22500] Loss: 0.5207\n",
      "Epoch [1/1], Iter [16400/22500] Loss: 0.4663\n",
      "Epoch [1/1], Iter [16500/22500] Loss: 0.3754\n",
      "Epoch [1/1], Iter [16600/22500] Loss: 0.4332\n",
      "Epoch [1/1], Iter [16700/22500] Loss: 0.3983\n",
      "Epoch [1/1], Iter [16800/22500] Loss: 0.4389\n",
      "Epoch [1/1], Iter [16900/22500] Loss: 0.3738\n",
      "Epoch [1/1], Iter [17000/22500] Loss: 0.3823\n",
      "Epoch [1/1], Iter [17100/22500] Loss: 0.3788\n",
      "Epoch [1/1], Iter [17200/22500] Loss: 0.4114\n",
      "Epoch [1/1], Iter [17300/22500] Loss: 0.4416\n",
      "Epoch [1/1], Iter [17400/22500] Loss: 0.4191\n",
      "Epoch [1/1], Iter [17500/22500] Loss: 0.4320\n",
      "Epoch [1/1], Iter [17600/22500] Loss: 0.5024\n",
      "Epoch [1/1], Iter [17700/22500] Loss: 0.4234\n",
      "Epoch [1/1], Iter [17800/22500] Loss: 0.4469\n",
      "Epoch [1/1], Iter [17900/22500] Loss: 0.4463\n",
      "Epoch [1/1], Iter [18000/22500] Loss: 0.3836\n",
      "Epoch [1/1], Iter [18100/22500] Loss: 0.3761\n",
      "Epoch [1/1], Iter [18200/22500] Loss: 0.4542\n",
      "Epoch [1/1], Iter [18300/22500] Loss: 0.4763\n",
      "Epoch [1/1], Iter [18400/22500] Loss: 0.4833\n",
      "Epoch [1/1], Iter [18500/22500] Loss: 0.5082\n"
     ]
    },
    {
     "name": "stdout",
     "output_type": "stream",
     "text": [
      "Epoch [1/1], Iter [18600/22500] Loss: 0.3448\n",
      "Epoch [1/1], Iter [18700/22500] Loss: 0.4586\n",
      "Epoch [1/1], Iter [18800/22500] Loss: 0.4497\n",
      "Epoch [1/1], Iter [18900/22500] Loss: 0.5309\n",
      "Epoch [1/1], Iter [19000/22500] Loss: 0.4413\n",
      "Epoch [1/1], Iter [19100/22500] Loss: 0.4569\n",
      "Epoch [1/1], Iter [19200/22500] Loss: 0.4711\n",
      "Epoch [1/1], Iter [19300/22500] Loss: 0.4420\n",
      "Epoch [1/1], Iter [19400/22500] Loss: 0.3791\n",
      "Epoch [1/1], Iter [19500/22500] Loss: 0.4342\n",
      "Epoch [1/1], Iter [19600/22500] Loss: 0.4317\n",
      "Epoch [1/1], Iter [19700/22500] Loss: 0.4640\n",
      "Epoch [1/1], Iter [19800/22500] Loss: 0.4356\n",
      "Epoch [1/1], Iter [19900/22500] Loss: 0.5528\n",
      "Epoch [1/1], Iter [20000/22500] Loss: 0.4384\n",
      "Epoch [1/1], Iter [20100/22500] Loss: 0.4104\n",
      "Epoch [1/1], Iter [20200/22500] Loss: 0.4040\n",
      "Epoch [1/1], Iter [20300/22500] Loss: 0.3955\n",
      "Epoch [1/1], Iter [20400/22500] Loss: 0.3998\n",
      "Epoch [1/1], Iter [20500/22500] Loss: 0.3769\n",
      "Epoch [1/1], Iter [20600/22500] Loss: 0.4456\n",
      "Epoch [1/1], Iter [20700/22500] Loss: 0.4728\n",
      "Epoch [1/1], Iter [20800/22500] Loss: 0.4854\n",
      "Epoch [1/1], Iter [20900/22500] Loss: 0.3470\n",
      "Epoch [1/1], Iter [21000/22500] Loss: 0.4392\n",
      "Epoch [1/1], Iter [21100/22500] Loss: 0.4035\n",
      "Epoch [1/1], Iter [21200/22500] Loss: 0.4159\n",
      "Epoch [1/1], Iter [21300/22500] Loss: 0.4683\n",
      "Epoch [1/1], Iter [21400/22500] Loss: 0.4455\n",
      "Epoch [1/1], Iter [21500/22500] Loss: 0.4002\n",
      "Epoch [1/1], Iter [21600/22500] Loss: 0.4960\n",
      "Epoch [1/1], Iter [21700/22500] Loss: 0.3681\n",
      "Epoch [1/1], Iter [21800/22500] Loss: 0.5552\n",
      "Epoch [1/1], Iter [21900/22500] Loss: 0.5223\n",
      "Epoch [1/1], Iter [22000/22500] Loss: 0.4252\n",
      "Epoch [1/1], Iter [22100/22500] Loss: 0.4349\n",
      "Epoch [1/1], Iter [22200/22500] Loss: 0.4127\n",
      "Epoch [1/1], Iter [22300/22500] Loss: 0.3783\n",
      "Epoch [1/1], Iter [22400/22500] Loss: 0.3646\n",
      "Epoch [1/1], Iter [22500/22500] Loss: 0.4135\n",
      "Finished Training\n"
     ]
    }
   ],
   "source": [
    "for epoch in range(num_epochs):  # loop over the dataset multiple times \n",
    "    for i, batch_indices in enumerate(train_loader.batch_sampler):   # iterate over mini-batches  \n",
    "        # Converting tweets to vectors and storing it in a variable\n",
    "        sentences = get_tweets_tensor(train_loader.dataset.data_list, batch_indices, verbose=False)\n",
    "        x = Variable(sentences)\n",
    "        \n",
    "        # Converting labels to a variable\n",
    "        labels = torch.from_numpy(train_loader.dataset.target_list[batch_indices])\n",
    "        y = Variable(labels, requires_grad=False)\n",
    "        \n",
    "        # Forward + Backward + Optimize\n",
    "        optimizer.zero_grad() # reset gradient\n",
    "        outputs = cnn(x) # cnn output\n",
    "        loss = loss_func(outputs, y) # clear gradients for this training step\n",
    "        loss.backward() # backpropagation, compute gradients\n",
    "        optimizer.step() # apply gradients\n",
    "        \n",
    "        if (i+1) % 100 == 0:\n",
    "            print('Epoch [%d/%d], Iter [%d/%d] Loss: %.4f' \n",
    "                  %(epoch+1, num_epochs, i+1, len(train_dataset)//batch_size, loss.data[0]))\n",
    "\n",
    "print('Finished Training')"
   ]
  },
  {
   "cell_type": "code",
   "execution_count": 41,
   "metadata": {},
   "outputs": [
    {
     "name": "stderr",
     "output_type": "stream",
     "text": [
      "/Applications/anaconda3/lib/python3.6/site-packages/ipykernel_launcher.py:12: DeprecationWarning: elementwise == comparison failed; this will raise an error in the future.\n",
      "  if sys.path[0] == '':\n"
     ]
    },
    {
     "name": "stdout",
     "output_type": "stream",
     "text": [
      "Accuracy: 0.7789%\n"
     ]
    },
    {
     "data": {
      "text/plain": [
       "0.77890000000000004"
      ]
     },
     "execution_count": 41,
     "metadata": {},
     "output_type": "execute_result"
    }
   ],
   "source": [
    "# Evaluate n predictions from test data\n",
    "n = 10000\n",
    "val_output_n = cnn(Variable(get_tweets_tensor(x_val, indices=np.arange(n), verbose=False)))\n",
    "y_val_pred_n = torch.max(val_output_n, 1)[1].data.numpy().squeeze()\n",
    "accuracy(y_val_pred_n, y_val[:n], verbose=True)"
   ]
  },
  {
   "cell_type": "code",
   "execution_count": null,
   "metadata": {
    "collapsed": true
   },
   "outputs": [],
   "source": [
    "test_output = cnn(Variable(get_tweets_tensor(x_text_test_pad, verbose=False)))\n",
    "y_pred = torch.max(test_output, 1)[1].data.numpy().squeeze()"
   ]
  },
  {
   "cell_type": "code",
   "execution_count": null,
   "metadata": {
    "collapsed": true
   },
   "outputs": [],
   "source": [
    "y_pred[y_pred == 0] = -1\n",
    "y_pred"
   ]
  },
  {
   "cell_type": "code",
   "execution_count": null,
   "metadata": {
    "collapsed": true
   },
   "outputs": [],
   "source": [
    "ids = np.arange(len(y_pred)+1)[1:]\n",
    "ids"
   ]
  },
  {
   "cell_type": "code",
   "execution_count": null,
   "metadata": {
    "collapsed": true
   },
   "outputs": [],
   "source": [
    "create_csv_submission(ids, y_pred, 'kaggle_submission.csv')"
   ]
  }
 ],
 "metadata": {
  "kernelspec": {
   "display_name": "Python 3",
   "language": "python",
   "name": "python3"
  },
  "language_info": {
   "codemirror_mode": {
    "name": "ipython",
    "version": 3
   },
   "file_extension": ".py",
   "mimetype": "text/x-python",
   "name": "python",
   "nbconvert_exporter": "python",
   "pygments_lexer": "ipython3",
   "version": "3.6.3"
  }
 },
 "nbformat": 4,
 "nbformat_minor": 2
}
