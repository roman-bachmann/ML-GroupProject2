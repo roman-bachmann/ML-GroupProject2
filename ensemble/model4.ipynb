{
 "cells": [
  {
   "cell_type": "markdown",
   "metadata": {},
   "source": [
    "# Model 4"
   ]
  },
  {
   "cell_type": "code",
   "execution_count": 1,
   "metadata": {},
   "outputs": [],
   "source": [
    "import os \n",
    "import numpy as np\n",
    "\n",
    "from sklearn.model_selection import train_test_split\n",
    "from sklearn.metrics import accuracy_score\n",
    "\n",
    "import gensim\n",
    "import Cython\n",
    "\n",
    "import torch\n",
    "import torch.nn as nn\n",
    "import torch.nn.functional as F\n",
    "from torch.autograd import Variable\n",
    "from torch.utils.data import Dataset, TensorDataset, DataLoader\n",
    "\n",
    "from helpers import *\n",
    "from data import create_csv_submission\n",
    "\n",
    "from sklearn.feature_extraction.text import TfidfVectorizer"
   ]
  },
  {
   "cell_type": "code",
   "execution_count": 2,
   "metadata": {},
   "outputs": [],
   "source": [
    "cuda_available = torch.cuda.is_available()"
   ]
  },
  {
   "cell_type": "markdown",
   "metadata": {},
   "source": [
    "## Step 1: Load tweets"
   ]
  },
  {
   "cell_type": "code",
   "execution_count": 3,
   "metadata": {},
   "outputs": [],
   "source": [
    "DATA_PATH = '../twitter-datasets/'\n",
    "MODEL_PATH = '../models/'\n",
    "\n",
    "#TRAIN_NEG_PATH = os.path.join(DATA_PATH, 'train_neg.txt') # 100'000 negative tweets\n",
    "#TRAIN_POS_PATH = os.path.join(DATA_PATH, 'train_pos.txt') # 100'000 positive tweets\n",
    "TRAIN_NEG_PATH = os.path.join(DATA_PATH, 'train_neg_full.txt') # 2'500'000 negative tweets\n",
    "TRAIN_POS_PATH = os.path.join(DATA_PATH, 'train_pos_full.txt') # 2'500'000 positive tweets\n",
    "TEST_PATH = os.path.join(DATA_PATH, 'test_data.txt')"
   ]
  },
  {
   "cell_type": "code",
   "execution_count": 4,
   "metadata": {},
   "outputs": [],
   "source": [
    "x_text_train, y_train_full = load_data_and_labels(TRAIN_POS_PATH, TRAIN_NEG_PATH)"
   ]
  },
  {
   "cell_type": "code",
   "execution_count": 5,
   "metadata": {},
   "outputs": [],
   "source": [
    "x_text_test = load_test_data(TEST_PATH)"
   ]
  },
  {
   "cell_type": "markdown",
   "metadata": {},
   "source": [
    "## tfidf"
   ]
  },
  {
   "cell_type": "code",
   "execution_count": 6,
   "metadata": {},
   "outputs": [
    {
     "name": "stdout",
     "output_type": "stream",
     "text": [
      "vocab size : 496335\n"
     ]
    }
   ],
   "source": [
    "vectorizer = TfidfVectorizer(analyzer=lambda x: x, min_df=1)\n",
    "matrix = vectorizer.fit_transform([x for x in x_text_train + x_text_test])\n",
    "tfidf = dict(zip(vectorizer.get_feature_names(), vectorizer.idf_))\n",
    "print('vocab size : {}'.format(len(tfidf)))"
   ]
  },
  {
   "cell_type": "markdown",
   "metadata": {},
   "source": [
    "## Step 2: Build word2vec vocabulary"
   ]
  },
  {
   "cell_type": "code",
   "execution_count": 7,
   "metadata": {},
   "outputs": [],
   "source": [
    "vector_length = 100"
   ]
  },
  {
   "cell_type": "code",
   "execution_count": 8,
   "metadata": {},
   "outputs": [],
   "source": [
    "w2v_model = gensim.models.Word2Vec(x_text_train + x_text_test, min_count=1, workers=8, size=vector_length)"
   ]
  },
  {
   "cell_type": "code",
   "execution_count": 9,
   "metadata": {},
   "outputs": [
    {
     "name": "stdout",
     "output_type": "stream",
     "text": [
      "Word2Vec(vocab=433403, size=100, alpha=0.025)\n"
     ]
    }
   ],
   "source": [
    "print(w2v_model)"
   ]
  },
  {
   "cell_type": "code",
   "execution_count": 10,
   "metadata": {},
   "outputs": [],
   "source": [
    "w2v_model.save(MODEL_PATH + 'twitter_w2v_preprocessed.bin')"
   ]
  },
  {
   "cell_type": "code",
   "execution_count": 8,
   "metadata": {},
   "outputs": [],
   "source": [
    "w2v_model = gensim.models.Word2Vec.load(MODEL_PATH + 'twitter_w2v.bin')"
   ]
  },
  {
   "cell_type": "code",
   "execution_count": 9,
   "metadata": {},
   "outputs": [],
   "source": [
    "# When training finished delete the training model but retain the word vectors:\n",
    "word_vectors = w2v_model.wv\n",
    "del w2v_model"
   ]
  },
  {
   "cell_type": "code",
   "execution_count": 10,
   "metadata": {},
   "outputs": [
    {
     "data": {
      "text/plain": [
       "(100,)"
      ]
     },
     "execution_count": 10,
     "metadata": {},
     "output_type": "execute_result"
    }
   ],
   "source": [
    "word_vectors.wv['computer'].shape"
   ]
  },
  {
   "cell_type": "code",
   "execution_count": 11,
   "metadata": {},
   "outputs": [
    {
     "data": {
      "text/plain": [
       "[('internet', 0.708969235420227),\n",
       " ('desktop', 0.6651554107666016),\n",
       " ('calculator', 0.6596795320510864),\n",
       " ('settings', 0.6567735075950623),\n",
       " ('laptop', 0.6565126180648804),\n",
       " ('phone', 0.6472017765045166),\n",
       " ('browser', 0.635584831237793),\n",
       " ('portfolio', 0.6346469521522522),\n",
       " ('wifi', 0.6323057413101196),\n",
       " ('desk', 0.6210508346557617)]"
      ]
     },
     "execution_count": 11,
     "metadata": {},
     "output_type": "execute_result"
    }
   ],
   "source": [
    "word_vectors.most_similar('computer')"
   ]
  },
  {
   "cell_type": "markdown",
   "metadata": {},
   "source": [
    "## Step 3: Convert tweets into sentences of vectors"
   ]
  },
  {
   "cell_type": "code",
   "execution_count": 12,
   "metadata": {
    "scrolled": true
   },
   "outputs": [
    {
     "name": "stdout",
     "output_type": "stream",
     "text": [
      "Maximum sequence length of train and test data: 74\n"
     ]
    }
   ],
   "source": [
    "# Compute the number of words of the longest tweet to get the maximal sentence length\n",
    "sequence_length_train = max(len(x) for x in x_text_train)\n",
    "sequence_length_test = max(len(x) for x in x_text_test)\n",
    "sequence_length = max(sequence_length_train, sequence_length_test)\n",
    "print('Maximum sequence length of train and test data:', sequence_length)\n",
    "\n",
    "x_text_train_pad = pad_sentences(x_text_train, padding_word=\"<PAD/>\", sequence_length=sequence_length)\n",
    "x_text_test_pad = pad_sentences(x_text_test, padding_word=\"<PAD/>\", sequence_length=sequence_length)\n",
    "\n",
    "del x_text_train\n",
    "del x_text_test"
   ]
  },
  {
   "cell_type": "code",
   "execution_count": 13,
   "metadata": {},
   "outputs": [],
   "source": [
    "# Split into training and validation data\n",
    "x_train, x_val, y_train, y_val = train_test_split(x_text_train_pad, y_train_full, test_size=0.01, random_state=42)"
   ]
  },
  {
   "cell_type": "code",
   "execution_count": 14,
   "metadata": {},
   "outputs": [
    {
     "data": {
      "text/plain": [
       "(2475000, 74)"
      ]
     },
     "execution_count": 14,
     "metadata": {},
     "output_type": "execute_result"
    }
   ],
   "source": [
    "len(x_train), len(x_train[0])"
   ]
  },
  {
   "cell_type": "code",
   "execution_count": 15,
   "metadata": {},
   "outputs": [
    {
     "data": {
      "text/plain": [
       "(25000, 74)"
      ]
     },
     "execution_count": 15,
     "metadata": {},
     "output_type": "execute_result"
    }
   ],
   "source": [
    "len(x_val), len(x_val[0])"
   ]
  },
  {
   "cell_type": "code",
   "execution_count": 16,
   "metadata": {},
   "outputs": [],
   "source": [
    "# TODO: SLOW!\n",
    "\n",
    "def get_tweets_tensor(tweets, indices=[], verbose=False):\n",
    "    '''Mapping every word to a vector from word2vec\n",
    "    Padding words are mapped to zero\n",
    "    Leave indices empty to map every tweet in tweets\n",
    "    '''\n",
    "\n",
    "    nb_tweets = len(tweets) if len(indices)==0 else len(indices)\n",
    "    tweets_vec = np.zeros((nb_tweets, len(tweets[0]), vector_length), dtype=np.float32)\n",
    "    \n",
    "    if indices == []:\n",
    "        for idx_t, tweet in enumerate(tweets):\n",
    "            for idx_w, word in enumerate(tweet):\n",
    "                if word != '<PAD/>':\n",
    "                    tweets_vec[idx_t, idx_w] = word_vectors.wv[word] * tfidf[word]\n",
    "            if verbose and idx_t % 100000 == 0:\n",
    "                print('Transformed {}/{} tweets'.format(idx_t+1, (len(x_text_train_pad))))\n",
    "    else:\n",
    "        for idx_t, orig_idx in enumerate(indices):\n",
    "            for idx_w, word in enumerate(tweets[orig_idx]):\n",
    "                if word != '<PAD/>':\n",
    "                    tweets_vec[idx_t, idx_w] = word_vectors.wv[word] * tfidf[word]  \n",
    "            if verbose and idx_t % 100000 == 0:\n",
    "                print('Transformed {}/{} tweets'.format(idx_t+1, (len(x_text_train_pad))))\n",
    "    \n",
    "    return torch.from_numpy(tweets_vec)"
   ]
  },
  {
   "cell_type": "markdown",
   "metadata": {},
   "source": [
    "## Step 4: Classification"
   ]
  },
  {
   "cell_type": "code",
   "execution_count": 17,
   "metadata": {},
   "outputs": [],
   "source": [
    "# Hyper Parameters\n",
    "num_epochs = 3\n",
    "batch_size = 100\n",
    "learning_rate = 0.001"
   ]
  },
  {
   "cell_type": "code",
   "execution_count": 18,
   "metadata": {},
   "outputs": [],
   "source": [
    "class ListDataset(Dataset):\n",
    "    \"\"\"Dataset wrapping data and target lists.\n",
    "\n",
    "    Each sample will be retrieved by indexing both lists along the first\n",
    "    dimension.\n",
    "\n",
    "    Arguments:\n",
    "        data_list (python list): contains sample data.\n",
    "        target_list (python list): contains sample targets (labels).\n",
    "    \"\"\"\n",
    "\n",
    "    def __init__(self, data_list, target_list):\n",
    "        assert len(data_list) == len(target_list)\n",
    "        self.data_list = data_list\n",
    "        self.target_list = target_list\n",
    "\n",
    "    def __getitem__(self, index):\n",
    "        return self.data_list[index], self.target_list[index]\n",
    "\n",
    "    def __len__(self):\n",
    "        return len(self.data_list)"
   ]
  },
  {
   "cell_type": "code",
   "execution_count": 19,
   "metadata": {},
   "outputs": [],
   "source": [
    "train_dataset = ListDataset(x_train, y_train)\n",
    "train_loader = torch.utils.data.DataLoader(dataset=train_dataset,\n",
    "                                           batch_size=batch_size, \n",
    "                                           shuffle=True)"
   ]
  },
  {
   "cell_type": "code",
   "execution_count": 21,
   "metadata": {},
   "outputs": [],
   "source": [
    "# Network hyperparameters\n",
    "N = len(train_loader.dataset.data_list)      # Number of tweets (eg 200000)\n",
    "S = len(train_loader.dataset.data_list[0])   # Number of words in one sentence (eg 50)\n",
    "V = vector_length                            # Length of word vectors (eg 100)\n",
    "K = 3                                        # Kernel width (K*V)\n",
    "C = 256                                      # Number of convolutional filters\n",
    "F = 2                                        # Number of output neurons in fully connected layer\n",
    "\n",
    "class Model4(nn.Module):\n",
    "    def __init__(self):\n",
    "        super(Model4, self).__init__()\n",
    "        self.bn1 = nn.BatchNorm1d(1)\n",
    "        self.conv1 = nn.Conv2d(             # input shape (1, S, V)\n",
    "                in_channels=1,              # input channels\n",
    "                out_channels=C,             # number of filters\n",
    "                kernel_size=(K,V),          # filter size\n",
    "                padding=(K//2,0)               # to keep size S\n",
    "        )                                   # output shape (C, S, 1)\n",
    "        self.relu = nn.ReLU()               # ReLU activation\n",
    "        self.bn = nn.BatchNorm1d(C)\n",
    "        self.max_pool1 = nn.MaxPool1d(2)    # max-pool each filter into S/2 output   \n",
    "        self.conv2 = nn.Conv1d(             # input shape (C, S/2)\n",
    "                in_channels=C,              # input channels\n",
    "                out_channels=C,             # number of filters (one for each input channel)\n",
    "                kernel_size=K,              # filter size\n",
    "                padding=K//2                   # to keep size S/2\n",
    "        )                                   # output shape (C, S/2)\n",
    "        self.max_pool2 = nn.MaxPool1d(int(S/2)) # max pool each filter into 1 output\n",
    "        self.dropout= nn.Dropout(p=0.2)\n",
    "        self.out = nn.Linear(C, F)          # fully connected layer, output F classes\n",
    "        self.softmax = nn.Softmax(dim=1)\n",
    "\n",
    "    def forward(self, x):        \n",
    "        out = x.unsqueeze(1)                \n",
    "        out = self.conv1(out)        \n",
    "        out = self.bn(out)\n",
    "        out = self.relu(out).squeeze(3)        \n",
    "        out = self.dropout(out)\n",
    "        out = self.max_pool1(out)        \n",
    "        out = self.conv2(out)        \n",
    "        out = self.bn(out)\n",
    "        out = self.relu(out)        \n",
    "        out = self.dropout(out)\n",
    "        out = self.max_pool2(out).squeeze(2)        \n",
    "        out = self.out(out)        \n",
    "        out = self.softmax(out)\n",
    "        return out"
   ]
  },
  {
   "cell_type": "code",
   "execution_count": 22,
   "metadata": {},
   "outputs": [
    {
     "name": "stdout",
     "output_type": "stream",
     "text": [
      "Model4(\n",
      "  (bn1): BatchNorm1d(1, eps=1e-05, momentum=0.1, affine=True)\n",
      "  (conv1): Conv2d (1, 256, kernel_size=(3, 100), stride=(1, 1), padding=(1, 0))\n",
      "  (relu): ReLU()\n",
      "  (bn): BatchNorm1d(256, eps=1e-05, momentum=0.1, affine=True)\n",
      "  (max_pool1): MaxPool1d(kernel_size=2, stride=2, padding=0, dilation=1, ceil_mode=False)\n",
      "  (conv2): Conv1d (256, 256, kernel_size=(3,), stride=(1,), padding=(1,))\n",
      "  (max_pool2): MaxPool1d(kernel_size=37, stride=37, padding=0, dilation=1, ceil_mode=False)\n",
      "  (dropout): Dropout(p=0.2)\n",
      "  (out): Linear(in_features=256, out_features=2)\n",
      "  (softmax): Softmax()\n",
      ")\n"
     ]
    }
   ],
   "source": [
    "cnn = Model4()\n",
    "if torch.cuda.is_available():\n",
    "    cnn.cuda()\n",
    "print(cnn)  # net architecture"
   ]
  },
  {
   "cell_type": "code",
   "execution_count": 23,
   "metadata": {},
   "outputs": [],
   "source": [
    "optimizer = torch.optim.Adam(cnn.parameters(), lr=learning_rate)   # optimize all cnn parameters\n",
    "if torch.cuda.is_available():\n",
    "    loss_func = nn.CrossEntropyLoss().cuda()                                  # the target label is not one-hotted\n",
    "else:\n",
    "    loss_func = nn.CrossEntropyLoss()"
   ]
  },
  {
   "cell_type": "code",
   "execution_count": 24,
   "metadata": {
    "scrolled": false
   },
   "outputs": [
    {
     "name": "stdout",
     "output_type": "stream",
     "text": [
      "Epoch [1/3], Iter [1000/24750] Loss: 0.4858\n",
      "Epoch [1/3], Iter [2000/24750] Loss: 0.5104\n",
      "Epoch [1/3], Iter [3000/24750] Loss: 0.4586\n",
      "Epoch [1/3], Iter [4000/24750] Loss: 0.4572\n",
      "Epoch [1/3], Iter [5000/24750] Loss: 0.4990\n",
      "Epoch [1/3], Iter [6000/24750] Loss: 0.3994\n",
      "Epoch [1/3], Iter [7000/24750] Loss: 0.5217\n",
      "Epoch [1/3], Iter [8000/24750] Loss: 0.4135\n",
      "Epoch [1/3], Iter [9000/24750] Loss: 0.4457\n",
      "Epoch [1/3], Iter [10000/24750] Loss: 0.5316\n",
      "Epoch [1/3], Iter [11000/24750] Loss: 0.4600\n",
      "Epoch [1/3], Iter [12000/24750] Loss: 0.4674\n",
      "Epoch [1/3], Iter [13000/24750] Loss: 0.4056\n",
      "Epoch [1/3], Iter [14000/24750] Loss: 0.4205\n",
      "Epoch [1/3], Iter [15000/24750] Loss: 0.4388\n",
      "Epoch [1/3], Iter [16000/24750] Loss: 0.4622\n",
      "Epoch [1/3], Iter [17000/24750] Loss: 0.4367\n",
      "Epoch [1/3], Iter [18000/24750] Loss: 0.4236\n",
      "Epoch [1/3], Iter [19000/24750] Loss: 0.4627\n",
      "Epoch [1/3], Iter [20000/24750] Loss: 0.4879\n",
      "Epoch [1/3], Iter [21000/24750] Loss: 0.4587\n",
      "Epoch [1/3], Iter [22000/24750] Loss: 0.4774\n",
      "Epoch [1/3], Iter [23000/24750] Loss: 0.4132\n",
      "Epoch [1/3], Iter [24000/24750] Loss: 0.5048\n",
      "Epoch [2/3], Iter [1000/24750] Loss: 0.4606\n",
      "Epoch [2/3], Iter [2000/24750] Loss: 0.4556\n",
      "Epoch [2/3], Iter [3000/24750] Loss: 0.5108\n",
      "Epoch [2/3], Iter [4000/24750] Loss: 0.4712\n",
      "Epoch [2/3], Iter [5000/24750] Loss: 0.4096\n",
      "Epoch [2/3], Iter [6000/24750] Loss: 0.4313\n",
      "Epoch [2/3], Iter [7000/24750] Loss: 0.4743\n",
      "Epoch [2/3], Iter [8000/24750] Loss: 0.4288\n",
      "Epoch [2/3], Iter [9000/24750] Loss: 0.4028\n",
      "Epoch [2/3], Iter [10000/24750] Loss: 0.4662\n",
      "Epoch [2/3], Iter [11000/24750] Loss: 0.4343\n",
      "Epoch [2/3], Iter [12000/24750] Loss: 0.4601\n",
      "Epoch [2/3], Iter [13000/24750] Loss: 0.4741\n",
      "Epoch [2/3], Iter [14000/24750] Loss: 0.4523\n",
      "Epoch [2/3], Iter [15000/24750] Loss: 0.4699\n",
      "Epoch [2/3], Iter [16000/24750] Loss: 0.5054\n",
      "Epoch [2/3], Iter [17000/24750] Loss: 0.4915\n",
      "Epoch [2/3], Iter [18000/24750] Loss: 0.4287\n",
      "Epoch [2/3], Iter [19000/24750] Loss: 0.4592\n",
      "Epoch [2/3], Iter [20000/24750] Loss: 0.4277\n",
      "Epoch [2/3], Iter [21000/24750] Loss: 0.4723\n",
      "Epoch [2/3], Iter [22000/24750] Loss: 0.4235\n",
      "Epoch [2/3], Iter [23000/24750] Loss: 0.4721\n",
      "Epoch [2/3], Iter [24000/24750] Loss: 0.4733\n",
      "Epoch [3/3], Iter [1000/24750] Loss: 0.4473\n",
      "Epoch [3/3], Iter [2000/24750] Loss: 0.4343\n",
      "Epoch [3/3], Iter [3000/24750] Loss: 0.4181\n",
      "Epoch [3/3], Iter [4000/24750] Loss: 0.4819\n",
      "Epoch [3/3], Iter [5000/24750] Loss: 0.4980\n",
      "Epoch [3/3], Iter [6000/24750] Loss: 0.4948\n",
      "Epoch [3/3], Iter [7000/24750] Loss: 0.4262\n",
      "Epoch [3/3], Iter [8000/24750] Loss: 0.4695\n",
      "Epoch [3/3], Iter [9000/24750] Loss: 0.4671\n",
      "Epoch [3/3], Iter [10000/24750] Loss: 0.4300\n",
      "Epoch [3/3], Iter [11000/24750] Loss: 0.4296\n",
      "Epoch [3/3], Iter [12000/24750] Loss: 0.4217\n",
      "Epoch [3/3], Iter [13000/24750] Loss: 0.4203\n",
      "Epoch [3/3], Iter [14000/24750] Loss: 0.4829\n",
      "Epoch [3/3], Iter [15000/24750] Loss: 0.4062\n",
      "Epoch [3/3], Iter [16000/24750] Loss: 0.4173\n",
      "Epoch [3/3], Iter [17000/24750] Loss: 0.4421\n",
      "Epoch [3/3], Iter [18000/24750] Loss: 0.4297\n",
      "Epoch [3/3], Iter [19000/24750] Loss: 0.5175\n",
      "Epoch [3/3], Iter [20000/24750] Loss: 0.4386\n",
      "Epoch [3/3], Iter [21000/24750] Loss: 0.4558\n",
      "Epoch [3/3], Iter [22000/24750] Loss: 0.4520\n",
      "Epoch [3/3], Iter [23000/24750] Loss: 0.3976\n",
      "Epoch [3/3], Iter [24000/24750] Loss: 0.4452\n",
      "Finished Training\n"
     ]
    }
   ],
   "source": [
    "cnn.train()\n",
    "\n",
    "for epoch in range(num_epochs):  # loop over the dataset multiple times \n",
    "    for i, batch_indices in enumerate(train_loader.batch_sampler):   # iterate over mini-batches  \n",
    "        # Converting tweets to vectors and storing it in a variable\n",
    "        sentences = get_tweets_tensor(train_loader.dataset.data_list, batch_indices, verbose=False)\n",
    "        if torch.cuda.is_available():\n",
    "            sentences = sentences.cuda()\n",
    "        x = Variable(sentences)\n",
    "        \n",
    "        # Converting labels to a variable\n",
    "        labels = torch.from_numpy(train_loader.dataset.target_list[batch_indices])\n",
    "        if torch.cuda.is_available():\n",
    "            labels = labels.cuda()\n",
    "        y = Variable(labels, requires_grad=False)\n",
    "        \n",
    "        # Forward + Backward + Optimize\n",
    "        optimizer.zero_grad() # reset gradient\n",
    "        outputs = cnn(x) # cnn output\n",
    "        loss = loss_func(outputs, y) # clear gradients for this training step\n",
    "        loss.backward() # backpropagation, compute gradients\n",
    "        optimizer.step() # apply gradients\n",
    "        \n",
    "        if (i+1) % 1000 == 0:\n",
    "            print('Epoch [%d/%d], Iter [%d/%d] Loss: %.4f' \n",
    "                  %(epoch+1, num_epochs, i+1, len(train_dataset)//batch_size, loss.data[0]))\n",
    "\n",
    "print('Finished Training')"
   ]
  },
  {
   "cell_type": "code",
   "execution_count": 25,
   "metadata": {
    "scrolled": true
   },
   "outputs": [
    {
     "name": "stdout",
     "output_type": "stream",
     "text": [
      "Validation accuracy: 0.77364\n"
     ]
    }
   ],
   "source": [
    "# Evaluate accuracy of predictions from validation data\n",
    "cnn.eval()\n",
    "accuracy = 0\n",
    "nb_steps = 0\n",
    "\n",
    "step_size = 100\n",
    "for i in range(0, 25000, step_size):\n",
    "    val_output = cnn(Variable(get_tweets_tensor(x_val[i:i+step_size]).cuda()))\n",
    "    y_val_pred = torch.max(val_output.cpu(), 1)[1].data.numpy().squeeze()\n",
    "    accuracy += accuracy_score(y_val[i:i+step_size], y_val_pred)\n",
    "    nb_steps += 1\n",
    "\n",
    "print('Validation accuracy:', accuracy/nb_steps)"
   ]
  },
  {
   "cell_type": "markdown",
   "metadata": {},
   "source": [
    "## Step 5: Make predictions for test data and save"
   ]
  },
  {
   "cell_type": "code",
   "execution_count": 26,
   "metadata": {},
   "outputs": [
    {
     "data": {
      "text/plain": [
       "Model4(\n",
       "  (bn1): BatchNorm1d(1, eps=1e-05, momentum=0.1, affine=True)\n",
       "  (conv1): Conv2d (1, 256, kernel_size=(3, 100), stride=(1, 1), padding=(1, 0))\n",
       "  (relu): ReLU()\n",
       "  (bn): BatchNorm1d(256, eps=1e-05, momentum=0.1, affine=True)\n",
       "  (max_pool1): MaxPool1d(kernel_size=2, stride=2, padding=0, dilation=1, ceil_mode=False)\n",
       "  (conv2): Conv1d (256, 256, kernel_size=(3,), stride=(1,), padding=(1,))\n",
       "  (max_pool2): MaxPool1d(kernel_size=37, stride=37, padding=0, dilation=1, ceil_mode=False)\n",
       "  (dropout): Dropout(p=0.2)\n",
       "  (out): Linear(in_features=256, out_features=2)\n",
       "  (softmax): Softmax()\n",
       ")"
      ]
     },
     "execution_count": 26,
     "metadata": {},
     "output_type": "execute_result"
    }
   ],
   "source": [
    "cnn.cpu()"
   ]
  },
  {
   "cell_type": "code",
   "execution_count": 27,
   "metadata": {},
   "outputs": [
    {
     "name": "stderr",
     "output_type": "stream",
     "text": [
      "/home/roman/miniconda3/envs/ml/lib/python3.6/site-packages/torch/serialization.py:158: UserWarning: Couldn't retrieve source code for container of type Model4. It won't be checked for correctness upon loading.\n",
      "  \"type \" + obj.__name__ + \". It won't be checked \"\n"
     ]
    }
   ],
   "source": [
    "torch.save(cnn, './model4.pth')"
   ]
  },
  {
   "cell_type": "code",
   "execution_count": null,
   "metadata": {},
   "outputs": [],
   "source": [
    "test_output = cnn(Variable(get_tweets_tensor(x_text_test_pad, verbose=False)))\n",
    "y_pred = torch.max(test_output, 1)[1].data.numpy().squeeze()"
   ]
  },
  {
   "cell_type": "code",
   "execution_count": null,
   "metadata": {},
   "outputs": [],
   "source": [
    "y_pred[y_pred == 0] = -1\n",
    "y_pred"
   ]
  },
  {
   "cell_type": "code",
   "execution_count": null,
   "metadata": {},
   "outputs": [],
   "source": [
    "ids = np.arange(len(y_pred)+1)[1:]\n",
    "ids"
   ]
  },
  {
   "cell_type": "code",
   "execution_count": null,
   "metadata": {},
   "outputs": [],
   "source": [
    "create_csv_submission(ids, y_pred, 'kaggle_submission.csv')"
   ]
  },
  {
   "cell_type": "code",
   "execution_count": null,
   "metadata": {},
   "outputs": [],
   "source": []
  }
 ],
 "metadata": {
  "kernelspec": {
   "display_name": "Python 3",
   "language": "python",
   "name": "python3"
  },
  "language_info": {
   "codemirror_mode": {
    "name": "ipython",
    "version": 3
   },
   "file_extension": ".py",
   "mimetype": "text/x-python",
   "name": "python",
   "nbconvert_exporter": "python",
   "pygments_lexer": "ipython3",
   "version": "3.6.3"
  }
 },
 "nbformat": 4,
 "nbformat_minor": 2
}
